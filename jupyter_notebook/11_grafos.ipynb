{
 "cells": [
  {
   "attachments": {},
   "cell_type": "markdown",
   "metadata": {},
   "source": [
    "### Grafos"
   ]
  },
  {
   "cell_type": "code",
   "execution_count": 1,
   "metadata": {},
   "outputs": [],
   "source": [
    "class Graph:\n",
    "    \"\"\" ESTRUTURA DE DADOS GRAFO\n",
    "\n",
    "    É uma estrutura de dados não-linear, formada por vértices (ou nodos) e arestas (ou arcos).\n",
    "    Sua principal finalidade é representar as relações entre diferentes objetos.\n",
    "    Tais relações podem ser bidirecionais, resultando em grafos não direcionados, ou unidirecionais, constituindo grafos direcionados (digrafos).\n",
    "    Tem várias aplicações, como a representação de redes de computadores, mapas e caminhos e redes sociais. \"\"\"\n",
    "\n",
    "    def __init__(self, is_directed = False):\n",
    "        \"\"\" Método construtor \"\"\"\n",
    "        self.__is_directed = is_directed\n",
    "\n",
    "        # __data armazenará o grafo no formato de LISTA DE ADJACÊNCIA\n",
    "        self.__data = {}    # Dicionário vazio\n",
    "\n",
    "    def add_vertex(self, val):\n",
    "        \"\"\" Método que adiciona um vértice ao grafo \"\"\"\n",
    "        # Verifica se o vértice já existe no dicionário. Só cria se o vértice não existir ainda\n",
    "        if not val in self.__data:\n",
    "            self.__data[val] = set()    # Conjunto vazio\n",
    "\n",
    "    def add_edge(self, origin, dest, rel = None):\n",
    "        \"\"\" Método que adiciona uma aresta entre dois vértices\n",
    "\n",
    "        origin: vértice de origem\n",
    "        dest: vértice de destino\n",
    "        rel: nome do relacionamento (opcional) \"\"\"\n",
    "\n",
    "        # Cria os vértices de origem e destino, caso não existam ainda\n",
    "        if not origin in self.__data: self.add_vertex(origin)\n",
    "        if not dest in self.__data: self.add_vertex(dest)\n",
    "\n",
    "        # Monta a aresta\n",
    "        edge1 = (dest, rel)     # Isto é uma tupla (\"lista imutável\")\n",
    "\n",
    "        # Adiciona a relação origem->destino\n",
    "        self.__data[origin].add(edge1)\n",
    "\n",
    "        # Se o grafo não for direcionado, adicionamos também a relação no sentido oposto, isto é, destino->origem\n",
    "        if not self.__is_directed:\n",
    "            edge2 = (origin, rel)   # Tupla\n",
    "            self.__data[dest].add(edge2)\n",
    "\n",
    "    def degree(self, vertex):\n",
    "        \"\"\" Método que retorna o grau (número de vértices adjacentes) de um vértice \"\"\"\n",
    "\n",
    "        result = 0\n",
    "        # GRAU DE SAÍDA (OUT-DEGREE)\n",
    "        # É determinado contando-se o número de arestas associadas à entrada de dicionário correspondente ao vértice\n",
    "        if vertex in self.__data: result = len(self.__data[vertex])\n",
    "\n",
    "        # GRAU DE ENTRADA (IN-DEGREE)\n",
    "        # É determinado procurando-se referências ao vértice nas arestas associadas a todos os vértices do dicionário\n",
    "        for v in self.__data.keys():    # Percorre o dicionário (vértices)\n",
    "            for e in self.__data[v]:    # Percorre os conjuntos (arestas)\n",
    "                if vertex == e[0]: result += 1\n",
    "\n",
    "        # O grau final é a soma dos graus de entrada e de saída\n",
    "        return result\n",
    "\n",
    "    def remove_vertex(self, vertex):\n",
    "        \"\"\" Método que exclui um vértice do grafo\n",
    "        (Para que um vértice possa ser excluído, ele não pode ter arestas incidentes, ou seja, seu grau deve ser 0, nem ser referenciado por outros vértices) \"\"\"\n",
    "\n",
    "        if self.degree(vertex) != 0:\n",
    "            raise Exception(\"ERRO: impossível remover um vértice com arestas incidentes a ele.\")\n",
    "        # Vértice de grau 0, podemos excluir, caso exista no dicionário\n",
    "        elif vertex in self.__data: del self.__data[vertex]\n",
    "\n",
    "    def remove_edge(self, origin, dest, rel = None):\n",
    "        \"\"\" Método que remove uma aresta do grafo \"\"\"\n",
    "        \n",
    "        edge1 = (dest, rel)\n",
    "        # Retira a tupla edge1 do conjunto de arestas do vértice de origem\n",
    "        self.__data[origin].discard(edge1)\n",
    "\n",
    "        # Se o grafo não for direcionado, precisamos remover também a aresta em sentido contrário\n",
    "        if not self.__is_directed:\n",
    "            edge2 = (origin, rel)\n",
    "            self.__data[dest].discard(edge2)\n",
    "\n",
    "    def __str__(self):\n",
    "        \"\"\" Método que representa o grafo como uma string \"\"\"\n",
    "        output = str(self.__data)\n",
    "        output += f\"\\nis_directed: {self.__is_directed}\\n\"\n",
    "        return output"
   ]
  },
  {
   "attachments": {},
   "cell_type": "markdown",
   "metadata": {},
   "source": [
    "#### Uso de grafo não direcionado"
   ]
  },
  {
   "cell_type": "code",
   "execution_count": 2,
   "metadata": {},
   "outputs": [
    {
     "name": "stdout",
     "output_type": "stream",
     "text": [
      "{}\n",
      "is_directed: False\n",
      "\n"
     ]
    }
   ],
   "source": [
    "estradas = Graph()  # Não direcionado, por padrão\n",
    "print(estradas)"
   ]
  },
  {
   "cell_type": "code",
   "execution_count": 3,
   "metadata": {},
   "outputs": [
    {
     "name": "stdout",
     "output_type": "stream",
     "text": [
      "{'Franca': set()}\n",
      "is_directed: False\n",
      "\n",
      "Grau Franca (a): 0\n"
     ]
    }
   ],
   "source": [
    "estradas.add_vertex(\"Franca\")\n",
    "print(estradas)\n",
    "print(f\"Grau Franca (a): {estradas.degree('Franca')}\")"
   ]
  },
  {
   "cell_type": "code",
   "execution_count": 4,
   "metadata": {},
   "outputs": [
    {
     "name": "stdout",
     "output_type": "stream",
     "text": [
      "{'Franca': {('Batatais', 'Rod. Candido Portinari')}, 'Batatais': {('Franca', 'Rod. Candido Portinari')}}\n",
      "is_directed: False\n",
      "\n",
      "Grau Franca (b): 2\n"
     ]
    }
   ],
   "source": [
    "estradas.add_edge(\"Franca\", \"Batatais\", \"Rod. Candido Portinari\")\n",
    "print(estradas)\n",
    "print(f\"Grau Franca (b): {estradas.degree('Franca')}\")"
   ]
  },
  {
   "cell_type": "code",
   "execution_count": 5,
   "metadata": {},
   "outputs": [
    {
     "name": "stdout",
     "output_type": "stream",
     "text": [
      "{'Franca': {('Restinga', None), ('Batatais', 'Rod. Candido Portinari')}, 'Batatais': {('Franca', 'Rod. Candido Portinari')}, 'Restinga': {('Franca', None)}}\n",
      "is_directed: False\n",
      "\n",
      "Grau Franca (c): 4\n"
     ]
    }
   ],
   "source": [
    "estradas.add_edge(\"Franca\", \"Restinga\")\n",
    "print(estradas)\n",
    "print(f\"Grau Franca (c): {estradas.degree('Franca')}\")"
   ]
  },
  {
   "attachments": {},
   "cell_type": "markdown",
   "metadata": {},
   "source": [
    "##### Remoção da aresta Batatais <-> Franca"
   ]
  },
  {
   "cell_type": "code",
   "execution_count": 6,
   "metadata": {},
   "outputs": [
    {
     "name": "stdout",
     "output_type": "stream",
     "text": [
      "{'Franca': {('Restinga', None)}, 'Batatais': set(), 'Restinga': {('Franca', None)}}\n",
      "is_directed: False\n",
      "\n"
     ]
    }
   ],
   "source": [
    "estradas.remove_edge(\"Batatais\", \"Franca\", \"Rod. Candido Portinari\")\n",
    "print(estradas)"
   ]
  },
  {
   "attachments": {},
   "cell_type": "markdown",
   "metadata": {},
   "source": [
    "##### Tentativa de apagar o vértice \"Batatais\""
   ]
  },
  {
   "cell_type": "code",
   "execution_count": 7,
   "metadata": {},
   "outputs": [
    {
     "name": "stdout",
     "output_type": "stream",
     "text": [
      "{'Franca': {('Restinga', None)}, 'Restinga': {('Franca', None)}}\n",
      "is_directed: False\n",
      "\n"
     ]
    }
   ],
   "source": [
    "estradas.remove_vertex(\"Batatais\")\n",
    "print(estradas)"
   ]
  },
  {
   "attachments": {},
   "cell_type": "markdown",
   "metadata": {},
   "source": [
    "#### Uso de grafo direcionado"
   ]
  },
  {
   "cell_type": "code",
   "execution_count": 8,
   "metadata": {},
   "outputs": [
    {
     "name": "stdout",
     "output_type": "stream",
     "text": [
      "{'Temístocles': {('Gercina', 'marido de')}, 'Gercina': {('Temístocles', 'esposa de')}}\n",
      "is_directed: True\n",
      "\n"
     ]
    }
   ],
   "source": [
    "familia = Graph(True)   # Grafo direcionado\n",
    "\n",
    "familia.add_edge(\"Temístocles\", \"Gercina\", \"marido de\")\n",
    "familia.add_edge(\"Gercina\", \"Temístocles\", \"esposa de\")\n",
    "print(familia)"
   ]
  },
  {
   "cell_type": "code",
   "execution_count": 9,
   "metadata": {},
   "outputs": [
    {
     "name": "stdout",
     "output_type": "stream",
     "text": [
      "{'Temístocles': {('Gercina', 'marido de'), ('Jerusa', 'pai de')}, 'Gercina': {('Temístocles', 'esposa de'), ('Jerusa', 'mãe de')}, 'Jerusa': {('Temístocles', 'filha de'), ('Gercina', 'filha de')}}\n",
      "is_directed: True\n",
      "\n"
     ]
    }
   ],
   "source": [
    "familia.add_edge(\"Jerusa\", \"Temístocles\", \"filha de\")\n",
    "familia.add_edge(\"Jerusa\", \"Gercina\", \"filha de\")\n",
    "familia.add_edge(\"Temístocles\", \"Jerusa\", \"pai de\")\n",
    "familia.add_edge(\"Gercina\", \"Jerusa\", \"mãe de\")\n",
    "print(familia)"
   ]
  }
 ],
 "metadata": {
  "kernelspec": {
   "display_name": "Python 3",
   "language": "python",
   "name": "python3"
  },
  "language_info": {
   "codemirror_mode": {
    "name": "ipython",
    "version": 3
   },
   "file_extension": ".py",
   "mimetype": "text/x-python",
   "name": "python",
   "nbconvert_exporter": "python",
   "pygments_lexer": "ipython3",
   "version": "3.11.2"
  },
  "orig_nbformat": 4
 },
 "nbformat": 4,
 "nbformat_minor": 2
}
