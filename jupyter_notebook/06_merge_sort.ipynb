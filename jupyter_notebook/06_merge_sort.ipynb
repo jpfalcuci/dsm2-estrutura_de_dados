{
 "cells": [
  {
   "cell_type": "code",
   "execution_count": 1,
   "metadata": {},
   "outputs": [],
   "source": [
    "import tracemalloc              # Biblioteca para medir o consumo de memória\n",
    "import sys\n",
    "sys.dont_write_bytecode = True  # Impede a criação do cache\n",
    "from time import time\n",
    "from data.nomes_desord import nomes"
   ]
  },
  {
   "attachments": {},
   "cell_type": "markdown",
   "metadata": {},
   "source": [
    "### Merge Sort"
   ]
  },
  {
   "cell_type": "code",
   "execution_count": 2,
   "metadata": {},
   "outputs": [],
   "source": [
    "\"\"\" \n",
    "    ALGORÍTMO DE ORDENAÇÃO MERGE SORT\n",
    "\n",
    "    No processo de ordenação, esse algoritmo \"desmonta\" a lista original, contendo N elementos, até obter N listas com apenas um elemento cada uma.\n",
    "    Em seguida, usando a técnica de mesclagem (merge), \"remonta\" a lista, desta vez com os elementos já em ordem.\n",
    "\"\"\"\n",
    "\n",
    "# Variáveis de estatísticas\n",
    "divs = juncs = comps = 0\n",
    "\n",
    "def merge_sort(lista):\n",
    "\n",
    "    global divs, juncs, comps\n",
    "\n",
    "    # Para que possa haver divisão da lista, esta deve ter mais de um elemento\n",
    "    if len(lista) > 1:\n",
    "        \n",
    "        # Encontra a posição do meio da lista, para fazer a divisão em duas metades\n",
    "        meio = len(lista) // 2\n",
    "\n",
    "        # Tira uma cópia de cada metade da lista\n",
    "        sublista_esq = lista[:meio]\n",
    "        sublista_dir = lista[meio:]\n",
    "        divs += 1   # Número de divisões\n",
    "\n",
    "        # Chamamos recursivamente a função para que ela continue repartindo cada uma das sublistas em duas partes menores\n",
    "        sublista_esq = merge_sort(sublista_esq)\n",
    "        sublista_dir = merge_sort(sublista_dir)\n",
    "\n",
    "        # AQUI COMEÇA A MESCLAGEM ORDENADA DAS DUAS SUBLISTAS\n",
    "        pos_esq = pos_dir = 0\n",
    "        ordenada = []   # Lista vazia\n",
    "\n",
    "        # Compara os elementos das sublistas entre si e insere na lista ordenada o menor entre dois elementos\n",
    "        while pos_esq < len(sublista_esq) and pos_dir < len(sublista_dir):\n",
    "            # O menor elemento está na sublista da esquerda\n",
    "            comps += 1  # Número de comparações\n",
    "            if sublista_esq[pos_esq] < sublista_dir[pos_dir]:\n",
    "                # 'Desce' o elemento da esquerda para a lista ordenada\n",
    "                ordenada.append(sublista_esq[pos_esq])\n",
    "                pos_esq += 1    # Incrementa pos_esq\n",
    "            # O menor elemento está na sublista da direita\n",
    "            else:\n",
    "                # 'Desce' o elemento da direita para a sublista ordenada\n",
    "                ordenada.append(sublista_dir[pos_dir])\n",
    "                pos_dir += 1    # Incrementa pos_dir\n",
    "        \n",
    "        # Verificação da sobra\n",
    "        sobra = []      # Lista vazia\n",
    "\n",
    "        # Sobra à esquerda\n",
    "        if(pos_esq < pos_dir): sobra = sublista_esq[pos_esq:]\n",
    "        # Sobra à direita\n",
    "        else: sobra = sublista_dir[pos_dir:]\n",
    "\n",
    "        juncs += 1  # Número de junções\n",
    "\n",
    "        # O resultado final é a junção (concatenação) da lista ordenada com a sobra\n",
    "        return ordenada + sobra\n",
    "    \n",
    "    else: return lista"
   ]
  },
  {
   "attachments": {},
   "cell_type": "markdown",
   "metadata": {},
   "source": [
    "#### Teste com vetores de 10 números"
   ]
  },
  {
   "cell_type": "code",
   "execution_count": 3,
   "metadata": {},
   "outputs": [
    {
     "name": "stdout",
     "output_type": "stream",
     "text": [
      "Lista original: [6, 4, 2, 0, 9, 5, 1, 8, 3, 7]\n",
      "Lista ordenada: [0, 1, 2, 3, 4, 5, 6, 7, 8, 9]\n",
      "Divisões: 9, junções: 9, comparações: 24\n"
     ]
    }
   ],
   "source": [
    "nums = [6, 4, 2, 0, 9, 5, 1, 8, 3, 7]\n",
    "divs = juncs = comps = 0    # Reseta as variáveis de estatísticas\n",
    "resultado = merge_sort(nums)\n",
    "print(\"Lista original:\", nums)\n",
    "print(\"Lista ordenada:\", resultado)\n",
    "print(f\"Divisões: {divs}, junções: {juncs}, comparações: {comps}\")"
   ]
  },
  {
   "cell_type": "code",
   "execution_count": 4,
   "metadata": {},
   "outputs": [
    {
     "name": "stdout",
     "output_type": "stream",
     "text": [
      "Lista original: [9, 0, 8, 1, 7, 2, 6, 3, 5, 4]\n",
      "Lista ordenada: [0, 1, 2, 3, 4, 5, 6, 7, 8, 9]\n",
      "Divisões: 9, junções: 9, comparações: 22\n"
     ]
    }
   ],
   "source": [
    "nums = [9, 0, 8, 1, 7, 2, 6, 3, 5, 4]\n",
    "divs = juncs = comps = 0    # Reseta as variáveis de estatísticas\n",
    "resultado = merge_sort(nums)\n",
    "print(\"Lista original:\", nums)\n",
    "print(\"Lista ordenada:\", resultado)\n",
    "print(f\"Divisões: {divs}, junções: {juncs}, comparações: {comps}\")"
   ]
  },
  {
   "attachments": {},
   "cell_type": "markdown",
   "metadata": {},
   "source": [
    "#### Teste com nomes"
   ]
  },
  {
   "cell_type": "code",
   "execution_count": 5,
   "metadata": {},
   "outputs": [
    {
     "name": "stdout",
     "output_type": "stream",
     "text": [
      "Tempo gasto: 7424.51ms\n",
      "Pico de memória: 2.402 MB\n",
      "Nomes (100k) - Divisões: 100786, junções: 100786, comparações: 1549342\n"
     ]
    }
   ],
   "source": [
    "nomes_merge = nomes[:]\n",
    "\n",
    "divs = juncs = comps = 0\n",
    "tracemalloc.start() # Inicia a medição de memória\n",
    "hora_ini = time()\n",
    "resultado = merge_sort(nomes_merge)\n",
    "hora_fim = time()\n",
    "\n",
    "# Captura as informações de gasto de memória\n",
    "mem_atual, mem_pico = tracemalloc.get_traced_memory()\n",
    "tracemalloc.stop()\n",
    "\n",
    "# print(\"Nomes ordenados: \", resultado)\n",
    "print(f'Tempo gasto: {round((hora_fim - hora_ini) * 1000, 2)}ms')\n",
    "print(f'Pico de memória: {round(mem_pico / 1024 / 1024, 3)} MB')\n",
    "print(f\"Nomes (100k) - Divisões: {divs}, junções: {juncs}, comparações: {comps}\")"
   ]
  },
  {
   "attachments": {},
   "cell_type": "markdown",
   "metadata": {},
   "source": [
    "### Merge Sort Iterativo"
   ]
  },
  {
   "cell_type": "code",
   "execution_count": 6,
   "metadata": {},
   "outputs": [],
   "source": [
    "# Variáveis de estatísticas\n",
    "divs = juncs = comps = 0\n",
    "\n",
    "def merge_sort(lista):\n",
    "    \"\"\"\n",
    "        Função que implementa o algoritmo Merge Sort de forma ITERATIVA\n",
    "    \"\"\"\n",
    "\n",
    "    global divs, juncs, comps\n",
    "\n",
    "    # Inicia com o menor tamanho de partição de 2^0 = 1\n",
    "    tam_part = 1\n",
    "    n = len(lista)  # Obtém o tamanho da lista\n",
    "    \n",
    "    # O tamanho da sublista cresce em potências de 2\n",
    "    while (tam_part < n):   # enquanto o tamanho da partição for menor que o tamanho da lista\n",
    "        # Inicia sempre pela esquerda\n",
    "        esq = 0\n",
    "        while (esq < n):    # enquanto a posição da esquerda for menor que o tamanho da lista\n",
    "            dir = min(esq + (tam_part * 2 - 1), n - 1)  # define a posição da direita como a menor entre esq+(2*tam_part-1) e n-1\n",
    "            meio = (esq + dir) // 2 # define a posição do meio como a média entre esq e dir, arredondada para baixo\n",
    "\n",
    "            # print(f\"esq: {esq}, dir: {dir}, meio: {meio}\")\n",
    "\n",
    "            # A mescla final deve considerar sublistas não mescladas se o tamanho da lista original não for potência de 2\n",
    "            comps += 1\n",
    "            if (tam_part > n // 2):             # se o tamanho da partição for maior que o tamanho da lista / 2\n",
    "                meio = dir  - (n % tam_part)    # ajusta a posição do meio para levar em conta sub-listas não mescladas\n",
    "            \n",
    "            # Divide a lista em duas sublistas\n",
    "            tam_esq = meio - esq + 1\n",
    "            tam_dir = dir - meio\n",
    "            lista_esq = [0] * tam_esq   # Vetor auxiliar\n",
    "            lista_dir = [0] * tam_dir   # Vetor auxiliar\n",
    "\n",
    "            # Copia os elementos da sublista esquerda e da sublista direita para suas respectivas listas auxiliares\n",
    "            for pos_esq in range(0, tam_esq):\n",
    "                lista_esq[pos_esq] = lista[esq + pos_esq]\n",
    "            for pos_esq in range(0, tam_dir):\n",
    "                lista_dir[pos_esq] = lista[meio + pos_esq + 1]\n",
    "\n",
    "            # Realiza a junção das duas sublistas em ordem crescente\n",
    "            pos_esq, pos_dir, i = 0, 0, esq     # inicializa as variáveis de posição da sublista da esquerda, direita e da lista original\n",
    "            while pos_esq < tam_esq and pos_dir < tam_dir:  # enquanto houver elementos nas duas sublistas\n",
    "                comps += 1\n",
    "                if lista_esq[pos_esq] > lista_dir[pos_dir]:\n",
    "                    lista[i] = lista_dir[pos_dir]\n",
    "                    pos_dir += 1\n",
    "                else:\n",
    "                    lista[i] = lista_esq[pos_esq]\n",
    "                    pos_esq += 1\n",
    "                i += 1\n",
    "\n",
    "            # Insere o restante da sub-lista esquerda, se houver\n",
    "            while pos_esq < tam_esq:\n",
    "                lista[i] = lista_esq[pos_esq]\n",
    "                pos_esq += 1\n",
    "                i += 1\n",
    "\n",
    "            # Insere o restante da sub-lista direita, se houver\n",
    "            while pos_dir < tam_dir:\n",
    "                lista[i] = lista_dir[pos_dir]\n",
    "                pos_dir += 1\n",
    "                i += 1\n",
    "\n",
    "            esq += tam_part * 2 # Move o ponteiro esquerdo para a próxima sub-lista\n",
    "            juncs += 1\n",
    "\n",
    "        # Incrementa a sublista em potências de 2\n",
    "        tam_part *= 2\n",
    "\n",
    "        divs += 1\n",
    "\n",
    "    return lista"
   ]
  },
  {
   "attachments": {},
   "cell_type": "markdown",
   "metadata": {},
   "source": [
    "#### Teste com vetores de 10 números"
   ]
  },
  {
   "cell_type": "code",
   "execution_count": 7,
   "metadata": {},
   "outputs": [
    {
     "name": "stdout",
     "output_type": "stream",
     "text": [
      "Lista original: [6, 4, 2, 0, 9, 5, 1, 8, 3, 7]\n",
      "Lista ordenada: [0, 1, 2, 3, 4, 5, 6, 7, 8, 9]\n",
      "Divisões: 4, junções: 11, comparações: 37\n"
     ]
    }
   ],
   "source": [
    "nums = [6, 4, 2, 0, 9, 5, 1, 8, 3, 7]\n",
    "divs = juncs = comps = 0    # Reseta as variáveis de estatísticas\n",
    "print(\"Lista original:\", nums)\n",
    "resultado = merge_sort(nums)\n",
    "print(\"Lista ordenada:\", resultado)\n",
    "print(f\"Divisões: {divs}, junções: {juncs}, comparações: {comps}\")"
   ]
  },
  {
   "cell_type": "code",
   "execution_count": 8,
   "metadata": {},
   "outputs": [
    {
     "name": "stdout",
     "output_type": "stream",
     "text": [
      "Lista original: [9, 0, 8, 1, 7, 2, 6, 3, 5, 4]\n",
      "Lista ordenada: [0, 1, 2, 3, 4, 5, 6, 7, 8, 9]\n",
      "Divisões: 4, junções: 11, comparações: 36\n"
     ]
    }
   ],
   "source": [
    "nums = [9, 0, 8, 1, 7, 2, 6, 3, 5, 4]\n",
    "divs = juncs = comps = 0    # Reseta as variáveis de estatísticas\n",
    "print(\"Lista original:\", nums)\n",
    "resultado = merge_sort(nums)\n",
    "print(\"Lista ordenada:\", resultado)\n",
    "print(f\"Divisões: {divs}, junções: {juncs}, comparações: {comps}\")"
   ]
  },
  {
   "attachments": {},
   "cell_type": "markdown",
   "metadata": {},
   "source": [
    "#### Teste com nomes"
   ]
  },
  {
   "cell_type": "code",
   "execution_count": 9,
   "metadata": {},
   "outputs": [
    {
     "name": "stdout",
     "output_type": "stream",
     "text": [
      "Tempo gasto: 16730.5ms\n",
      "Pico de memória: 0.905 MB\n",
      "Nomes (100k) - Divisões: 17, junções: 100795, comparações: 1660736\n"
     ]
    }
   ],
   "source": [
    "nomes_merge = nomes[:]\n",
    "\n",
    "divs = juncs = comps = 0\n",
    "tracemalloc.start() # Inicia a medição de memória\n",
    "hora_ini = time()\n",
    "resultado = merge_sort(nomes_merge)\n",
    "hora_fim = time()\n",
    "\n",
    "# Captura as informações de gasto de memória\n",
    "mem_atual, mem_pico = tracemalloc.get_traced_memory()\n",
    "tracemalloc.stop()\n",
    "\n",
    "# print(\"Nomes ordenados: \", resultado)\n",
    "print(f'Tempo gasto: {round((hora_fim - hora_ini) * 1000, 2)}ms')\n",
    "print(f'Pico de memória: {round(mem_pico / 1024 / 1024, 3)} MB')\n",
    "print(f\"Nomes (100k) - Divisões: {divs}, junções: {juncs}, comparações: {comps}\")"
   ]
  }
 ],
 "metadata": {
  "kernelspec": {
   "display_name": "Python 3",
   "language": "python",
   "name": "python3"
  },
  "language_info": {
   "codemirror_mode": {
    "name": "ipython",
    "version": 3
   },
   "file_extension": ".py",
   "mimetype": "text/x-python",
   "name": "python",
   "nbconvert_exporter": "python",
   "pygments_lexer": "ipython3",
   "version": "3.11.2"
  },
  "orig_nbformat": 4,
  "vscode": {
   "interpreter": {
    "hash": "ead1b95f633dc9c51826328e1846203f51a198c6fb5f2884a80417ba131d4e82"
   }
  }
 },
 "nbformat": 4,
 "nbformat_minor": 2
}
