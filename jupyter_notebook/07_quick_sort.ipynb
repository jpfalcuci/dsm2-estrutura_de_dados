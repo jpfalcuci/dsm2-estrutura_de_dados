{
 "cells": [
  {
   "cell_type": "code",
   "execution_count": 1,
   "metadata": {},
   "outputs": [],
   "source": [
    "import tracemalloc              # Biblioteca para medir o consumo de memória\n",
    "import sys\n",
    "sys.dont_write_bytecode = True  # Impede a criação do cache\n",
    "from time import time\n",
    "from data.nomes_desord import nomes"
   ]
  },
  {
   "attachments": {},
   "cell_type": "markdown",
   "metadata": {},
   "source": [
    "### Quick Sort"
   ]
  },
  {
   "cell_type": "code",
   "execution_count": 2,
   "metadata": {},
   "outputs": [],
   "source": [
    "passadas = comps = trocas = 0    # Reseta as variáveis de estatísticas\n",
    "\n",
    "def quick_sort(lista, ini=0, fim=None):\n",
    "    \"\"\" ALGORITMO DE ORDENAÇÃO QUICK SORT\n",
    "\n",
    "    Escolha um dos elementos da lista para ser o pivô (na nossa implementação, o último elemento)\n",
    "    e, na primeira passada, divide a lista, a partir da posição final do pivô, em uma sublista à esquerda,\n",
    "    contendo apenas valores menores que o pivô, e outra à direita, que contém apenas valores maiores que o pivô.\n",
    "    Em seguida, recursivamente, repete o processo em cada uma das sublistas, até que toda lista esteja ordenada. \"\"\"\n",
    "\n",
    "    # Quando não soubermos o valor da variável \"fim\", vamos atribuir a ela a última posição da lista\n",
    "    if fim is None: fim = len(lista) - 1\n",
    "\n",
    "    # Para que o algoritmo trabalhe, é necessário que a faixa delimitada pelas variáveis \"int\" e \"fim\" tenha, pelo menos, dois elementos\n",
    "    # Caso contrário, saímos da função sem fazer nada\n",
    "    if fim <= ini: return\n",
    "\n",
    "    global passadas, comps, trocas\n",
    "\n",
    "    # Inicialização das variáveis\n",
    "    pivot = fim\n",
    "    div = ini - 1\n",
    "    passadas += 1\n",
    "\n",
    "    # Percorre a lista da posição \"int\" até a posição \"fim\" - 1\n",
    "    for pos in range(ini, fim):\n",
    "        # Compara os elementos das posições \"pos\" e \"pivot\"\n",
    "        comps += 1\n",
    "        if lista[pos] < lista[pivot]:\n",
    "            div += 1\n",
    "            # Se os valores das variáveis \"div\" e \"pos\" forem diferentes entre si e o elemento \"pos\" for menor\n",
    "            # que o elemento da posição \"div\", promove a troca entre eles\n",
    "            comps += 1\n",
    "            if pos != div and lista[pos] < lista[div]:\n",
    "                lista[pos], lista[div] = lista[div], lista[pos]\n",
    "                trocas += 1\n",
    "\n",
    "    # Depois que o loop acaba, o divisor é incrementado ainda uma vez\n",
    "    div += 1\n",
    "\n",
    "    # Caso os valores das posições \"div\" e \"pivot\" sejam diferentes entre si, é feita a comparação entre os elementos dessas posições.\n",
    "    # Se o valor de \"pivot\" for menor, promove-se a troca entre os elementos.\n",
    "    comps += 1\n",
    "    if pivot != div and lista[pivot] < lista[div]:\n",
    "        lista[pivot], lista[div] = lista[div], lista[pivot]\n",
    "        trocas += 1\n",
    "\n",
    "    # O ELEMENTO DA POSIÇÃO \"div\" ESTÁ EM SEU LUGAR CORRETA AGORA\n",
    "\n",
    "    # Chamamos recursivamente a função para ordenar a sublista à esquerda da posição \"div\"\n",
    "    quick_sort(lista, ini, div - 1)\n",
    "\n",
    "    # Fazemos o mesmo para ordenar a sublista à direita de \"div\"\n",
    "    quick_sort(lista, div + 1, fim)"
   ]
  },
  {
   "attachments": {},
   "cell_type": "markdown",
   "metadata": {},
   "source": [
    "#### Teste com vetores de 10 números"
   ]
  },
  {
   "cell_type": "code",
   "execution_count": 3,
   "metadata": {},
   "outputs": [
    {
     "name": "stdout",
     "output_type": "stream",
     "text": [
      "Lista original: [6, 4, 2, 0, 9, 5, 1, 8, 3, 7]\n",
      "Lista ordenada: [0, 1, 2, 3, 4, 5, 6, 7, 8, 9]\n",
      "Comparações: 38, trocas: 13, passadas: 6\n"
     ]
    }
   ],
   "source": [
    "nums = [6, 4, 2, 0, 9, 5, 1, 8, 3, 7]\n",
    "\n",
    "passadas = comps = trocas = 0    # Reseta as variáveis de estatísticas\n",
    "print(\"Lista original:\", nums)\n",
    "quick_sort(nums)\n",
    "print(\"Lista ordenada:\", nums)\n",
    "print(f\"Comparações: {comps}, trocas: {trocas}, passadas: {passadas}\")"
   ]
  },
  {
   "cell_type": "code",
   "execution_count": 4,
   "metadata": {},
   "outputs": [
    {
     "name": "stdout",
     "output_type": "stream",
     "text": [
      "Lista original: [0, 1, 2, 3, 4, 5, 6, 7, 8, 9]\n",
      "Lista ordenada: [0, 1, 2, 3, 4, 5, 6, 7, 8, 9]\n",
      "Comparações: 99, trocas: 0, passadas: 9\n"
     ]
    }
   ],
   "source": [
    "nums = [0, 1, 2, 3, 4, 5, 6, 7, 8, 9]\n",
    "\n",
    "passadas = comps = trocas = 0    # Reseta as variáveis de estatísticas\n",
    "print(\"Lista original:\", nums)\n",
    "quick_sort(nums)\n",
    "print(\"Lista ordenada:\", nums)\n",
    "print(f\"Comparações: {comps}, trocas: {trocas}, passadas: {passadas}\")"
   ]
  },
  {
   "cell_type": "code",
   "execution_count": 5,
   "metadata": {},
   "outputs": [
    {
     "name": "stdout",
     "output_type": "stream",
     "text": [
      "Lista original: [9, 8, 7, 6, 5, 4, 3, 2, 1, 0]\n",
      "Lista ordenada: [0, 1, 2, 3, 4, 5, 6, 7, 8, 9]\n",
      "Comparações: 74, trocas: 5, passadas: 9\n"
     ]
    }
   ],
   "source": [
    "nums = [9, 8, 7, 6, 5, 4, 3, 2, 1, 0]\n",
    "\n",
    "passadas = comps = trocas = 0    # Reseta as variáveis de estatísticas\n",
    "print(\"Lista original:\", nums)\n",
    "quick_sort(nums)\n",
    "print(\"Lista ordenada:\", nums)\n",
    "print(f\"Comparações: {comps}, trocas: {trocas}, passadas: {passadas}\")"
   ]
  },
  {
   "attachments": {},
   "cell_type": "markdown",
   "metadata": {},
   "source": [
    "#### Teste com nomes"
   ]
  },
  {
   "cell_type": "code",
   "execution_count": 6,
   "metadata": {},
   "outputs": [
    {
     "name": "stdout",
     "output_type": "stream",
     "text": [
      "Tempo gasto: 10132.04ms\n",
      "Pico de memória: 0.016 MB\n",
      "(Nomes) Comparações: 3081459, trocas: 961261, passadas: 67221\n"
     ]
    }
   ],
   "source": [
    "nomes_quick = nomes[:]\n",
    "passadas = comps = trocas = 0\n",
    "\n",
    "tracemalloc.start()\n",
    "hora_ini = time()\n",
    "quick_sort(nomes_quick)\n",
    "hora_fim = time()\n",
    "\n",
    "# Captura as informações de gasto de memória\n",
    "mem_atual, mem_pico = tracemalloc.get_traced_memory()\n",
    "\n",
    "# print(\"Nomes ordenados: \", resultado)\n",
    "print(f'Tempo gasto: {round((hora_fim - hora_ini) * 1000, 2)}ms')\n",
    "print(f'Pico de memória: {round(mem_pico / 1024 / 1024, 3)} MB')\n",
    "print(f\"(Nomes) Comparações: {comps}, trocas: {trocas}, passadas: {passadas}\")"
   ]
  },
  {
   "attachments": {},
   "cell_type": "markdown",
   "metadata": {},
   "source": [
    "### Quick Sort Iterativo"
   ]
  },
  {
   "cell_type": "code",
   "execution_count": 7,
   "metadata": {},
   "outputs": [],
   "source": [
    "passadas = comps = trocas = 0    # Variáveis de estatísticas\n",
    "\n",
    "def quick_sort(lista, ini = 0, fim = None):\n",
    "    \"\"\" Função que implementa o algoritmo Quick Sort de forma ITERATIVA \"\"\"\n",
    "\n",
    "    global passadas, comps, trocas\n",
    "\n",
    "    if fim is None: fim = len(lista) - 1\n",
    "\n",
    "    # Cria uma lista auxiliar\n",
    "    tamanho = fim - ini + 1\n",
    "    aux = [None] * tamanho\n",
    "  \n",
    "    # Inicializa a posição da lista auxiliar\n",
    "    pos = -1\n",
    "  \n",
    "    # Coloca os valores iniciais de ini e fim na lista auxiliar\n",
    "    pos = pos + 1\n",
    "    aux[pos] = ini\n",
    "    pos = pos + 1\n",
    "    aux[pos] = fim\n",
    "  \n",
    "    # Continua retirando valores da lista auxiliar enquanto ela não estiver vazia\n",
    "    while pos >= 0:\n",
    "        passadas += 1\n",
    "\n",
    "        # print(aux)\n",
    "  \n",
    "        # Retira fim e início\n",
    "        fim = aux[pos]\n",
    "        pos = pos - 1\n",
    "        ini = aux[pos]\n",
    "        pos = pos - 1\n",
    "  \n",
    "        # Coloca o pivô em sua posição correta na lista ordenada\n",
    "        i = ini - 1\n",
    "        x = lista[fim]\n",
    "    \n",
    "        for j in range(ini , fim):\n",
    "            comps += 1\n",
    "            if lista[j] <= x:\n",
    "                # Incrementa a posição do menor elemento\n",
    "                i = i + 1\n",
    "                lista[i], lista[j] = lista[j], lista[i]\n",
    "                trocas += 1\n",
    "    \n",
    "        lista[i + 1], lista[fim] = lista[fim], lista[i + 1]\n",
    "        trocas += 1\n",
    "        \n",
    "        pivot = i + 1\n",
    "  \n",
    "        # Se há elementos à esquerda do pivô, coloca-os no lado esquerdo da lista auxiliar\n",
    "        if pivot - 1 > ini:\n",
    "            pos = pos + 1\n",
    "            aux[pos] = ini\n",
    "            pos = pos + 1\n",
    "            aux[pos] = pivot - 1\n",
    "  \n",
    "        # Se há elementos à direita do pivô, coloca-os no lado direito da lista auxiliar\n",
    "        if pivot + 1 < fim:\n",
    "            pos = pos + 1\n",
    "            aux[pos] = pivot + 1\n",
    "            pos = pos + 1\n",
    "            aux[pos] = fim"
   ]
  },
  {
   "attachments": {},
   "cell_type": "markdown",
   "metadata": {},
   "source": [
    "#### Teste com vetores de 10 números"
   ]
  },
  {
   "cell_type": "code",
   "execution_count": 8,
   "metadata": {},
   "outputs": [
    {
     "name": "stdout",
     "output_type": "stream",
     "text": [
      "Lista original: [6, 4, 2, 0, 9, 5, 1, 8, 3, 7]\n",
      "Lista ordenada: [0, 1, 2, 3, 4, 5, 6, 7, 8, 9]\n",
      "Comparações: 21, trocas: 17, passadas: 6\n"
     ]
    }
   ],
   "source": [
    "nums = [6, 4, 2, 0, 9, 5, 1, 8, 3, 7]\n",
    "\n",
    "passadas = comps = trocas = 0    # Reseta as variáveis de estatísticas\n",
    "print(\"Lista original:\", nums)\n",
    "quick_sort(nums)\n",
    "print(\"Lista ordenada:\", nums)\n",
    "print(f\"Comparações: {comps}, trocas: {trocas}, passadas: {passadas}\")"
   ]
  },
  {
   "cell_type": "code",
   "execution_count": 9,
   "metadata": {},
   "outputs": [
    {
     "name": "stdout",
     "output_type": "stream",
     "text": [
      "Lista original: [0, 1, 2, 3, 4, 5, 6, 7, 8, 9]\n",
      "Lista ordenada: [0, 1, 2, 3, 4, 5, 6, 7, 8, 9]\n",
      "Comparações: 45, trocas: 54, passadas: 9\n"
     ]
    }
   ],
   "source": [
    "nums = [0, 1, 2, 3, 4, 5, 6, 7, 8, 9]\n",
    "\n",
    "passadas = comps = trocas = 0    # Reseta as variáveis de estatísticas\n",
    "print(\"Lista original:\", nums)\n",
    "quick_sort(nums)\n",
    "print(\"Lista ordenada:\", nums)\n",
    "print(f\"Comparações: {comps}, trocas: {trocas}, passadas: {passadas}\")"
   ]
  },
  {
   "cell_type": "code",
   "execution_count": 10,
   "metadata": {},
   "outputs": [
    {
     "name": "stdout",
     "output_type": "stream",
     "text": [
      "Lista original: [9, 8, 7, 6, 5, 4, 3, 2, 1, 0]\n",
      "Lista ordenada: [0, 1, 2, 3, 4, 5, 6, 7, 8, 9]\n",
      "Comparações: 45, trocas: 29, passadas: 9\n"
     ]
    }
   ],
   "source": [
    "nums = [9, 8, 7, 6, 5, 4, 3, 2, 1, 0]\n",
    "\n",
    "passadas = comps = trocas = 0    # Reseta as variáveis de estatísticas\n",
    "print(\"Lista original:\", nums)\n",
    "quick_sort(nums)\n",
    "print(\"Lista ordenada:\", nums)\n",
    "print(f\"Comparações: {comps}, trocas: {trocas}, passadas: {passadas}\")"
   ]
  },
  {
   "attachments": {},
   "cell_type": "markdown",
   "metadata": {},
   "source": [
    "#### Teste com nomes"
   ]
  },
  {
   "cell_type": "code",
   "execution_count": 11,
   "metadata": {},
   "outputs": [
    {
     "name": "stdout",
     "output_type": "stream",
     "text": [
      "Tempo gasto: 11781.65ms\n",
      "Pico de memória: 1.628 MB\n",
      "(Nomes) Comparações: 2005379, trocas: 1076080, passadas: 67221\n"
     ]
    }
   ],
   "source": [
    "nomes_quick = nomes[:]\n",
    "passadas = comps = trocas = 0\n",
    "\n",
    "tracemalloc.start() # Inicia a medição de memória\n",
    "hora_ini = time()\n",
    "quick_sort(nomes_quick)\n",
    "hora_fim = time()\n",
    "\n",
    "# Captura as informações de gasto de memória\n",
    "mem_atual, mem_pico = tracemalloc.get_traced_memory()\n",
    "\n",
    "print(f'Tempo gasto: {round((hora_fim - hora_ini) * 1000, 2)}ms')\n",
    "print(f'Pico de memória: {round(mem_pico / 1024 / 1024, 3)} MB')\n",
    "print(f\"(Nomes) Comparações: {comps}, trocas: {trocas}, passadas: {passadas}\")"
   ]
  }
 ],
 "metadata": {
  "kernelspec": {
   "display_name": "Python 3",
   "language": "python",
   "name": "python3"
  },
  "language_info": {
   "codemirror_mode": {
    "name": "ipython",
    "version": 3
   },
   "file_extension": ".py",
   "mimetype": "text/x-python",
   "name": "python",
   "nbconvert_exporter": "python",
   "pygments_lexer": "ipython3",
   "version": "3.11.2"
  },
  "orig_nbformat": 4,
  "vscode": {
   "interpreter": {
    "hash": "ead1b95f633dc9c51826328e1846203f51a198c6fb5f2884a80417ba131d4e82"
   }
  }
 },
 "nbformat": 4,
 "nbformat_minor": 2
}
