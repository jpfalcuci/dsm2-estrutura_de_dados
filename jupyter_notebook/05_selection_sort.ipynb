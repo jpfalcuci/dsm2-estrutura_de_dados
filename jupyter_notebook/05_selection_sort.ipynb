{
 "cells": [
  {
   "cell_type": "code",
   "execution_count": 1,
   "metadata": {},
   "outputs": [],
   "source": [
    "import sys\n",
    "sys.dont_write_bytecode = True  # Impede a criação do cache\n",
    "from time import time\n",
    "from data.nomes_desord import nomes"
   ]
  },
  {
   "attachments": {},
   "cell_type": "markdown",
   "metadata": {},
   "source": [
    "### Selection sort"
   ]
  },
  {
   "cell_type": "code",
   "execution_count": 2,
   "metadata": {},
   "outputs": [],
   "source": [
    "def selection_sort(lista):\n",
    "    \"\"\" ALGORITMO DE ORDENAÇÃO SELECTION SORT\n",
    "\n",
    "    Isola (seleciona) o primeiro elemento da lista e, em seguida, encontra o menor valor no restante da lista.\n",
    "    Se o valor encontrado for menor que o valor previamente selecionado, efetua a troca entre eles.\n",
    "    Continuando, seleciona o segundo elemento da lista, buscando pelo menor valor das posições subsequentes.\n",
    "    Faz a troca entre os dois valores, se necessário.\n",
    "    O processo se repete até que o penúltimo elemento da lista seja isolado, comparado com o último e feita a troca entre eles, se for o caso \"\"\"\n",
    "\n",
    "    global comps, trocas, passadas\n",
    "    comps = trocas = passadas = 0\n",
    "    \n",
    "    # Loop que vai da primeira até a PENÚLTIMA posição\n",
    "    for pos_sel in range(len(lista) - 1):\n",
    "\n",
    "        passadas += 1\n",
    "\n",
    "        # Encontra o menor valor da sublista à frente de pos_sel\n",
    "        pos_menor = pos_sel + 1\n",
    "        for pos in range(pos_sel + 2, len(lista)):\n",
    "            # Se o valor encontrado na posição pos for MENOR que o valor da posição pos_menor,\n",
    "            # então pos_menor passa a ser pos\n",
    "            comps += 1\n",
    "            if lista[pos] < lista[pos_menor]: pos_menor = pos\n",
    "\n",
    "        # Compara os elementos das posições pos_menor e pos_sel.\n",
    "        # Se o valor do primeiro for MENOR que o valor do segundo, efetua a troca\n",
    "        comps += 1\n",
    "        if lista[pos_menor] < lista[pos_sel]:\n",
    "            lista[pos_menor], lista[pos_sel] = lista[pos_sel], lista[pos_menor]\n",
    "            trocas += 1"
   ]
  },
  {
   "attachments": {},
   "cell_type": "markdown",
   "metadata": {},
   "source": [
    "#### Teste com vetores de 10 números"
   ]
  },
  {
   "cell_type": "code",
   "execution_count": 3,
   "metadata": {},
   "outputs": [
    {
     "name": "stdout",
     "output_type": "stream",
     "text": [
      "Lista ordenada:  [0, 1, 2, 3, 4, 5, 6, 7, 8, 9]\n",
      "Comparações: 45, trocas: 7, passadas: 9\n"
     ]
    }
   ],
   "source": [
    "nums = [6, 4, 2, 0, 9, 5 ,1, 8, 3, 7]\n",
    "selection_sort(nums)\n",
    "print('Lista ordenada: ', nums)\n",
    "print(f'Comparações: {comps}, trocas: {trocas}, passadas: {passadas}')"
   ]
  },
  {
   "cell_type": "code",
   "execution_count": 4,
   "metadata": {},
   "outputs": [
    {
     "name": "stdout",
     "output_type": "stream",
     "text": [
      "Lista ordenada:  [0, 1, 2, 3, 4, 5, 6, 7, 8, 9]\n",
      "Pior caso - Comparações: 45, trocas: 9, passadas: 9\n"
     ]
    }
   ],
   "source": [
    "pior_caso = [9, 0, 1, 2, 3, 4, 5, 6, 7, 8]\n",
    "selection_sort(pior_caso)\n",
    "print('Lista ordenada: ', pior_caso)\n",
    "print(f'Pior caso - Comparações: {comps}, trocas: {trocas}, passadas: {passadas}')"
   ]
  },
  {
   "cell_type": "code",
   "execution_count": 5,
   "metadata": {},
   "outputs": [
    {
     "name": "stdout",
     "output_type": "stream",
     "text": [
      "Lista ordenada:  [0, 1, 2, 3, 4, 5, 6, 7, 8, 9]\n",
      "Melhor caso - Comparações: 45, trocas: 0, passadas: 9\n"
     ]
    }
   ],
   "source": [
    "melhor_caso = [0, 1, 2, 3, 4, 5, 6, 7, 8, 9]\n",
    "selection_sort(melhor_caso)\n",
    "print('Lista ordenada: ', melhor_caso)\n",
    "print(f'Melhor caso - Comparações: {comps}, trocas: {trocas}, passadas: {passadas}')"
   ]
  },
  {
   "attachments": {},
   "cell_type": "markdown",
   "metadata": {},
   "source": [
    "#### Teste com nomes"
   ]
  },
  {
   "cell_type": "code",
   "execution_count": 6,
   "metadata": {},
   "outputs": [
    {
     "name": "stdout",
     "output_type": "stream",
     "text": [
      "Tempo gasto: 7536.29ms\n",
      "Nomes - Comparações: 49995000, trocas: 9988, passadas: 9999\n"
     ]
    }
   ],
   "source": [
    "# Pega apenas os 10k primeiros nomes\n",
    "nomes_10k = nomes[:10000]\n",
    "\n",
    "hora_ini = time()\n",
    "selection_sort(nomes_10k)\n",
    "hora_fim = time()\n",
    "\n",
    "# print(\"Nomes ordenados: \", nomes_10k)\n",
    "print(f'Tempo gasto: {round((hora_fim - hora_ini) * 1000, 2)}ms')\n",
    "print(f'Nomes - Comparações: {comps}, trocas: {trocas}, passadas: {passadas}')"
   ]
  }
 ],
 "metadata": {
  "kernelspec": {
   "display_name": "Python 3",
   "language": "python",
   "name": "python3"
  },
  "language_info": {
   "codemirror_mode": {
    "name": "ipython",
    "version": 3
   },
   "file_extension": ".py",
   "mimetype": "text/x-python",
   "name": "python",
   "nbconvert_exporter": "python",
   "pygments_lexer": "ipython3",
   "version": "3.11.2"
  },
  "orig_nbformat": 4,
  "vscode": {
   "interpreter": {
    "hash": "ead1b95f633dc9c51826328e1846203f51a198c6fb5f2884a80417ba131d4e82"
   }
  }
 },
 "nbformat": 4,
 "nbformat_minor": 2
}
