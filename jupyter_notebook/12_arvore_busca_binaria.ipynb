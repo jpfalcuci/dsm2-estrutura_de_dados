{
 "cells": [
  {
   "attachments": {},
   "cell_type": "markdown",
   "metadata": {},
   "source": [
    "### Árvore de Busca Binária"
   ]
  },
  {
   "cell_type": "code",
   "execution_count": 1,
   "metadata": {},
   "outputs": [],
   "source": [
    "class BinarySearchTree:\n",
    "\t\"\"\" ESTRUTURA DE DADOS ÁRVORE BINÁRIA DE BUSCA\n",
    "\n",
    "\t* Árvore ~> é uma estrutura de dados não linear, considerada uma especialização do grafo, formada recursivamente por outras árvores (subárvores)\n",
    "\t* Árvore binária ~> uma árvore na qual cada nodo tem grau máximo igual a 2. Em outras palavras, cada nodo pode ter até dois descendentes diretos\n",
    "\t* Árvore binária de busca ~> é uma árvore binária em que as inserções são feitas de forma ordenada, de modo a otimizar a operação de busca binária \"\"\"\n",
    "\n",
    "\tclass Node:\n",
    "\t\t\"\"\" Classe que representa cada unidade de informação (nodo) da árvore binária de busca.\n",
    "\n",
    "\t\tPossui três atributos:\n",
    "\t\t1) Informação relevante para o usuário (data)\n",
    "\t\t2) Ponteiro para o nodo descendente à esquerda (left)\n",
    "\t\t3) Ponteiro para o nodo descendente à direita (right) \"\"\"\n",
    "\n",
    "\t\tdef __init__(self, val):\n",
    "\t\t\tself.data = val\n",
    "\t\t\tself.left = None\n",
    "\t\t\tself.right = None\n",
    "\n",
    "\tdef __init__(self):\n",
    "\t\tself.__root = None      # Raiz da árvore\n",
    "\n",
    "\tdef insert(self, val):\n",
    "\t\t\"\"\" Método PÚBLICO para a inserção de um VALOR na árvore \"\"\"\n",
    "\n",
    "\t\t# Cria um novo nodo para armazenar o valor\n",
    "\t\tnew = self.Node(val)\n",
    "\n",
    "\t\t# 1º caso: a árvore está vazia.\n",
    "\t\t# O primeiro nodo inserido será a raiz\n",
    "\t\tif self.__root is None: self.__root = new\n",
    "\n",
    "\t\t# 2º caso: a raiz já existe. É necessário procurar pela posição de inserção do novo nodo, o que é feito por um método privado\n",
    "\t\telse: self.__insert_node(self.__root, new)\n",
    "\n",
    "\tdef __insert_node(self, root, new):\n",
    "\t\t\"\"\" Método PRIVADO para inserção de um NODO na árvore \"\"\"\n",
    "\n",
    "\t\t# 1º caso: o valor do novo nodo é MENOR que o valor na raiz\n",
    "\t\tif new.data < root.data:\n",
    "\t\t\t# Se a esquerda da raiz estiver desocupada, insere aí\n",
    "\t\t\tif root.left is None: root.left = new\n",
    "\t\t\t# Senão, passa a considerar o nodo da esquerda como raiz\n",
    "\t\t\telse: self.__insert_node(root.left, new)\n",
    "\n",
    "\t\t# 2º caso: o valor do novo nodo é MAIOR que o valor na raiz\n",
    "\t\telif new.data > root.data:\n",
    "\t\t\t# Se a direita da raiz estiver desocupada, insere aí\n",
    "\t\t\tif root.right is None: root.right = new\n",
    "\t\t\t# Senão, passa a considerar o nodo da direita como raiz\n",
    "\t\t\telse: self.__insert_node(root.right, new)\n",
    "\n",
    "\tdef in_order_traversal(self, action, root = False):\n",
    "\t\t\"\"\" Método que percorre a árvore em-ordem\n",
    "\n",
    "\t\t1º: percorre recursivamente a subárvore esquerda em-ordem\n",
    "\t\t2º: visita a raiz\n",
    "\t\t3º: percorre recursivamente a subárvore direita em-ordem \"\"\"\n",
    "\n",
    "\t\t# Se root for False, começamos pela raiz da árvore\n",
    "\t\tif root is False: root = self.__root\n",
    "\n",
    "\t\tif root is not None:\n",
    "\t\t\tself.in_order_traversal(action, root.left)  # 1º\n",
    "\t\t\taction(root.data)                           # 2º\n",
    "\t\t\tself.in_order_traversal(action, root.right) # 3º\n",
    "\n",
    "\tdef pre_order_traversal(self, action,root=False):\n",
    "\t\t\"\"\" Método que percorre a árvore em pré-ordem\n",
    "\n",
    "\t\t1º: visita a raiz\n",
    "\t\t2º: percorre recursivamente a subárvore esquerda pré-ordem\n",
    "\t\t3º: percorre recursivamente a subárvore direita pré-ordem \"\"\"\n",
    "\t\tif root is False: root = self.__root\n",
    "\n",
    "\t\tif root is not None:\n",
    "\t\t\taction(root.data)\t\t\t\t\t\t\t\t# 1º\n",
    "\t\t\tself.pre_order_traversal(action, root.left)\t\t# 2º\n",
    "\t\t\tself.pre_order_traversal(action, root.right)\t# 3º\n",
    "\n",
    "\tdef post_order_traversal(self, action,root=False):\n",
    "\t\t\"\"\" Método que percorre a árvore em pós-ordem\n",
    "\n",
    "\t\t1º: percorre recursivamente a subárvore esquerda pós-ordem\n",
    "\t\t2º: percorre recursivamente a subárvore direita pós-ordem\n",
    "\t\t3º: visita a raiz \"\"\"\n",
    "\t\tif root is False: root = self.__root\n",
    "\n",
    "\t\tif root is not None:\n",
    "\t\t\tself.post_order_traversal(action, root.left)\t# 1º\n",
    "\t\t\tself.post_order_traversal(action, root.right)\t# 2º\n",
    "\t\t\taction(root.data)\t\t\t\t\t\t\t\t# 3º\n",
    "\n",
    "\tdef exists(self, key):\n",
    "\t\t\"\"\" Método PÚBLICO que verifica se um valor existe na ABB \"\"\"\n",
    "\n",
    "\t\tnode = self.__search_node(self.__root, key)\n",
    "\t\treturn (node is not None)\n",
    "\n",
    "\tdef __search_node(self, root, key):\n",
    "\t\t\"\"\" Método PRIVADO que procura por um nodo que contém um valor fornecido (key) e retorna esse nodo, se ele existir, ou None, caso contrário \"\"\"\n",
    "\n",
    "\t\t# 1º caso: árvore vazia\n",
    "\t\tif root is None: return None\n",
    "\n",
    "\t\t# 2º caso: o valor de key é MENOR que o valor na raiz\n",
    "\t\t# Continua a buscar recursivamente pela subárvore ESQUERDA\n",
    "\t\tif key < root.data: return self.__search_node(root.left, key)\n",
    "\n",
    "\t\t# 3º caso: o valor de key é MAIOR que o valor na raiz\n",
    "\t\t# Continua a buscar recursivamente pela subárvore DIREITA\n",
    "\t\tif key > root.data: return self.__search_node(root.right, key)\n",
    "\n",
    "\t\t# 4º caso: o valor de key é IGUAL que o valor na raiz\n",
    "\t\t# ENCONTROU O NODO, retorna o nodo root\n",
    "\t\treturn root\n",
    "\n",
    "\tdef __max_node(self, root = None):\n",
    "\t\t\"\"\" Método PRIVADO que retorna o maior nodo de uma subárvore \"\"\"\n",
    "\t\tif root is None: root = self.__root\n",
    "\t\tnode = root\n",
    "\t\t# A partir da raiz, desce pela direita até onde der\n",
    "\t\twhile node is not None and node.right is not None:\n",
    "\t\t\tnode = node.right\n",
    "\t\treturn node\n",
    "\n",
    "\tdef __min_node(self, root = None):\n",
    "\t\t\"\"\" Método PRIVADO que retorna o menor nodo de uma subárvore \"\"\"\n",
    "\t\tif root is None: root = self.__root\n",
    "\t\tnode = root\n",
    "\t\t# A partir da raiz, desce pela esquerda até onde der\n",
    "\t\twhile node is not None and node.left is not None:\n",
    "\t\t\tnode = node.left\n",
    "\t\treturn node\n",
    "\n",
    "\tdef remove(self, val):\n",
    "\t\t\"\"\" Método público para a remoção de um valor da árvore \"\"\"\n",
    "\t\tself.__root = self.__remove_node(self.__root, val)\n",
    "\n",
    "\tdef __remove_node(self, root, val):\n",
    "\t\t\"\"\" Método PRIVADO para a remoção de um nodo da árvore \"\"\"\n",
    "\n",
    "\t\t# 1º caso: árvore vazia\n",
    "\t\tif root is None: return None\n",
    "\n",
    "\t\t# 2º caso: o valor a ser removida é MENOR que o valor da raiz\n",
    "\t\t# Continua procurando pelo nodo a ser removido pelo lado ESQUERDO\n",
    "\t\tif val < root.data:\n",
    "\t\t\troot.left = self.__remove_node(root.left, val)\n",
    "\t\t\treturn root\n",
    "\n",
    "\t\t# 3º caso: o valor a ser removido é MAIOR que valor da raiz\n",
    "\t\t# Continua procurando pelo nodo a ser removida pelo lado DIREITO\n",
    "\t\tif val > root.data:\n",
    "\t\t\troot.right = self.__remove_node(root.right, val)\n",
    "\t\t\treturn root\n",
    "\n",
    "\t\t# 4º caso: o valor a ser removido é IGUAL ao valor da raiz\n",
    "\t\t# O NODO A SER REMOVIDO FOI ENCONTRADO\n",
    "\t\t# Agora, é necessário determinar o grau do novo para aplicar o algoritmo de remoção correto para cada caso\n",
    "\n",
    "\t\t# 4.1: remoção de nodo de grau 0\n",
    "\t\tif root.left is None and root.right is None:\n",
    "\t\t\troot = None     # Sobrescreve o nodo (root) com None\n",
    "\t\t\treturn root\n",
    "\n",
    "\t\t# 4.2: remoção de nodo de grau 1 com subárvore à ESQUERDA\n",
    "\t\tif root.left is not None and root.right is None:\n",
    "\t\t\troot = root.left\n",
    "\t\t\treturn root\n",
    "\n",
    "\t\t# 4.3: remoção de nodo de grau 1 com subárvore à DIREITA\n",
    "\t\tif root.left is None and root.right is not None:\n",
    "\t\t\troot = root.right\n",
    "\t\t\treturn root\n",
    "\n",
    "\t\t# 4.4: remoção de nodo de grau 2\n",
    "\n",
    "\t\t# É necessário encontrar:\n",
    "\t\t# a) o MAIOR nodo da subárvore ESQUERDA; *OU*\n",
    "\t\t# B) o MENOR nodo da subárvore DIREITA\n",
    "\n",
    "\t\t# Opção escolhida: usar o maior nodo da subárvore esquerda\n",
    "\t\tnew_root = self.__max_node(root.left)\n",
    "\n",
    "\t\t# Copia o valor do nodo encontrado e sobrescreve o valor do nodo que está sendo \"removido\"\n",
    "\t\troot.data = new_root.data\n",
    "\n",
    "\t\t# Exclui o valor duplicado que está na subárvore esquerda (de onde veio o valor de new_root)\n",
    "\t\troot.left = self.__remove_node(root.left, new_root.data)\n",
    "\n",
    "\t\treturn root"
   ]
  },
  {
   "cell_type": "code",
   "execution_count": 2,
   "metadata": {},
   "outputs": [
    {
     "name": "stdout",
     "output_type": "stream",
     "text": [
      "PERCURSO EM-ORDEM:\n",
      "0\n",
      "5\n",
      "7\n",
      "11\n",
      "13\n",
      "17\n",
      "19\n",
      "23\n",
      "29\n",
      "31\n",
      "39\n",
      "43\n",
      "47\n",
      "53\n",
      "59\n"
     ]
    }
   ],
   "source": [
    "arvore = BinarySearchTree()\n",
    "\n",
    "arvore.insert(23)\n",
    "arvore.insert(39)\n",
    "arvore.insert(11)\n",
    "arvore.insert(31)\n",
    "arvore.insert(17)\n",
    "arvore.insert(0)\n",
    "arvore.insert(43)\n",
    "arvore.insert(7)\n",
    "arvore.insert(29)\n",
    "arvore.insert(13)\n",
    "arvore.insert(53)\n",
    "arvore.insert(19)\n",
    "arvore.insert(47)\n",
    "arvore.insert(5)\n",
    "arvore.insert(59)\n",
    "\n",
    "print(\"PERCURSO EM-ORDEM:\")\n",
    "arvore.in_order_traversal(print)"
   ]
  },
  {
   "cell_type": "code",
   "execution_count": 3,
   "metadata": {},
   "outputs": [
    {
     "name": "stdout",
     "output_type": "stream",
     "text": [
      "PERCURSO PRÉ-ORDEM:\n",
      "23\n",
      "11\n",
      "0\n",
      "7\n",
      "5\n",
      "17\n",
      "13\n",
      "19\n",
      "39\n",
      "31\n",
      "29\n",
      "43\n",
      "53\n",
      "47\n",
      "59\n"
     ]
    }
   ],
   "source": [
    "print(\"PERCURSO PRÉ-ORDEM:\")\n",
    "arvore.pre_order_traversal(print)"
   ]
  },
  {
   "cell_type": "code",
   "execution_count": 4,
   "metadata": {},
   "outputs": [
    {
     "name": "stdout",
     "output_type": "stream",
     "text": [
      "PERCURSO PÓS-ORDEM:\n",
      "5\n",
      "7\n",
      "0\n",
      "13\n",
      "19\n",
      "17\n",
      "11\n",
      "29\n",
      "31\n",
      "47\n",
      "59\n",
      "53\n",
      "43\n",
      "39\n",
      "23\n"
     ]
    }
   ],
   "source": [
    "print(\"PERCURSO PÓS-ORDEM:\")\n",
    "arvore.post_order_traversal(print)"
   ]
  },
  {
   "attachments": {},
   "cell_type": "markdown",
   "metadata": {},
   "source": [
    "#### Exclusão de um nodo de grau 0"
   ]
  },
  {
   "cell_type": "code",
   "execution_count": 5,
   "metadata": {},
   "outputs": [
    {
     "name": "stdout",
     "output_type": "stream",
     "text": [
      "PERCURSO EM-ORDEM APÓS EXCLUSÃO DO 29 (GRAU 0):\n",
      "0\n",
      "5\n",
      "7\n",
      "11\n",
      "13\n",
      "17\n",
      "19\n",
      "23\n",
      "31\n",
      "39\n",
      "43\n",
      "47\n",
      "53\n",
      "59\n"
     ]
    }
   ],
   "source": [
    "arvore.remove(29)\n",
    "\n",
    "print(\"PERCURSO EM-ORDEM APÓS EXCLUSÃO DO 29 (GRAU 0):\")\n",
    "arvore.in_order_traversal(print)"
   ]
  },
  {
   "attachments": {},
   "cell_type": "markdown",
   "metadata": {},
   "source": [
    "#### Exclusão de um nodo grau 1 com lado esquerdo"
   ]
  },
  {
   "cell_type": "code",
   "execution_count": 6,
   "metadata": {},
   "outputs": [
    {
     "name": "stdout",
     "output_type": "stream",
     "text": [
      "PERCURSO EM-ORDEM APÓS EXCLUSÃO DO 7 (GRAU 1 COM LADO ESQ.):\n",
      "0\n",
      "5\n",
      "11\n",
      "13\n",
      "17\n",
      "19\n",
      "23\n",
      "31\n",
      "39\n",
      "43\n",
      "47\n",
      "53\n",
      "59\n"
     ]
    }
   ],
   "source": [
    "arvore.remove(7)\n",
    "\n",
    "print(\"PERCURSO EM-ORDEM APÓS EXCLUSÃO DO 7 (GRAU 1 COM LADO ESQ.):\")\n",
    "arvore.in_order_traversal(print)"
   ]
  },
  {
   "attachments": {},
   "cell_type": "markdown",
   "metadata": {},
   "source": [
    "#### Exclusão de um nodo grau 1 com lado direito"
   ]
  },
  {
   "cell_type": "code",
   "execution_count": 7,
   "metadata": {},
   "outputs": [
    {
     "name": "stdout",
     "output_type": "stream",
     "text": [
      "PERCURSO EM-ORDEM APÓS EXCLUSÃO DO 43 (GRAU 1 COM LADO DIR.):\n",
      "0\n",
      "5\n",
      "11\n",
      "13\n",
      "17\n",
      "19\n",
      "23\n",
      "31\n",
      "39\n",
      "47\n",
      "53\n",
      "59\n"
     ]
    }
   ],
   "source": [
    "arvore.remove(43)\n",
    "\n",
    "print(\"PERCURSO EM-ORDEM APÓS EXCLUSÃO DO 43 (GRAU 1 COM LADO DIR.):\")\n",
    "arvore.in_order_traversal(print)"
   ]
  },
  {
   "attachments": {},
   "cell_type": "markdown",
   "metadata": {},
   "source": [
    "#### Exclusão de um nodo grau 2"
   ]
  },
  {
   "cell_type": "code",
   "execution_count": 8,
   "metadata": {},
   "outputs": [
    {
     "name": "stdout",
     "output_type": "stream",
     "text": [
      "PERCURSO EM-ORDEM APÓS EXCLUSÃO DO 23 (GRAU 2):\n",
      "0\n",
      "5\n",
      "11\n",
      "13\n",
      "17\n",
      "19\n",
      "31\n",
      "39\n",
      "47\n",
      "53\n",
      "59\n"
     ]
    }
   ],
   "source": [
    "arvore.remove(23)\n",
    "\n",
    "print(\"PERCURSO EM-ORDEM APÓS EXCLUSÃO DO 23 (GRAU 2):\")\n",
    "arvore.in_order_traversal(print)"
   ]
  }
 ],
 "metadata": {
  "kernelspec": {
   "display_name": "Python 3",
   "language": "python",
   "name": "python3"
  },
  "language_info": {
   "codemirror_mode": {
    "name": "ipython",
    "version": 3
   },
   "file_extension": ".py",
   "mimetype": "text/x-python",
   "name": "python",
   "nbconvert_exporter": "python",
   "pygments_lexer": "ipython3",
   "version": "3.11.2"
  },
  "orig_nbformat": 4
 },
 "nbformat": 4,
 "nbformat_minor": 2
}
