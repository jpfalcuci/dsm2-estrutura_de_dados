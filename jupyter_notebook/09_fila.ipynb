{
 "cells": [
  {
   "attachments": {},
   "cell_type": "markdown",
   "metadata": {},
   "source": [
    "### Fila"
   ]
  },
  {
   "cell_type": "code",
   "execution_count": 1,
   "metadata": {},
   "outputs": [],
   "source": [
    "\"\"\"\n",
    "    ESTRUTURA DE DADOS FILA\n",
    "    É uma estrutura de dados linear em que a operação de inserção (enqueue) acontece no final (ou cauda) da estrutura,\n",
    "    enquanto a operação de remoção (dequeue) ocorre no início (ou cabeça).\n",
    "    Em consequência, o funcionamento da fila pode ser descrito como FIFO (First In, First Out): o primeiro a entrar é o primeiro a sair\n",
    "\"\"\"\n",
    "\n",
    "class Queue:\n",
    "\n",
    "    \"\"\" Método construtor \"\"\"\n",
    "    def __init__(self):\n",
    "        self.__data = []    # Lista vazia\n",
    "    \n",
    "    \"\"\" Método de inserção. Em filas, tem nome padronizado: enqueue \"\"\"\n",
    "    def enqueue(self, val):\n",
    "        self.__data.append(val)\n",
    "\n",
    "    \"\"\" Método que retorna se a fila está vazia (true) ou não (false) \"\"\"\n",
    "    def is_empty(self):\n",
    "        return len(self.__data) == 0\n",
    "    \n",
    "    \"\"\" Método de remoção. Em filas, tem nome padronizado: dequeue \"\"\"\n",
    "    def dequeue(self):\n",
    "        if self.is_empty():\n",
    "            raise Exception(\"ERRO: Impossível remover de uma fila vazia.\")\n",
    "        return self.__data.pop(0)   # Remove o primeiro item\n",
    "    \n",
    "    \"\"\" Método para consultar o primeiro item da fila, sem removê-lo \"\"\"\n",
    "    def peek(self):\n",
    "        if self.is_empty():\n",
    "            raise Exception(\"Erro: Impossível consultar uma fila vazia.\")\n",
    "        return self.__data[0]\n",
    "    \n",
    "    \"\"\" Método que retorna uma representação da fila como string \"\"\"\n",
    "    def __str__(self):\n",
    "        return str(self.__data)"
   ]
  },
  {
   "cell_type": "code",
   "execution_count": 2,
   "metadata": {},
   "outputs": [],
   "source": [
    "fila = Queue()  # Cria uma fila vazia"
   ]
  },
  {
   "attachments": {},
   "cell_type": "markdown",
   "metadata": {},
   "source": [
    "##### Insere algumas pessoa na fila"
   ]
  },
  {
   "cell_type": "code",
   "execution_count": 3,
   "metadata": {},
   "outputs": [],
   "source": [
    "fila.enqueue('Leotildes')\n",
    "fila.enqueue('Orozimbo')\n",
    "fila.enqueue('Valdisney')\n",
    "fila.enqueue('Adamastor')"
   ]
  },
  {
   "cell_type": "code",
   "execution_count": 4,
   "metadata": {},
   "outputs": [
    {
     "name": "stdout",
     "output_type": "stream",
     "text": [
      "Atendido: Leotildes\n",
      "['Orozimbo', 'Valdisney', 'Adamastor']\n"
     ]
    }
   ],
   "source": [
    "atendido = fila.dequeue()\n",
    "print(f\"Atendido: {atendido}\")\n",
    "print(fila)"
   ]
  },
  {
   "cell_type": "code",
   "execution_count": 5,
   "metadata": {},
   "outputs": [
    {
     "name": "stdout",
     "output_type": "stream",
     "text": [
      "['Orozimbo', 'Valdisney', 'Adamastor', 'Marcinéia']\n"
     ]
    }
   ],
   "source": [
    "fila.enqueue('Marcinéia')\n",
    "print(fila)"
   ]
  },
  {
   "cell_type": "code",
   "execution_count": 6,
   "metadata": {},
   "outputs": [
    {
     "name": "stdout",
     "output_type": "stream",
     "text": [
      "Próximo a ser atendido: Orozimbo\n",
      "['Orozimbo', 'Valdisney', 'Adamastor', 'Marcinéia']\n"
     ]
    }
   ],
   "source": [
    "proximo = fila.peek()\n",
    "print(f\"Próximo a ser atendido: {proximo}\")\n",
    "print(fila)"
   ]
  },
  {
   "cell_type": "code",
   "execution_count": 7,
   "metadata": {},
   "outputs": [],
   "source": [
    "\"\"\"\n",
    "    ESTRUTURA DE DADOS DEQUE\n",
    "    Deque (Double-Ended QUEue) é uma estrutura de dados derivada da fila que permite inserções e remoções em qualquer uma de suas extremidades.\n",
    "    Com isso, o deque pode se comportar tanto como uma fila comum quanto como uma fila em que são admitidas inserções prioritários e a possibilidade de desistência (remoção) do último item.\n",
    "\"\"\"\n",
    "\n",
    "class Deque:\n",
    "\n",
    "    \"\"\" Método construtor \"\"\"\n",
    "    def __init__(self):\n",
    "        self.__data = []    # Lista vazia\n",
    "\n",
    "    \"\"\" Método para inserção no início \"\"\"\n",
    "    def insert_front(self, val):\n",
    "        self.__data.insert(0, val)\n",
    "\n",
    "    \"\"\" Método para inserção no final \"\"\"\n",
    "    def insert_back(self, val):\n",
    "        self.__data.append(val)\n",
    "\n",
    "    \"\"\" Método que retorna se o deque está vazio (True) ou não (False) \"\"\"\n",
    "    def is_empty(self):\n",
    "        return len(self.__data) == 0\n",
    "\n",
    "    \"\"\" Método para remoção do início \"\"\"\n",
    "    def remove_front(self):\n",
    "        if self.is_empty():\n",
    "            raise Exception(\"ERRO: Impossível remover de um deque vazio.\")\n",
    "        return self.__data.pop(0)\n",
    "\n",
    "    \"\"\" Método para remoção do final \"\"\"\n",
    "    def remove_back(self):\n",
    "        if self.is_empty():\n",
    "            raise Exception(\"ERRO: Impossível remover de um deque vazio.\")\n",
    "        return self.__data.pop()\n",
    "\n",
    "    \"\"\" Método para consultar do início \"\"\"\n",
    "    def peek_front(self):\n",
    "        if self.is_empty():\n",
    "            raise Exception(\"ERRO: Impossível consultar um deque vazio\")\n",
    "        return self.__data[0]\n",
    "\n",
    "    \"\"\" Método para consultar do final \"\"\"\n",
    "    def peek_back(self):\n",
    "        if self.is_empty():\n",
    "            raise Exception(\"ERRO: Impossível consultar um deque vazio\")\n",
    "        return self.__data[-1]\n",
    "\n",
    "    \"\"\" Método que retorna uma representação do deque como string \"\"\"\n",
    "    def __str__(self):\n",
    "        return str(self.__data)"
   ]
  },
  {
   "cell_type": "code",
   "execution_count": 8,
   "metadata": {},
   "outputs": [],
   "source": [
    "deque = Deque()"
   ]
  },
  {
   "attachments": {},
   "cell_type": "markdown",
   "metadata": {},
   "source": [
    "#### Deque se comportando como fila comum"
   ]
  },
  {
   "cell_type": "code",
   "execution_count": 9,
   "metadata": {},
   "outputs": [
    {
     "name": "stdout",
     "output_type": "stream",
     "text": [
      "['Antero', 'Olentina', 'Gaudêncio', 'Hildebrando', 'Iranildes']\n"
     ]
    }
   ],
   "source": [
    "deque.insert_back('Antero')\n",
    "deque.insert_back('Olentina')\n",
    "deque.insert_back('Gaudêncio')\n",
    "deque.insert_back('Hildebrando')\n",
    "deque.insert_back('Iranildes')\n",
    "\n",
    "print(deque)"
   ]
  },
  {
   "cell_type": "code",
   "execution_count": 10,
   "metadata": {},
   "outputs": [
    {
     "name": "stdout",
     "output_type": "stream",
     "text": [
      "Removido da frente: Antero\n",
      "['Olentina', 'Gaudêncio', 'Hildebrando', 'Iranildes']\n"
     ]
    }
   ],
   "source": [
    "removido_frente = deque.remove_front()\n",
    "print(f\"Removido da frente: {removido_frente}\")\n",
    "print(deque)"
   ]
  },
  {
   "cell_type": "code",
   "execution_count": 11,
   "metadata": {},
   "outputs": [
    {
     "name": "stdout",
     "output_type": "stream",
     "text": [
      "['Olentina', 'Gaudêncio', 'Hildebrando', 'Iranildes', 'Turíbio']\n"
     ]
    }
   ],
   "source": [
    "deque.insert_back('Turíbio')\n",
    "print(deque)"
   ]
  },
  {
   "cell_type": "code",
   "execution_count": 12,
   "metadata": {},
   "outputs": [
    {
     "name": "stdout",
     "output_type": "stream",
     "text": [
      "Primeiro da fila: Olentina\n",
      "['Olentina', 'Gaudêncio', 'Hildebrando', 'Iranildes', 'Turíbio']\n"
     ]
    }
   ],
   "source": [
    "primeiro = deque.peek_front()\n",
    "print(f\"Primeiro da fila: {primeiro}\")\n",
    "print(deque)"
   ]
  },
  {
   "attachments": {},
   "cell_type": "markdown",
   "metadata": {},
   "source": [
    "#### USANDO RECURSOS EXCLUSIVOS DO DEQUE"
   ]
  },
  {
   "attachments": {},
   "cell_type": "markdown",
   "metadata": {},
   "source": [
    "##### Inserção prioritário"
   ]
  },
  {
   "cell_type": "code",
   "execution_count": 13,
   "metadata": {},
   "outputs": [
    {
     "name": "stdout",
     "output_type": "stream",
     "text": [
      "['Emerenciana', 'Olentina', 'Gaudêncio', 'Hildebrando', 'Iranildes', 'Turíbio']\n"
     ]
    }
   ],
   "source": [
    "deque.insert_front('Emerenciana')\n",
    "print(deque)"
   ]
  },
  {
   "attachments": {},
   "cell_type": "markdown",
   "metadata": {},
   "source": [
    "##### Desistência da fila"
   ]
  },
  {
   "cell_type": "code",
   "execution_count": 14,
   "metadata": {},
   "outputs": [
    {
     "name": "stdout",
     "output_type": "stream",
     "text": [
      "Desistente: Turíbio\n",
      "['Emerenciana', 'Olentina', 'Gaudêncio', 'Hildebrando', 'Iranildes']\n"
     ]
    }
   ],
   "source": [
    "desistente = deque.remove_back()\n",
    "print(f\"Desistente: {desistente}\")\n",
    "print(deque)"
   ]
  },
  {
   "attachments": {},
   "cell_type": "markdown",
   "metadata": {},
   "source": [
    "##### Nova inserção prioritária"
   ]
  },
  {
   "cell_type": "code",
   "execution_count": 15,
   "metadata": {},
   "outputs": [
    {
     "name": "stdout",
     "output_type": "stream",
     "text": [
      "['Deusdete', 'Emerenciana', 'Olentina', 'Gaudêncio', 'Hildebrando', 'Iranildes']\n"
     ]
    }
   ],
   "source": [
    "deque.insert_front('Deusdete')\n",
    "print(deque)"
   ]
  },
  {
   "attachments": {},
   "cell_type": "markdown",
   "metadata": {},
   "source": [
    "##### Consultando a última pessoa da fila"
   ]
  },
  {
   "cell_type": "code",
   "execution_count": 16,
   "metadata": {},
   "outputs": [
    {
     "name": "stdout",
     "output_type": "stream",
     "text": [
      "Último: Iranildes\n",
      "['Deusdete', 'Emerenciana', 'Olentina', 'Gaudêncio', 'Hildebrando', 'Iranildes']\n"
     ]
    }
   ],
   "source": [
    "ultimo = deque.peek_back()\n",
    "print(f\"Último: {ultimo}\")\n",
    "print(deque)"
   ]
  }
 ],
 "metadata": {
  "kernelspec": {
   "display_name": "Python 3",
   "language": "python",
   "name": "python3"
  },
  "language_info": {
   "codemirror_mode": {
    "name": "ipython",
    "version": 3
   },
   "file_extension": ".py",
   "mimetype": "text/x-python",
   "name": "python",
   "nbconvert_exporter": "python",
   "pygments_lexer": "ipython3",
   "version": "3.11.2"
  },
  "orig_nbformat": 4
 },
 "nbformat": 4,
 "nbformat_minor": 2
}
