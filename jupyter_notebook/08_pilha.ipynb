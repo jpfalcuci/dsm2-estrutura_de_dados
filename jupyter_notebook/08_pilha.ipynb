{
 "cells": [
  {
   "attachments": {},
   "cell_type": "markdown",
   "metadata": {},
   "source": [
    "### Pilha"
   ]
  },
  {
   "cell_type": "code",
   "execution_count": 1,
   "metadata": {},
   "outputs": [
    {
     "name": "stdout",
     "output_type": "stream",
     "text": [
      "['a']\n",
      "['a', 'r']\n",
      "['a', 'r', 'a']\n",
      "['a', 'r', 'a', 'r']\n",
      "['a', 'r', 'a', 'r', 'a']\n",
      "**************************************************\n",
      "Pilha: ['a', 'r', 'a', 'r']; inverso: a\n",
      "Pilha: ['a', 'r', 'a']; inverso: ar\n",
      "Pilha: ['a', 'r']; inverso: ara\n",
      "Pilha: ['a']; inverso: arar\n",
      "Pilha: []; inverso: arara\n",
      "**************************************************\n",
      "Palavra original:  arara\n",
      "Palavra invertida:  arara\n",
      "*** É UM PALÍNDROMO ***\n"
     ]
    }
   ],
   "source": [
    "\"\"\"\n",
    "    Programa simples que inverte uma palavra e verifica se ela é um PALÍNDROMO, uma palavra que pode ser lida de trás para a frente, assim como de frente para trás.\n",
    "    Para isso, usaremos uma estrutura de pilha baseada em uma lista do Python.\n",
    "\"\"\"\n",
    "\n",
    "# palavra = input('Informe a palavra a ser verificada: ')\n",
    "# ovo, arara, omississimo\n",
    "palavra = 'arara'\n",
    "\n",
    "pilha = []  # Lista vazia que será usada como pilha\n",
    "\n",
    "# 1) Pega cada letra da palavra e insere no final (topo) da pilha\n",
    "for letra in palavra:\n",
    "    pilha.append(letra)\n",
    "    print(pilha)\n",
    "\n",
    "print('*' * 50)\n",
    "\n",
    "inverso = ''\n",
    "\n",
    "# 2) Vamos retirar as letras da pilha, uma a uma, DO FIM PARA O INÍCIO.\n",
    "# A operação se repete enquanto a pilha não estiver vazia\n",
    "# Cada letra retirada é acrescentada à variável inverso\n",
    "\n",
    "while len(pilha) > 0:\n",
    "    letra = pilha.pop()     # Retira o último elemento da pilha\n",
    "    inverso += letra        # Acrescenta a letra ao inverso\n",
    "    print(f'Pilha: {pilha}; inverso: {inverso}')\n",
    "\n",
    "print('*' * 50)\n",
    "\n",
    "print('Palavra original: ', palavra)\n",
    "print('Palavra invertida: ', inverso)\n",
    "\n",
    "if palavra == inverso: print('*** É UM PALÍNDROMO ***')\n",
    "else: print('--- não é um palíndromo ---')"
   ]
  },
  {
   "cell_type": "code",
   "execution_count": 2,
   "metadata": {},
   "outputs": [],
   "source": [
    "\"\"\"\n",
    "    ESTRUTURA DE DADOS PILHA\n",
    "    É uma estrutura de dados linear de acesso restrito na qual tanto a operação de inserção (tradicionalmente chamada \"push\"), \n",
    "    quanto a operação de remoção (\"pop\") acontecem no final (ou topo). \n",
    "    Em consequência, o funcionamento da pilha obedece ao princípio LIFO (Last In, First Out): o último elemento a entrar deve ser o primeiro a sair.\n",
    "\"\"\"\n",
    "\n",
    "class Stack:\n",
    "\n",
    "    \"\"\" Método construtor \"\"\"\n",
    "    def __init__(self):\n",
    "        # Cria uma lista privada e vazia para armazenar os dados da pilha\n",
    "        self.__data = []\n",
    "\n",
    "    \"\"\"\n",
    "        Método para inserção\n",
    "        Em pilhas, tem nome padronizado: push\n",
    "    \"\"\"\n",
    "    def push(self, val):\n",
    "        self.__data.append(val)\n",
    "\n",
    "    \"\"\" \n",
    "        Método que verifica se pilha está ou não vazia\n",
    "    \"\"\"\n",
    "    def is_empty(self):\n",
    "        return len(self.__data) == 0\n",
    "\n",
    "    \"\"\"\n",
    "        Método para remoção\n",
    "        Em pilha, tem nome padronizado: pop\n",
    "    \"\"\"\n",
    "    def pop(self):\n",
    "        if self.is_empty():\n",
    "            raise Exception(\"ERRO: impossível remover de uma pilha vazia\")\n",
    "        \n",
    "        # Se chegou até aqui, a pilha NÃO está vazia e a remoção pode ser feita\n",
    "        return self.__data.pop()\n",
    "\n",
    "    \"\"\"\n",
    "        Método que permite consultar o valor que está no topo da pilha, sem removê-lo\n",
    "        Em pilhas, tem nome padronizado: peek\n",
    "        (\"Peek\" significa \"dar uma espiadinha\" em inglês)\n",
    "    \"\"\"\n",
    "    def peek(self):\n",
    "        if self.is_empty():\n",
    "            raise Exception(\"ERRO: impossível consultar uma pilha vazia\")\n",
    "        \n",
    "        return self.__data[-1]  # Último elemento da lista\n",
    "\n",
    "    \"\"\"\n",
    "        Método que permite imprimir a lista como string\n",
    "    \"\"\"\n",
    "    def __str__ (self):\n",
    "        return str(self.__data)"
   ]
  },
  {
   "cell_type": "code",
   "execution_count": 3,
   "metadata": {},
   "outputs": [
    {
     "name": "stdout",
     "output_type": "stream",
     "text": [
      "['Primeiro', 'Segundo', 'Terceiro']\n"
     ]
    }
   ],
   "source": [
    "pilha = Stack()     # Cria uma pilha\n",
    "\n",
    "pilha.push('Primeiro')\n",
    "pilha.push('Segundo')\n",
    "pilha.push('Terceiro')\n",
    "\n",
    "print(pilha)"
   ]
  },
  {
   "cell_type": "code",
   "execution_count": 4,
   "metadata": {},
   "outputs": [
    {
     "name": "stdout",
     "output_type": "stream",
     "text": [
      "Removido: Terceiro\n",
      "['Primeiro', 'Segundo']\n"
     ]
    }
   ],
   "source": [
    "removido = pilha.pop()\n",
    "print(f'Removido: {removido}')\n",
    "print(pilha)"
   ]
  },
  {
   "cell_type": "code",
   "execution_count": 5,
   "metadata": {},
   "outputs": [
    {
     "name": "stdout",
     "output_type": "stream",
     "text": [
      "['a']\n",
      "['a', 'r']\n",
      "['a', 'r', 'a']\n",
      "['a', 'r', 'a', 'r']\n",
      "['a', 'r', 'a', 'r', 'a']\n",
      "**************************************************\n",
      "Pilha: ['a', 'r', 'a', 'r']; inverso: a\n",
      "Pilha: ['a', 'r', 'a']; inverso: ar\n",
      "Pilha: ['a', 'r']; inverso: ara\n",
      "Pilha: ['a']; inverso: arar\n",
      "Pilha: []; inverso: arara\n",
      "**************************************************\n",
      "Palavra original:  arara\n",
      "Palavra invertida:  arara\n",
      "*** É UM PALÍNDROMO ***\n"
     ]
    }
   ],
   "source": [
    "\"\"\"\n",
    "    Programa simples que inverte uma palavra e verifica se ela é um PALÍNDROMO, uma palavra que pode ser lida de trás para a frente, assim como de frente para trás.\n",
    "    Para isso, usaremos uma estrutura de pilha baseada em uma lista do Python.\n",
    "\n",
    "    IMPLEMENTAÇÃO USANDO A CLASSE Stack\n",
    "\"\"\"\n",
    "\n",
    "# palavra = input('Informe a palavra a ser verificada: ')\n",
    "# ovo, arara, omississimo\n",
    "palavra = 'arara'\n",
    "\n",
    "# pilha = []  # Lista vazia que será usada como pilha\n",
    "pilha = Stack()\n",
    "\n",
    "# 1) Pega cada letra da palavra e insere no final (topo) da pilha\n",
    "for letra in palavra:\n",
    "    pilha.push(letra)\n",
    "    print(pilha)\n",
    "\n",
    "print('*' * 50)\n",
    "\n",
    "inverso = ''\n",
    "\n",
    "# 2) Vamos retirar as letras da pilha, uma a uma, DO FIM PARA O INÍCIO.\n",
    "# A operação se repete enquanto a pilha não estiver vazia\n",
    "# Cada letra retirada é acrescentada à variável inverso\n",
    "\n",
    "while not pilha.is_empty():\n",
    "    letra = pilha.pop()     # Retira o último elemento da pilha\n",
    "    inverso += letra        # Acrescenta a letra ao inverso\n",
    "    print(f'Pilha: {pilha}; inverso: {inverso}')\n",
    "\n",
    "print('*' * 50)\n",
    "\n",
    "print('Palavra original: ', palavra)\n",
    "print('Palavra invertida: ', inverso)\n",
    "\n",
    "if palavra == inverso: print('*** É UM PALÍNDROMO ***')\n",
    "else: print('--- não é um palíndromo ---')"
   ]
  },
  {
   "cell_type": "code",
   "execution_count": 6,
   "metadata": {},
   "outputs": [],
   "source": [
    "def testa_expressao(expr):\n",
    "\n",
    "    print(f\"EXPRESSÃO REGULAR: {expr}\")\n",
    "\n",
    "    pilha = Stack()\n",
    "\n",
    "    # Percorre a expressão em busca de parâmetroas\n",
    "    for pos in range(len(expr)):\n",
    "        # Empilha a posição quando é encontrado um abre parênteses\n",
    "        if expr[pos] == \"(\":\n",
    "            pilha.push(pos)\n",
    "            print(pilha)\n",
    "        \n",
    "        # Desempilha a posição do último abre parêntese empilhado quando um fecha parêntese é encontrado\n",
    "        elif expr[pos] == \")\":\n",
    "            if pilha.is_empty():\n",
    "                print(f'Parêntese fechado na posição {pos}, sem ter sido aberto')\n",
    "            else:\n",
    "                pos_abre = pilha.pop()\n",
    "                print(f'Parêntese aberto na posição {pos_abre} foi fechado na posição {pos}')\n",
    "                print(pilha)\n",
    "\n",
    "    # Verificar sobras na pilha\n",
    "    while not pilha.is_empty():\n",
    "        pos_abre = pilha.pop()\n",
    "        print(f'ERRO: parêntese aberto na posição {pos_abre} não possui o fecha correspondente')"
   ]
  },
  {
   "cell_type": "code",
   "execution_count": 7,
   "metadata": {},
   "outputs": [
    {
     "name": "stdout",
     "output_type": "stream",
     "text": [
      "EXPRESSÃO REGULAR: 2 + (( 5 * ( 3 / 2 + 1) / 4 ))\n",
      "[4]\n",
      "[4, 5]\n",
      "[4, 5, 11]\n",
      "Parêntese aberto na posição 11 foi fechado na posição 22\n",
      "[4, 5]\n",
      "Parêntese aberto na posição 5 foi fechado na posição 28\n",
      "[4]\n",
      "Parêntese aberto na posição 4 foi fechado na posição 29\n",
      "[]\n"
     ]
    }
   ],
   "source": [
    "expr = \"2 + (( 5 * ( 3 / 2 + 1) / 4 ))\"\n",
    "testa_expressao(expr)"
   ]
  },
  {
   "cell_type": "code",
   "execution_count": 8,
   "metadata": {},
   "outputs": [
    {
     "name": "stdout",
     "output_type": "stream",
     "text": [
      "EXPRESSÃO REGULAR: (2 + (( 5 * ( 3 / (2 + 1) / 4 ))\n",
      "[0]\n",
      "[0, 5]\n",
      "[0, 5, 6]\n",
      "[0, 5, 6, 12]\n",
      "[0, 5, 6, 12, 18]\n",
      "Parêntese aberto na posição 18 foi fechado na posição 24\n",
      "[0, 5, 6, 12]\n",
      "Parêntese aberto na posição 12 foi fechado na posição 30\n",
      "[0, 5, 6]\n",
      "Parêntese aberto na posição 6 foi fechado na posição 31\n",
      "[0, 5]\n",
      "ERRO: parêntese aberto na posição 5 não possui o fecha correspondente\n",
      "ERRO: parêntese aberto na posição 0 não possui o fecha correspondente\n"
     ]
    }
   ],
   "source": [
    "expr = \"(2 + (( 5 * ( 3 / (2 + 1) / 4 ))\"\n",
    "testa_expressao(expr)"
   ]
  },
  {
   "cell_type": "code",
   "execution_count": 9,
   "metadata": {},
   "outputs": [
    {
     "name": "stdout",
     "output_type": "stream",
     "text": [
      "EXPRESSÃO REGULAR: 2 + (( 5 * ( 3 / 2 ) + 1)) / 4 ))\n",
      "[4]\n",
      "[4, 5]\n",
      "[4, 5, 11]\n",
      "Parêntese aberto na posição 11 foi fechado na posição 19\n",
      "[4, 5]\n",
      "Parêntese aberto na posição 5 foi fechado na posição 24\n",
      "[4]\n",
      "Parêntese aberto na posição 4 foi fechado na posição 25\n",
      "[]\n",
      "Parêntese fechado na posição 31, sem ter sido aberto\n",
      "Parêntese fechado na posição 32, sem ter sido aberto\n"
     ]
    }
   ],
   "source": [
    "expr = \"2 + (( 5 * ( 3 / 2 ) + 1)) / 4 ))\"\n",
    "testa_expressao(expr)"
   ]
  }
 ],
 "metadata": {
  "kernelspec": {
   "display_name": "Python 3",
   "language": "python",
   "name": "python3"
  },
  "language_info": {
   "codemirror_mode": {
    "name": "ipython",
    "version": 3
   },
   "file_extension": ".py",
   "mimetype": "text/x-python",
   "name": "python",
   "nbconvert_exporter": "python",
   "pygments_lexer": "ipython3",
   "version": "3.11.2"
  },
  "orig_nbformat": 4
 },
 "nbformat": 4,
 "nbformat_minor": 2
}
