{
 "cells": [
  {
   "attachments": {},
   "cell_type": "markdown",
   "metadata": {},
   "source": [
    "### Busca sequencial"
   ]
  },
  {
   "cell_type": "code",
   "execution_count": 1,
   "metadata": {},
   "outputs": [],
   "source": [
    "# Lista de números\n",
    "nums = [9, 21, 33, 12, 0, 18, 24, 30, 15, 6, 3, 27]\n",
    "\n",
    "def busca_sequencial(lista, val):\n",
    "    \"\"\" Função que realiza uma busca sequencial em uma lista procuração por val.\n",
    "    Se val for encontrado, retorna a posição de val.\n",
    "    Caso contrário, retorna o valor -1 \"\"\"\n",
    "\n",
    "    for pos in range(len(lista)):\n",
    "        # Encontrou val; retorna a posição onde foi encontrado\n",
    "        if val == lista[pos]: return pos\n",
    "    # Percorreu toda a lista e não encontrou val: retorna -1\n",
    "    return -1\n",
    "\n",
    "# Busca sequencial: Lista precisa estar ordenada e quanto mais perto do fim o item estiver, mais tempo o algoritmo demora para encontrar"
   ]
  },
  {
   "attachments": {},
   "cell_type": "markdown",
   "metadata": {},
   "source": [
    "#### Testes"
   ]
  },
  {
   "cell_type": "code",
   "execution_count": 2,
   "metadata": {},
   "outputs": [
    {
     "name": "stdout",
     "output_type": "stream",
     "text": [
      "Posição do valor 15 na lista: 8\n",
      "Posição do valor 20 na lista: -1\n",
      "Posição do valor 33 na lista: 2\n"
     ]
    }
   ],
   "source": [
    "# Procurando o valor 15\n",
    "resultado = busca_sequencial(nums, 15)\n",
    "print(f'Posição do valor 15 na lista: {resultado}')\n",
    "\n",
    "# Procurando o valor 20\n",
    "resultado = busca_sequencial(nums, 20)\n",
    "print(f'Posição do valor 20 na lista: {resultado}')\n",
    "\n",
    "# Procurando o valor 33\n",
    "resultado = busca_sequencial(nums, 33)\n",
    "print(f'Posição do valor 33 na lista: {resultado}')"
   ]
  },
  {
   "attachments": {},
   "cell_type": "markdown",
   "metadata": {},
   "source": [
    "#### Testes com nomes"
   ]
  },
  {
   "cell_type": "code",
   "execution_count": 3,
   "metadata": {},
   "outputs": [
    {
     "name": "stdout",
     "output_type": "stream",
     "text": [
      "Posição do valor \"JOAO\" na lista: 89854\n",
      "Tempo gasto: 9.16ms\n"
     ]
    }
   ],
   "source": [
    "import sys\n",
    "sys.dont_write_bytecode = True # Impede a criação do cache\n",
    "\n",
    "from time import time\n",
    "from data.nomes_desord import nomes\n",
    "\n",
    "hora_ini = time()\n",
    "resultado = busca_sequencial(nomes, 'JOAO')\n",
    "hora_fim = time()\n",
    "print(f'Posição do valor \"JOAO\" na lista: {resultado}')\n",
    "print(f'Tempo gasto: {round((hora_fim - hora_ini) * 1000, 2)}ms')"
   ]
  },
  {
   "cell_type": "code",
   "execution_count": 4,
   "metadata": {},
   "outputs": [
    {
     "name": "stdout",
     "output_type": "stream",
     "text": [
      "Posição do valor \"JOAO\" na lista: 51951\n",
      "Tempo gasto: 10.68ms\n"
     ]
    }
   ],
   "source": [
    "from data.lista_nomes import nomes\n",
    "\n",
    "hora_ini = time()\n",
    "resultado = busca_sequencial(nomes, 'JOAO')\n",
    "hora_fim = time()\n",
    "print(f'Posição do valor \"JOAO\" na lista: {resultado}')\n",
    "print(f'Tempo gasto: {round((hora_fim - hora_ini) * 1000, 2)}ms')"
   ]
  },
  {
   "cell_type": "code",
   "execution_count": 5,
   "metadata": {},
   "outputs": [
    {
     "name": "stdout",
     "output_type": "stream",
     "text": [
      "Posição do valor \"CARLOS\" na lista: 12557\n",
      "Tempo gasto: 2.9ms\n"
     ]
    }
   ],
   "source": [
    "hora_ini = time()\n",
    "resultado = busca_sequencial(nomes, 'CARLOS')\n",
    "hora_fim = time()\n",
    "print(f'Posição do valor \"CARLOS\" na lista: {resultado}')\n",
    "print(f'Tempo gasto: {round((hora_fim - hora_ini) * 1000, 2)}ms')"
   ]
  },
  {
   "cell_type": "code",
   "execution_count": 6,
   "metadata": {},
   "outputs": [
    {
     "name": "stdout",
     "output_type": "stream",
     "text": [
      "Posição do valor \"YARA\" na lista: 99348\n",
      "Tempo gasto: 30.76ms\n"
     ]
    }
   ],
   "source": [
    "hora_ini = time()\n",
    "resultado = busca_sequencial(nomes, 'YARA')\n",
    "hora_fim = time()\n",
    "print(f'Posição do valor \"YARA\" na lista: {resultado}')\n",
    "print(f'Tempo gasto: {round((hora_fim - hora_ini) * 1000, 2)}ms')"
   ]
  },
  {
   "cell_type": "code",
   "execution_count": 7,
   "metadata": {},
   "outputs": [
    {
     "name": "stdout",
     "output_type": "stream",
     "text": [
      "Posição do valor \"ORKUTILSON\" na lista: -1\n",
      "Tempo gasto: 118.96ms\n"
     ]
    }
   ],
   "source": [
    "hora_ini = time()\n",
    "resultado = busca_sequencial(nomes, 'ORKUTILSON')\n",
    "hora_fim = time()\n",
    "print(f'Posição do valor \"ORKUTILSON\" na lista: {resultado}')\n",
    "print(f'Tempo gasto: {round((hora_fim - hora_ini) * 1000, 2)}ms')"
   ]
  }
 ],
 "metadata": {
  "kernelspec": {
   "display_name": "Python 3",
   "language": "python",
   "name": "python3"
  },
  "language_info": {
   "codemirror_mode": {
    "name": "ipython",
    "version": 3
   },
   "file_extension": ".py",
   "mimetype": "text/x-python",
   "name": "python",
   "nbconvert_exporter": "python",
   "pygments_lexer": "ipython3",
   "version": "3.11.2"
  },
  "orig_nbformat": 4,
  "vscode": {
   "interpreter": {
    "hash": "ead1b95f633dc9c51826328e1846203f51a198c6fb5f2884a80417ba131d4e82"
   }
  }
 },
 "nbformat": 4,
 "nbformat_minor": 2
}
