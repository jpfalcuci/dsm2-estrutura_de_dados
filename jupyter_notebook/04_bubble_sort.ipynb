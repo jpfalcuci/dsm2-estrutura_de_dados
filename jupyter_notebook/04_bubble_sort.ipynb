{
 "cells": [
  {
   "cell_type": "code",
   "execution_count": 1,
   "metadata": {},
   "outputs": [],
   "source": [
    "import sys\n",
    "sys.dont_write_bytecode = True  # Impede a criação do cache\n",
    "from time import time\n",
    "from data.nomes_desord import nomes"
   ]
  },
  {
   "attachments": {},
   "cell_type": "markdown",
   "metadata": {},
   "source": [
    "### Bubble sort"
   ]
  },
  {
   "cell_type": "code",
   "execution_count": 2,
   "metadata": {},
   "outputs": [],
   "source": [
    "\"\"\" \n",
    "    ALGORITMO DE ORDENAÇÃO BUBBLE SORT\n",
    "    Percorre a lista a ser ordenada em sucessivas passadas, trocando dois elementos adjacentes sempre que o segundo for MENOR que o primeiro.\n",
    "    Efetua tantas passadas quanto necessárias, até que, na última passada, nenhuma troca seja efetuada\n",
    "\"\"\"\n",
    "\n",
    "def bubble_sort(lista):\n",
    "    global comps, trocas, passadas\n",
    "    comps = trocas = passadas = 0\n",
    "\n",
    "    # Loop eterno, não sabemos quantas passadas serão necessárias\n",
    "    while True:\n",
    "        trocou = False\n",
    "        passadas += 1\n",
    "        \n",
    "        # Percurso da lista, do primeiro ao PENÚLTIMO elemento, com acesso a cada posição\n",
    "        for pos in range(len(lista) - 1):\n",
    "            comps += 1\n",
    "            \n",
    "            # Se o número que está a frente na lista for MENOR do que o que está atrás, TROCA\n",
    "            if lista[pos + 1 ] < lista[pos]:\n",
    "                lista[pos + 1], lista[pos] = lista[pos], lista[pos + 1]\n",
    "                trocou = True\n",
    "                trocas += 1\n",
    "        \n",
    "        if not trocou:  # Não houve troca na passada\n",
    "            break       # Interrompe o loop eterno; acabou"
   ]
  },
  {
   "attachments": {},
   "cell_type": "markdown",
   "metadata": {},
   "source": [
    "#### Teste com vetores de 10 números"
   ]
  },
  {
   "cell_type": "code",
   "execution_count": 3,
   "metadata": {},
   "outputs": [
    {
     "name": "stdout",
     "output_type": "stream",
     "text": [
      "Lista ordenada:  [0, 1, 2, 3, 4, 5, 6, 7, 8, 9]\n",
      "Comparações: 54, trocas: 21, passadas: 6\n"
     ]
    }
   ],
   "source": [
    "nums = [6, 4, 2, 0, 9, 5 ,1, 8, 3, 7]\n",
    "bubble_sort(nums)\n",
    "print('Lista ordenada: ', nums)\n",
    "print(f'Comparações: {comps}, trocas: {trocas}, passadas: {passadas}')"
   ]
  },
  {
   "attachments": {},
   "cell_type": "markdown",
   "metadata": {},
   "source": [
    "Pior caso:\n",
    "- n = itens da lista\n",
    "- 90 -> n² - n\n",
    "- 45 -> (n² - n) / 2\n",
    "- 10 -> n\n",
    "- Uma pequena alteração no número de elementos, eleva o número de comparações ao quadrado"
   ]
  },
  {
   "cell_type": "code",
   "execution_count": 4,
   "metadata": {},
   "outputs": [
    {
     "name": "stdout",
     "output_type": "stream",
     "text": [
      "Lista ordenada:  [0, 1, 2, 3, 4, 5, 6, 7, 8, 9]\n",
      "Pior caso - Comparações: 90, trocas: 45, passadas: 10\n"
     ]
    }
   ],
   "source": [
    "pior_caso = [9, 8, 7, 6, 5, 4, 3, 2, 1, 0]\n",
    "bubble_sort(pior_caso)\n",
    "print('Lista ordenada: ', pior_caso)\n",
    "print(f'Pior caso - Comparações: {comps}, trocas: {trocas}, passadas: {passadas}')"
   ]
  },
  {
   "attachments": {},
   "cell_type": "markdown",
   "metadata": {},
   "source": [
    "Melhor caso:\n",
    "- n = itens da lista\n",
    "- 0 -> n - 1\n",
    "- 0 -> 0\n",
    "- 1 -> 1"
   ]
  },
  {
   "cell_type": "code",
   "execution_count": 5,
   "metadata": {},
   "outputs": [
    {
     "name": "stdout",
     "output_type": "stream",
     "text": [
      "Lista ordenada:  [0, 1, 2, 3, 4, 5, 6, 7, 8, 9]\n",
      "Melhor caso - Comparações: 9, trocas: 0, passadas: 1\n"
     ]
    }
   ],
   "source": [
    "melhor_caso = [0, 1, 2, 3, 4, 5, 6, 7, 8, 9]\n",
    "bubble_sort(melhor_caso)\n",
    "print('Lista ordenada: ', melhor_caso)\n",
    "print(f'Melhor caso - Comparações: {comps}, trocas: {trocas}, passadas: {passadas}')"
   ]
  },
  {
   "cell_type": "markdown",
   "metadata": {},
   "source": [
    "#### Teste com nomes"
   ]
  },
  {
   "cell_type": "code",
   "execution_count": 6,
   "metadata": {},
   "outputs": [
    {
     "name": "stdout",
     "output_type": "stream",
     "text": [
      "Tempo gasto: 20247.85ms\n",
      "Comparações: 98440155, trocas: 24695190, passadas: 9845\n"
     ]
    }
   ],
   "source": [
    "# Pega apenas os 10k primeiros nomes\n",
    "nomes_10k = nomes[:10000]\n",
    "\n",
    "hora_ini = time()\n",
    "bubble_sort(nomes_10k)\n",
    "hora_fim = time()\n",
    "\n",
    "# print(\"Nomes ordenados: \", nomes_10k)\n",
    "print(f'Tempo gasto: {round((hora_fim - hora_ini) * 1000, 2)}ms')\n",
    "print(f'Comparações: {comps}, trocas: {trocas}, passadas: {passadas}')"
   ]
  },
  {
   "attachments": {},
   "cell_type": "markdown",
   "metadata": {},
   "source": [
    "### Bubble sort (otimizado)"
   ]
  },
  {
   "cell_type": "code",
   "execution_count": 7,
   "metadata": {},
   "outputs": [],
   "source": [
    "\"\"\" \n",
    "    ALGORITMO DE ORDENAÇÃO BUBBLE SORT\n",
    "    Percorre a lista a ser ordenada em sucessivas passadas, trocando dois elementos adjacentes sempre que o segundo for MENOR que o primeiro.\n",
    "    Efetua tantas passadas quanto necessárias, até que, na última passada, nenhuma troca seja efetuada\n",
    "    VERSÃO OTIMIZADA COM ENCOLHIMENTO DO PERCURSO A CADA PASSADA\n",
    "\"\"\"\n",
    "\n",
    "def bubble_sort(lista):\n",
    "    global comps, trocas, passadas\n",
    "    comps = trocas = passadas = 0\n",
    "    desloc = 1\n",
    "\n",
    "    # Loop eterno, não sabemos quantas passadas serão necessárias\n",
    "    while True:\n",
    "        trocou = False\n",
    "        passadas += 1\n",
    "        \n",
    "        # Percurso da lista, do primeiro ao PENÚLTIMO elemento, com acesso a cada posição\n",
    "        for pos in range(len(lista) - desloc):\n",
    "            comps += 1\n",
    "            \n",
    "            # Se o número que está a frente na lista for MENOR do que o que está atrás, TROCA\n",
    "            if lista[pos + 1 ] < lista[pos]:\n",
    "                lista[pos + 1], lista[pos] = lista[pos], lista[pos + 1]\n",
    "                trocou = True\n",
    "                trocas += 1\n",
    "        \n",
    "        if not trocou:  # Não houve troca na passada\n",
    "            break       # Interrompe o loop eterno; acabou\n",
    "\n",
    "        desloc += 1 # Aumenta o deslocamento para diminuir o tamanho da próxima passada"
   ]
  },
  {
   "attachments": {},
   "cell_type": "markdown",
   "metadata": {},
   "source": [
    "#### Teste com vetores de 10 números"
   ]
  },
  {
   "cell_type": "code",
   "execution_count": 8,
   "metadata": {},
   "outputs": [
    {
     "name": "stdout",
     "output_type": "stream",
     "text": [
      "Lista ordenada:  [0, 1, 2, 3, 4, 5, 6, 7, 8, 9]\n",
      "Comparações: 39, trocas: 21, passadas: 6\n"
     ]
    }
   ],
   "source": [
    "nums = [6, 4, 2, 0, 9, 5 ,1, 8, 3, 7]\n",
    "bubble_sort(nums)\n",
    "print('Lista ordenada: ', nums)\n",
    "print(f'Comparações: {comps}, trocas: {trocas}, passadas: {passadas}')"
   ]
  },
  {
   "cell_type": "code",
   "execution_count": 9,
   "metadata": {},
   "outputs": [
    {
     "name": "stdout",
     "output_type": "stream",
     "text": [
      "Lista ordenada:  [0, 1, 2, 3, 4, 5, 6, 7, 8, 9]\n",
      "Pior caso - Comparações: 45, trocas: 45, passadas: 10\n"
     ]
    }
   ],
   "source": [
    "pior_caso = [9, 8, 7, 6, 5, 4, 3, 2, 1, 0]\n",
    "bubble_sort(pior_caso)\n",
    "print('Lista ordenada: ', pior_caso)\n",
    "print(f'Pior caso - Comparações: {comps}, trocas: {trocas}, passadas: {passadas}')"
   ]
  },
  {
   "cell_type": "code",
   "execution_count": 10,
   "metadata": {},
   "outputs": [
    {
     "name": "stdout",
     "output_type": "stream",
     "text": [
      "Lista ordenada:  [0, 1, 2, 3, 4, 5, 6, 7, 8, 9]\n",
      "Melhor caso - Comparações: 9, trocas: 0, passadas: 1\n"
     ]
    }
   ],
   "source": [
    "melhor_caso = [0, 1, 2, 3, 4, 5, 6, 7, 8, 9]\n",
    "bubble_sort(melhor_caso)\n",
    "print('Lista ordenada: ', melhor_caso)\n",
    "print(f'Melhor caso - Comparações: {comps}, trocas: {trocas}, passadas: {passadas}')"
   ]
  },
  {
   "attachments": {},
   "cell_type": "markdown",
   "metadata": {},
   "source": [
    "#### Teste com nomes"
   ]
  },
  {
   "cell_type": "code",
   "execution_count": 11,
   "metadata": {},
   "outputs": [
    {
     "name": "stdout",
     "output_type": "stream",
     "text": [
      "Tempo gasto: 12536.22ms\n",
      "Comparações: 49983065, trocas: 24695190, passadas: 9845\n"
     ]
    }
   ],
   "source": [
    "# Pega apenas os 10k primeiros nomes\n",
    "nomes_10k = nomes[:10000]\n",
    "\n",
    "hora_ini = time()\n",
    "bubble_sort(nomes_10k)\n",
    "hora_fim = time()\n",
    "\n",
    "# print(\"Nomes ordenados: \", nomes_10k)\n",
    "print(f'Tempo gasto: {round((hora_fim - hora_ini) * 1000, 2)}ms')\n",
    "print(f'Comparações: {comps}, trocas: {trocas}, passadas: {passadas}')"
   ]
  }
 ],
 "metadata": {
  "kernelspec": {
   "display_name": "Python 3",
   "language": "python",
   "name": "python3"
  },
  "language_info": {
   "codemirror_mode": {
    "name": "ipython",
    "version": 3
   },
   "file_extension": ".py",
   "mimetype": "text/x-python",
   "name": "python",
   "nbconvert_exporter": "python",
   "pygments_lexer": "ipython3",
   "version": "3.11.2"
  },
  "orig_nbformat": 4,
  "vscode": {
   "interpreter": {
    "hash": "ead1b95f633dc9c51826328e1846203f51a198c6fb5f2884a80417ba131d4e82"
   }
  }
 },
 "nbformat": 4,
 "nbformat_minor": 2
}
