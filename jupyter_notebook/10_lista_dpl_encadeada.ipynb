{
 "cells": [
  {
   "attachments": {},
   "cell_type": "markdown",
   "metadata": {},
   "source": [
    "### Lista Duplamente Encadeada"
   ]
  },
  {
   "cell_type": "code",
   "execution_count": 1,
   "metadata": {},
   "outputs": [],
   "source": [
    "class DoublyLinkedList:\n",
    "    \"\"\"\n",
    "        ESTRUTURA DE DADOS LISTA DUPLAMENTE ENCADEADA\n",
    "        Trata-se de uma lista linear, em que seus elementos (chamados nodos ou nós) não estão fisicamente adjacentes uns dos outros,\n",
    "        mas ligados logicamente por ponteiros que indicam o nodo anterior e o próximo nodo da sequência.\n",
    "        Não possui restrição de acesso - inserções, exclusões e consultas podem ser realizadas em qualquer posição da lista.\n",
    "    \"\"\"\n",
    "\n",
    "    class Node:\n",
    "        \"\"\" Classe que representa a unidade de informação armazenada pela lista duplamente encadeada \"\"\"\n",
    "        def __init__(self, data):\n",
    "            self.prev = None    # Ponteiro para o nodo anterior\n",
    "            self.data = data    # Dado útil para o usuário\n",
    "            self.next = None    # Ponteiro para o nodo posterior\n",
    "\n",
    "    def __init__(self):\n",
    "        \"\"\" Construtor da classe DoublyLinkedList \"\"\"\n",
    "        self.__head = None      # Ponteiro para o primeiro nodo da lista\n",
    "        self.__tail = None      # Ponteiro para o último nodo da lista\n",
    "        self.__count = 0        # Quantidade de nodos da lista\n",
    "\n",
    "    def get_count(self):\n",
    "        \"\"\" Método que retorna a quantidade de itens da lista \"\"\"\n",
    "        return self.__count\n",
    "\n",
    "    def __find_node(self, pos):\n",
    "        \"\"\" Método PRIVADO que encontra um nodo na posição especificada \"\"\"\n",
    "        # 1º caso: posição 0, retorna self.__head\n",
    "        if pos == 0: return self.__head\n",
    "\n",
    "        # 2º caso: posição final (self.get_count() - 1)\n",
    "        if pos == self.get_count() - 1: return self.__tail\n",
    "\n",
    "        # 3º caso: posição intermediária\n",
    "\n",
    "        # Se a posição estiver na primeira metade da lista, faz o percurso a partir de self.__head, seguindo next\n",
    "        if pos < self.get_count() // 2:\n",
    "            # Percorre a lista quantas vezes for necessário para encontrar o nodo\n",
    "            node = self.__head\n",
    "            for i in range(1, pos + 1): node.next\n",
    "            return node\n",
    "\n",
    "        # Senão, a posição estando na segunda metade da lista, faz o percurso reverso a partir de self.__tail, seguindo prev\n",
    "        else:\n",
    "            node = self.__tail      # Começa pelo último\n",
    "            for i in range(self.get_count() - 2, pos - 1, -1):\n",
    "                node = node.prev\n",
    "            return node\n",
    "\n",
    "    def insert(self, pos, val):\n",
    "        \"\"\" Método que insere um novo valor à lista \"\"\"\n",
    "\n",
    "        # Criamos um novo para armazenar a informação do usuário e também os ponteiros prev e next, ambos apontando para None\n",
    "        inserted = self.Node(val)\n",
    "\n",
    "        # 1º caso: a lista está vazia, e este é o primeiro nodo a ser inserido\n",
    "        if self.get_count() == 0:\n",
    "            self.__head = inserted\n",
    "            self.__tail = inserted\n",
    "\n",
    "        # 2º caso: inserção no início da lista (posição 0)\n",
    "        elif pos == 0:\n",
    "            inserted.next = self.__head\n",
    "            self.__head.prev = inserted\n",
    "            self.__head = inserted\n",
    "\n",
    "        # 3º caso: inserção no final da lista\n",
    "        # Obs.: consideramos como posição final qualquer posição que seja >= self.get_count()\n",
    "        elif pos >= self.get_count():\n",
    "            inserted.prev = self.__tail\n",
    "            self.__tail.next = inserted\n",
    "            self.__tail = inserted\n",
    "\n",
    "        # 4º caso: inserção em posição intermediária\n",
    "        elif pos > 0:   # Descarta posições negativas\n",
    "            # Encontra o nodo que atualmente ocupa a posição de inserção\n",
    "            current = self.__find_node(pos)\n",
    "\n",
    "            # Determina o nodo anterior à posição de inserção\n",
    "            before = current.prev\n",
    "\n",
    "            before.next = inserted\n",
    "            inserted.prev = before\n",
    "            inserted.next = current\n",
    "            current.prev = inserted\n",
    "\n",
    "        # Incrementa a quantidade de nodos da lista\n",
    "        self.__count += 1\n",
    "\n",
    "    def insert_front(self, val):\n",
    "        \"\"\" Método de atalho para inserção no início da lista \"\"\"\n",
    "        self.insert(0, val)\n",
    "\n",
    "    def insert_back(self, val):\n",
    "        \"\"\" Método de atalho para inserção no final da lista \"\"\"\n",
    "        self.insert(self.get_count(), val)\n",
    "\n",
    "    def remove(self, pos):\n",
    "        \"\"\" Método que remove o nodo da posição especificada \"\"\"\n",
    "\n",
    "        # 1º caso: lista vazia ou posição fora dos limites\n",
    "        if self.get_count() == 0 or pos < 0 or pos > self.get_count() -1:\n",
    "            raise Exception(\"ERRO: posição inválida para remoção.\")\n",
    "\n",
    "        # 2º caso: remoção do início da lista\n",
    "        if pos == 0:\n",
    "            # Será removido o primeiro nodo da lista\n",
    "            removed = self.__head\n",
    "            # O novo __head passa a ser o sucessor do nodo removido\n",
    "            self.__head = removed.next\n",
    "            # Se o novo __head for um nodo válido, ele não pode ter um antecessor\n",
    "            if self.__head is not None: self.__head.prev = None\n",
    "            # Em caso de remoção do único nodo restante da lista, __tail precisa passar a valer None também\n",
    "            if self.get_count() == 1: self.__tail = None\n",
    "\n",
    "        # 3º caso: remoção do final da lista\n",
    "        elif pos == self.get_count() - 1:\n",
    "            # Será removido o último nodo da lista\n",
    "            removed = self.__tail\n",
    "            # O novo __tail passa a ser o antecessor do nodo removido\n",
    "            self.__tail = removed.prev\n",
    "            # Se o novo __tail for um nodo válido, ele não pode ter um sucessor\n",
    "            if self.__tail is not None: self.__tail.next = None\n",
    "            # Em caso de remoção do único nodo restante da lista, __head precisa passar a valer None também\n",
    "            if self.get_count() == 1: self.__head = None\n",
    "\n",
    "        # 4º caso: remoção em posição intermediária\n",
    "        else:\n",
    "            removed = self.__find_node(pos)\n",
    "            before = removed.prev   # Nodo anterior ao que está sendo removido\n",
    "            after = removed.next    # Novo posterior ao que está sendo removido\n",
    "            # O nodo anterior passa a apontar, à frente, para o nodo posterior\n",
    "            before.next = after\n",
    "            # O nodo anterior passa a apontar, para trás, para o nodo anterior\n",
    "            after.prev = before\n",
    "\n",
    "        # Decrementa a quantidade de itens da lista\n",
    "        self.__count -= 1\n",
    "\n",
    "        # Retorna a informação do usuário armazenada no nodo removido\n",
    "        return removed.data\n",
    "\n",
    "    def remove_front(self):\n",
    "        \"\"\" Método de atalho para remoção do primeiro nodo \"\"\"\n",
    "        return self.remove(0)\n",
    "\n",
    "    def remove_back(self):\n",
    "        \"\"\" Método de atalho para remoção do último nodo \"\"\"\n",
    "        return self.remove(self.get_count() - 1)\n",
    "\n",
    "    def peek(self, pos):\n",
    "        \"\"\" Método que retorna o valor armazenado na posição especificada, sem removê-lo \"\"\"\n",
    "\n",
    "        # 1º caso: lista vazia ou posição fora dos limites\n",
    "        if self.get_count() == 0 or pos < 0 or pos >= self.get_count():\n",
    "            raise Exception(\"ERRO: posição inválida para consulta\")\n",
    "\n",
    "        node = self.__find_node(pos)\n",
    "        return node.data\n",
    "\n",
    "    def peek_front(self):\n",
    "        \"\"\" Método de atalho para consultar o primeiro nodo \"\"\"\n",
    "        return self.peek(0)\n",
    "\n",
    "    def peek_back(self):\n",
    "        \"\"\" Método de atalho para consultar o último nodo \"\"\"\n",
    "        return self.peek(self.get_count() - 1)\n",
    "\n",
    "    def find(self, val):\n",
    "        \"\"\"\n",
    "            Método que procura um nodo por seu valor\n",
    "            Retorna a posição do nodo, se o encontrar, ou -1, caso contrário\n",
    "        \"\"\"\n",
    "        node = self.__head\n",
    "        for pos in range(0, self.get_count()):\n",
    "            if node.data == val: return pos     # Encontrou o valor\n",
    "            node = node.next\n",
    "        return -1       # Valor não encontrado\n",
    "\n",
    "    def __str__(self):\n",
    "        \"\"\" Método que exibe uma representação da lista como string \"\"\"\n",
    "        if self.get_count() == 0: return \"*** [ LISTA VAZIA ] ***\"\n",
    "        else:\n",
    "            repr = f'LISTING {self.get_count()} ITEMS\\n'\n",
    "            repr += ('=' * 50) + \"\\n\"\n",
    "            node = self.__head\n",
    "            for pos in range(self.get_count()):\n",
    "                repr += f'NODE #{pos}, adress: {hex(id(node))}\\n'\n",
    "                repr += f'prev: {hex(id(node.prev))}\\n'\n",
    "                repr += f'DATA: {node.data}\\n'\n",
    "                repr += f'next: {hex(id(node.next))}\\n'\n",
    "                repr += ('-' * 50) + '\\n'\n",
    "                node = node.next\n",
    "            # repr += \"\\n\"\n",
    "            return repr"
   ]
  },
  {
   "cell_type": "code",
   "execution_count": 2,
   "metadata": {},
   "outputs": [
    {
     "name": "stdout",
     "output_type": "stream",
     "text": [
      "*** [ LISTA VAZIA ] ***\n"
     ]
    }
   ],
   "source": [
    "lista = DoublyLinkedList()\n",
    "print(lista)"
   ]
  },
  {
   "attachments": {},
   "cell_type": "markdown",
   "metadata": {},
   "source": [
    "##### Insere o primeiro elemento"
   ]
  },
  {
   "cell_type": "code",
   "execution_count": 3,
   "metadata": {},
   "outputs": [
    {
     "name": "stdout",
     "output_type": "stream",
     "text": [
      "LISTING 1 ITEMS\n",
      "==================================================\n",
      "NODE #0, adress: 0x7efc6b32a890\n",
      "prev: 0x95ecc0\n",
      "DATA: Macarrão\n",
      "next: 0x95ecc0\n",
      "--------------------------------------------------\n",
      "\n"
     ]
    }
   ],
   "source": [
    "lista.insert(0, \"Macarrão\")\n",
    "print(lista)"
   ]
  },
  {
   "attachments": {},
   "cell_type": "markdown",
   "metadata": {},
   "source": [
    "##### Insere no fim"
   ]
  },
  {
   "cell_type": "code",
   "execution_count": 4,
   "metadata": {},
   "outputs": [
    {
     "name": "stdout",
     "output_type": "stream",
     "text": [
      "LISTING 2 ITEMS\n",
      "==================================================\n",
      "NODE #0, adress: 0x7efc6b32a890\n",
      "prev: 0x95ecc0\n",
      "DATA: Macarrão\n",
      "next: 0x7efc680eac90\n",
      "--------------------------------------------------\n",
      "NODE #1, adress: 0x7efc680eac90\n",
      "prev: 0x7efc6b32a890\n",
      "DATA: Molho de tomate\n",
      "next: 0x95ecc0\n",
      "--------------------------------------------------\n",
      "\n"
     ]
    }
   ],
   "source": [
    "lista.insert(1, \"Molho de tomate\")\n",
    "print(lista)"
   ]
  },
  {
   "attachments": {},
   "cell_type": "markdown",
   "metadata": {},
   "source": [
    "##### Insere em uma posição intermediária"
   ]
  },
  {
   "cell_type": "code",
   "execution_count": 5,
   "metadata": {},
   "outputs": [
    {
     "name": "stdout",
     "output_type": "stream",
     "text": [
      "LISTING 3 ITEMS\n",
      "==================================================\n",
      "NODE #0, adress: 0x7efc6b32a890\n",
      "prev: 0x95ecc0\n",
      "DATA: Macarrão\n",
      "next: 0x7efc680e8f90\n",
      "--------------------------------------------------\n",
      "NODE #1, adress: 0x7efc680e8f90\n",
      "prev: 0x7efc6b32a890\n",
      "DATA: Óleo de soja\n",
      "next: 0x7efc680eac90\n",
      "--------------------------------------------------\n",
      "NODE #2, adress: 0x7efc680eac90\n",
      "prev: 0x7efc680e8f90\n",
      "DATA: Molho de tomate\n",
      "next: 0x95ecc0\n",
      "--------------------------------------------------\n",
      "\n"
     ]
    }
   ],
   "source": [
    "lista.insert(1, \"Óleo de soja\")\n",
    "print(lista)"
   ]
  },
  {
   "attachments": {},
   "cell_type": "markdown",
   "metadata": {},
   "source": [
    "##### Insere no final usando método de atalho"
   ]
  },
  {
   "cell_type": "code",
   "execution_count": 6,
   "metadata": {},
   "outputs": [],
   "source": [
    "lista.insert_back(\"Queijo ralado\")"
   ]
  },
  {
   "attachments": {},
   "cell_type": "markdown",
   "metadata": {},
   "source": [
    "##### Insere no início usando método de atalho"
   ]
  },
  {
   "cell_type": "code",
   "execution_count": 7,
   "metadata": {},
   "outputs": [],
   "source": [
    "lista.insert_front(\"Carne moída\")"
   ]
  },
  {
   "attachments": {},
   "cell_type": "markdown",
   "metadata": {},
   "source": [
    "##### Mais uma inserção em posição intermediária"
   ]
  },
  {
   "cell_type": "code",
   "execution_count": 8,
   "metadata": {},
   "outputs": [
    {
     "name": "stdout",
     "output_type": "stream",
     "text": [
      "LISTING 6 ITEMS\n",
      "==================================================\n",
      "NODE #0, adress: 0x7efc680ebd90\n",
      "prev: 0x95ecc0\n",
      "DATA: Carne moída\n",
      "next: 0x7efc6b32a890\n",
      "--------------------------------------------------\n",
      "NODE #1, adress: 0x7efc6b32a890\n",
      "prev: 0x7efc680ebd90\n",
      "DATA: Macarrão\n",
      "next: 0x7efc680e8f90\n",
      "--------------------------------------------------\n",
      "NODE #2, adress: 0x7efc680e8f90\n",
      "prev: 0x7efc6b32a890\n",
      "DATA: Óleo de soja\n",
      "next: 0x7efc680ed8d0\n",
      "--------------------------------------------------\n",
      "NODE #3, adress: 0x7efc680ed8d0\n",
      "prev: 0x7efc680e8f90\n",
      "DATA: Sal\n",
      "next: 0x7efc680eac90\n",
      "--------------------------------------------------\n",
      "NODE #4, adress: 0x7efc680eac90\n",
      "prev: 0x7efc680ed8d0\n",
      "DATA: Molho de tomate\n",
      "next: 0x7efc680e11d0\n",
      "--------------------------------------------------\n",
      "NODE #5, adress: 0x7efc680e11d0\n",
      "prev: 0x7efc680eac90\n",
      "DATA: Queijo ralado\n",
      "next: 0x95ecc0\n",
      "--------------------------------------------------\n",
      "\n"
     ]
    }
   ],
   "source": [
    "lista.insert(3, \"Sal\")\n",
    "print(lista)"
   ]
  },
  {
   "attachments": {},
   "cell_type": "markdown",
   "metadata": {},
   "source": [
    "##### Busca pelo valor \"Queijo ralado\" na lista"
   ]
  },
  {
   "cell_type": "code",
   "execution_count": 9,
   "metadata": {},
   "outputs": [
    {
     "name": "stdout",
     "output_type": "stream",
     "text": [
      "'Queijo ralado' está na posição 5\n"
     ]
    }
   ],
   "source": [
    "pos1 = lista.find(\"Queijo ralado\")\n",
    "print(f\"'Queijo ralado' está na posição {pos1}\")"
   ]
  },
  {
   "attachments": {},
   "cell_type": "markdown",
   "metadata": {},
   "source": [
    "##### Busca pelo valor \"Manjericão\" na lista"
   ]
  },
  {
   "cell_type": "code",
   "execution_count": 10,
   "metadata": {},
   "outputs": [
    {
     "name": "stdout",
     "output_type": "stream",
     "text": [
      "'Manjericão' está na posição -1\n"
     ]
    }
   ],
   "source": [
    "pos2 = lista.find(\"Manjericão\")\n",
    "print(f\"'Manjericão' está na posição {pos2}\")"
   ]
  },
  {
   "attachments": {},
   "cell_type": "markdown",
   "metadata": {},
   "source": [
    "##### Consulta alguns itens da lista"
   ]
  },
  {
   "cell_type": "code",
   "execution_count": 11,
   "metadata": {},
   "outputs": [
    {
     "name": "stdout",
     "output_type": "stream",
     "text": [
      "PRIMEIRO: Carne moída, ÚLTIMO: Queijo ralado, QUARTO: Sal\n"
     ]
    }
   ],
   "source": [
    "primeiro = lista.peek_front()\n",
    "ultimo = lista.peek_back()\n",
    "quarto = lista.peek(3)\n",
    "print(f\"PRIMEIRO: {primeiro}, ÚLTIMO: {ultimo}, QUARTO: {quarto}\")"
   ]
  },
  {
   "attachments": {},
   "cell_type": "markdown",
   "metadata": {},
   "source": [
    "##### Remove o primeiro item da lista"
   ]
  },
  {
   "cell_type": "code",
   "execution_count": 12,
   "metadata": {},
   "outputs": [
    {
     "name": "stdout",
     "output_type": "stream",
     "text": [
      "PRIMEIRO ITEM REMOVIDO: Carne moída\n",
      "LISTING 5 ITEMS\n",
      "==================================================\n",
      "NODE #0, adress: 0x7efc6b32a890\n",
      "prev: 0x95ecc0\n",
      "DATA: Macarrão\n",
      "next: 0x7efc680e8f90\n",
      "--------------------------------------------------\n",
      "NODE #1, adress: 0x7efc680e8f90\n",
      "prev: 0x7efc6b32a890\n",
      "DATA: Óleo de soja\n",
      "next: 0x7efc680ed8d0\n",
      "--------------------------------------------------\n",
      "NODE #2, adress: 0x7efc680ed8d0\n",
      "prev: 0x7efc680e8f90\n",
      "DATA: Sal\n",
      "next: 0x7efc680eac90\n",
      "--------------------------------------------------\n",
      "NODE #3, adress: 0x7efc680eac90\n",
      "prev: 0x7efc680ed8d0\n",
      "DATA: Molho de tomate\n",
      "next: 0x7efc680e11d0\n",
      "--------------------------------------------------\n",
      "NODE #4, adress: 0x7efc680e11d0\n",
      "prev: 0x7efc680eac90\n",
      "DATA: Queijo ralado\n",
      "next: 0x95ecc0\n",
      "--------------------------------------------------\n",
      "\n"
     ]
    }
   ],
   "source": [
    "primeiro = lista.remove_front()\n",
    "print(f\"PRIMEIRO ITEM REMOVIDO: {primeiro}\")\n",
    "print(lista)"
   ]
  },
  {
   "attachments": {},
   "cell_type": "markdown",
   "metadata": {},
   "source": [
    "##### Remove o último item da lista"
   ]
  },
  {
   "cell_type": "code",
   "execution_count": 13,
   "metadata": {},
   "outputs": [
    {
     "name": "stdout",
     "output_type": "stream",
     "text": [
      "ÚLTIMO ITEM REMOVIDO: Queijo ralado\n",
      "LISTING 4 ITEMS\n",
      "==================================================\n",
      "NODE #0, adress: 0x7efc6b32a890\n",
      "prev: 0x95ecc0\n",
      "DATA: Macarrão\n",
      "next: 0x7efc680e8f90\n",
      "--------------------------------------------------\n",
      "NODE #1, adress: 0x7efc680e8f90\n",
      "prev: 0x7efc6b32a890\n",
      "DATA: Óleo de soja\n",
      "next: 0x7efc680ed8d0\n",
      "--------------------------------------------------\n",
      "NODE #2, adress: 0x7efc680ed8d0\n",
      "prev: 0x7efc680e8f90\n",
      "DATA: Sal\n",
      "next: 0x7efc680eac90\n",
      "--------------------------------------------------\n",
      "NODE #3, adress: 0x7efc680eac90\n",
      "prev: 0x7efc680ed8d0\n",
      "DATA: Molho de tomate\n",
      "next: 0x95ecc0\n",
      "--------------------------------------------------\n",
      "\n"
     ]
    }
   ],
   "source": [
    "ultimo = lista.remove_back()\n",
    "print(f\"ÚLTIMO ITEM REMOVIDO: {ultimo}\")\n",
    "print(lista)"
   ]
  },
  {
   "attachments": {},
   "cell_type": "markdown",
   "metadata": {},
   "source": [
    "##### Remove o item da posição 2"
   ]
  },
  {
   "cell_type": "code",
   "execution_count": 14,
   "metadata": {},
   "outputs": [
    {
     "name": "stdout",
     "output_type": "stream",
     "text": [
      "ITEM DA POSIÇÃO 2, REMOVIDO: Sal\n",
      "LISTING 3 ITEMS\n",
      "==================================================\n",
      "NODE #0, adress: 0x7efc6b32a890\n",
      "prev: 0x95ecc0\n",
      "DATA: Macarrão\n",
      "next: 0x7efc680e8f90\n",
      "--------------------------------------------------\n",
      "NODE #1, adress: 0x7efc680e8f90\n",
      "prev: 0x7efc6b32a890\n",
      "DATA: Óleo de soja\n",
      "next: 0x7efc680eac90\n",
      "--------------------------------------------------\n",
      "NODE #2, adress: 0x7efc680eac90\n",
      "prev: 0x7efc680e8f90\n",
      "DATA: Molho de tomate\n",
      "next: 0x95ecc0\n",
      "--------------------------------------------------\n",
      "\n"
     ]
    }
   ],
   "source": [
    "pos2 = lista.remove(2)\n",
    "print(f\"ITEM DA POSIÇÃO 2, REMOVIDO: {pos2}\")\n",
    "print(lista)"
   ]
  }
 ],
 "metadata": {
  "kernelspec": {
   "display_name": "Python 3",
   "language": "python",
   "name": "python3"
  },
  "language_info": {
   "codemirror_mode": {
    "name": "ipython",
    "version": 3
   },
   "file_extension": ".py",
   "mimetype": "text/x-python",
   "name": "python",
   "nbconvert_exporter": "python",
   "pygments_lexer": "ipython3",
   "version": "3.11.2"
  },
  "orig_nbformat": 4
 },
 "nbformat": 4,
 "nbformat_minor": 2
}
