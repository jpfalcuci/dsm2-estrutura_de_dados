{
 "cells": [
  {
   "attachments": {},
   "cell_type": "markdown",
   "metadata": {},
   "source": [
    "## Algoritmos de busca"
   ]
  },
  {
   "attachments": {},
   "cell_type": "markdown",
   "metadata": {},
   "source": [
    "### Busca sequencial"
   ]
  },
  {
   "cell_type": "code",
   "execution_count": 1,
   "metadata": {},
   "outputs": [],
   "source": [
    "# Lista de números\n",
    "nums = [9, 21, 33, 12, 0, 18, 24, 30, 15, 6, 3, 27]\n",
    "\n",
    "\"\"\" \n",
    "    Função que realiza uma busca sequencial em uma lista procuração por val.\n",
    "    Se val for encontrado, retorna a posição de val.\n",
    "    Caso contrário, retorna o valor -1\n",
    "\"\"\"\n",
    "\n",
    "def busca_sequencial(lista, val):\n",
    "    for pos in range(len(lista)):\n",
    "        # Encontrou val; retorna a posição onde foi encontrado\n",
    "        if val == lista[pos]: return pos\n",
    "    # Percorreu toda a lista e não encontrou val: retorna -1\n",
    "    return -1\n",
    "\n",
    "# Busca sequencial: Lista precisa estar ordenada e quanto mais perto do fim o item estiver, mais tempo o algoritmo demora para encontrar"
   ]
  },
  {
   "attachments": {},
   "cell_type": "markdown",
   "metadata": {},
   "source": [
    "#### Testes"
   ]
  },
  {
   "cell_type": "code",
   "execution_count": 2,
   "metadata": {},
   "outputs": [
    {
     "name": "stdout",
     "output_type": "stream",
     "text": [
      "Posição do valor 15 na lista: 8\n",
      "Posição do valor 20 na lista: -1\n",
      "Posição do valor 33 na lista: 2\n"
     ]
    }
   ],
   "source": [
    "# Procurando o valor 15\n",
    "resultado = busca_sequencial(nums, 15)\n",
    "print(f'Posição do valor 15 na lista: {resultado}')\n",
    "\n",
    "# Procurando o valor 20\n",
    "resultado = busca_sequencial(nums, 20)\n",
    "print(f'Posição do valor 20 na lista: {resultado}')\n",
    "\n",
    "# Procurando o valor 33\n",
    "resultado = busca_sequencial(nums, 33)\n",
    "print(f'Posição do valor 33 na lista: {resultado}')"
   ]
  },
  {
   "attachments": {},
   "cell_type": "markdown",
   "metadata": {},
   "source": [
    "#### Testes com nomes"
   ]
  },
  {
   "cell_type": "code",
   "execution_count": 3,
   "metadata": {},
   "outputs": [
    {
     "name": "stdout",
     "output_type": "stream",
     "text": [
      "Posição do valor \"JOAO\" na lista: 89854\n",
      "Tempo gasto: 4.69ms\n"
     ]
    }
   ],
   "source": [
    "import sys\n",
    "sys.dont_write_bytecode = True # Impede a criação do cache\n",
    "\n",
    "from time import time\n",
    "from data.nomes_desord import nomes\n",
    "\n",
    "hora_ini = time()\n",
    "resultado = busca_sequencial(nomes, 'JOAO')\n",
    "hora_fim = time()\n",
    "print(f'Posição do valor \"JOAO\" na lista: {resultado}')\n",
    "print(f'Tempo gasto: {round((hora_fim - hora_ini) * 1000, 2)}ms')"
   ]
  },
  {
   "cell_type": "code",
   "execution_count": 4,
   "metadata": {},
   "outputs": [
    {
     "name": "stdout",
     "output_type": "stream",
     "text": [
      "Posição do valor \"JOAO\" na lista: 51951\n",
      "Tempo gasto: 7.96ms\n"
     ]
    }
   ],
   "source": [
    "from data.lista_nomes import nomes\n",
    "\n",
    "hora_ini = time()\n",
    "resultado = busca_sequencial(nomes, 'JOAO')\n",
    "hora_fim = time()\n",
    "print(f'Posição do valor \"JOAO\" na lista: {resultado}')\n",
    "print(f'Tempo gasto: {round((hora_fim - hora_ini) * 1000, 2)}ms')"
   ]
  },
  {
   "cell_type": "code",
   "execution_count": 5,
   "metadata": {},
   "outputs": [
    {
     "name": "stdout",
     "output_type": "stream",
     "text": [
      "Posição do valor \"CARLOS\" na lista: 12557\n",
      "Tempo gasto: 5.26ms\n"
     ]
    }
   ],
   "source": [
    "hora_ini = time()\n",
    "resultado = busca_sequencial(nomes, 'CARLOS')\n",
    "hora_fim = time()\n",
    "print(f'Posição do valor \"CARLOS\" na lista: {resultado}')\n",
    "print(f'Tempo gasto: {round((hora_fim - hora_ini) * 1000, 2)}ms')"
   ]
  },
  {
   "cell_type": "code",
   "execution_count": 6,
   "metadata": {},
   "outputs": [
    {
     "name": "stdout",
     "output_type": "stream",
     "text": [
      "Posição do valor \"YARA\" na lista: 99348\n",
      "Tempo gasto: 20.54ms\n"
     ]
    }
   ],
   "source": [
    "hora_ini = time()\n",
    "resultado = busca_sequencial(nomes, 'YARA')\n",
    "hora_fim = time()\n",
    "print(f'Posição do valor \"YARA\" na lista: {resultado}')\n",
    "print(f'Tempo gasto: {round((hora_fim - hora_ini) * 1000, 2)}ms')"
   ]
  },
  {
   "cell_type": "code",
   "execution_count": 7,
   "metadata": {},
   "outputs": [
    {
     "name": "stdout",
     "output_type": "stream",
     "text": [
      "Posição do valor \"ORKUTILSON\" na lista: -1\n",
      "Tempo gasto: 29.57ms\n"
     ]
    }
   ],
   "source": [
    "hora_ini = time()\n",
    "resultado = busca_sequencial(nomes, 'ORKUTILSON')\n",
    "hora_fim = time()\n",
    "print(f'Posição do valor \"ORKUTILSON\" na lista: {resultado}')\n",
    "print(f'Tempo gasto: {round((hora_fim - hora_ini) * 1000, 2)}ms')"
   ]
  },
  {
   "attachments": {},
   "cell_type": "markdown",
   "metadata": {},
   "source": [
    "### Busca Binária"
   ]
  },
  {
   "cell_type": "code",
   "execution_count": 8,
   "metadata": {},
   "outputs": [],
   "source": [
    "\"\"\" \n",
    "    ALGORÍTIMO DE BUSCA BINÁRIA\n",
    "    Dados de uma lista, que deve estar PREVIAMENTE ORDENADA, e um valor de busca, divide a lista em duas metades\n",
    "    procurando pelo valor de busca apenas na metade onde o valor poderia estar.\n",
    "    Novas subdivisões são feitas até que se encontre o valor de busca \n",
    "    ou que reste apenas uma sub lista vazia, quando se conclui que o valor de busca não existe na lista\n",
    "\"\"\"\n",
    "\n",
    "comps = 0                   # Conta o número de comparações\n",
    "def busca_binaria(lista, val):\n",
    "    global comps\n",
    "    comps = 0    \n",
    "    ini = 0                 # Início da lista\n",
    "    fim = len(lista) - 1    # Fim da lista\n",
    "\n",
    "    while ini <= fim:\n",
    "        # Resultado da divisão inteira (Descarta as casas decimais)\n",
    "        meio = (ini + fim) // 2\n",
    "\n",
    "        # O valor de busca foi encontrado, retorna a posição\n",
    "        if lista[meio] == val:\n",
    "            comps += 1\n",
    "            return meio\n",
    "\n",
    "        elif val < lista[meio]:\n",
    "            comps += 2\n",
    "            fim = meio - 1\n",
    "\n",
    "        else:\n",
    "            comps += 2\n",
    "            ini = meio + 1\n",
    "\n",
    "    return -1   # Valor não existe na lista\n",
    "\n",
    "\n",
    "import sys\n",
    "sys.dont_write_bytecode = True # Impede a criação do cache\n",
    "\n",
    "from time import time\n",
    "from data.lista_nomes import nomes"
   ]
  },
  {
   "cell_type": "code",
   "execution_count": 9,
   "metadata": {},
   "outputs": [
    {
     "name": "stdout",
     "output_type": "stream",
     "text": [
      "Posição do valor \"JOAO\" na lista: 51951\n",
      "Tempo gasto: 0.11ms, comparações: 29\n"
     ]
    }
   ],
   "source": [
    "hora_ini = time()\n",
    "resultado = busca_binaria(nomes, 'JOAO')\n",
    "hora_fim = time()\n",
    "print(f'Posição do valor \"JOAO\" na lista: {resultado}')\n",
    "print(f'Tempo gasto: {round((hora_fim - hora_ini) * 1000, 2)}ms, comparações: {comps}')"
   ]
  },
  {
   "cell_type": "code",
   "execution_count": 10,
   "metadata": {},
   "outputs": [
    {
     "name": "stdout",
     "output_type": "stream",
     "text": [
      "Posição do valor \"CARLOS\" na lista: 12557\n",
      "Tempo gasto: 0.12ms, comparações: 31\n"
     ]
    }
   ],
   "source": [
    "hora_ini = time()\n",
    "resultado = busca_binaria(nomes, 'CARLOS')\n",
    "hora_fim = time()\n",
    "print(f'Posição do valor \"CARLOS\" na lista: {resultado}')\n",
    "print(f'Tempo gasto: {round((hora_fim - hora_ini) * 1000, 2)}ms, comparações: {comps}')"
   ]
  },
  {
   "cell_type": "code",
   "execution_count": 11,
   "metadata": {},
   "outputs": [
    {
     "name": "stdout",
     "output_type": "stream",
     "text": [
      "Posição do valor \"YARA\" na lista: 99348\n",
      "Tempo gasto: 0.09ms, comparações: 33\n"
     ]
    }
   ],
   "source": [
    "hora_ini = time()\n",
    "resultado = busca_binaria(nomes, 'YARA')\n",
    "hora_fim = time()\n",
    "print(f'Posição do valor \"YARA\" na lista: {resultado}')\n",
    "print(f'Tempo gasto: {round((hora_fim - hora_ini) * 1000, 2)}ms, comparações: {comps}')"
   ]
  },
  {
   "cell_type": "code",
   "execution_count": 12,
   "metadata": {},
   "outputs": [
    {
     "name": "stdout",
     "output_type": "stream",
     "text": [
      "Posição do valor \"ORKUTILSON\" na lista: -1\n",
      "Tempo gasto: 0.22ms, comparações: 34\n"
     ]
    }
   ],
   "source": [
    "hora_ini = time()\n",
    "resultado = busca_binaria(nomes, 'ORKUTILSON')\n",
    "hora_fim = time()\n",
    "print(f'Posição do valor \"ORKUTILSON\" na lista: {resultado}')\n",
    "print(f'Tempo gasto: {round((hora_fim - hora_ini) * 1000, 2)}ms, comparações: {comps}')"
   ]
  }
 ],
 "metadata": {
  "kernelspec": {
   "display_name": "Python 3",
   "language": "python",
   "name": "python3"
  },
  "language_info": {
   "codemirror_mode": {
    "name": "ipython",
    "version": 3
   },
   "file_extension": ".py",
   "mimetype": "text/x-python",
   "name": "python",
   "nbconvert_exporter": "python",
   "pygments_lexer": "ipython3",
   "version": "3.11.0rc2"
  },
  "orig_nbformat": 4,
  "vscode": {
   "interpreter": {
    "hash": "ead1b95f633dc9c51826328e1846203f51a198c6fb5f2884a80417ba131d4e82"
   }
  }
 },
 "nbformat": 4,
 "nbformat_minor": 2
}
