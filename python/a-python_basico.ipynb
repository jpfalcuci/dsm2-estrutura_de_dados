{
 "cells": [
  {
   "attachments": {},
   "cell_type": "markdown",
   "metadata": {},
   "source": [
    "## Python básico"
   ]
  },
  {
   "attachments": {},
   "cell_type": "markdown",
   "metadata": {},
   "source": [
    "### Funções"
   ]
  },
  {
   "cell_type": "code",
   "execution_count": 1,
   "metadata": {},
   "outputs": [
    {
     "name": "stdout",
     "output_type": "stream",
     "text": [
      "O IMC calculado é  27.38\n"
     ]
    }
   ],
   "source": [
    "\"\"\"\n",
    "    Função para calcular o Índice de Massa Corpórea de uma pessoa, dados o seu peso e a sua altura\n",
    "\"\"\"\n",
    "def imc(peso, altura):\n",
    "    return peso / altura ** 2   # Peso dividido pela altura elevada ao quadrado\n",
    "\n",
    "resultado = imc(81, 1.72)\n",
    "print('O IMC calculado é ', round(resultado, 2))"
   ]
  },
  {
   "cell_type": "code",
   "execution_count": 2,
   "metadata": {},
   "outputs": [
    {
     "name": "stdout",
     "output_type": "stream",
     "text": [
      "Área retângulo 10x25: 250\n",
      "Área triângulo 12x7: 42.0\n",
      "Área círculo 10x10: 78.54\n"
     ]
    }
   ],
   "source": [
    "from math import pi\n",
    "\n",
    "\"\"\"\n",
    "    Função para calcular a área de figuras geométricas planas \n",
    "\"\"\"\n",
    "def calcular_area(base, altura, tipo):\n",
    "    if tipo == 'R':     # Retângulo\n",
    "        return round(base * altura, 2)\n",
    "    elif tipo == 'T':   # Triângulo\n",
    "        return round(base * altura / 2, 2)\n",
    "    elif tipo == 'E':   # Elipse\n",
    "        return round((base / 2) * (altura / 2) * pi, 2)\n",
    "    else:\n",
    "        return None\n",
    "\n",
    "# Execução da função anteriormente declarada\n",
    "print('Área retângulo 10x25:', calcular_area(10, 25, 'R'))\n",
    "print('Área triângulo 12x7:', calcular_area(12, 7, 'T'))\n",
    "print('Área círculo 10x10:', calcular_area(10, 10, 'E'))"
   ]
  },
  {
   "attachments": {},
   "cell_type": "markdown",
   "metadata": {},
   "source": [
    "### Listas"
   ]
  },
  {
   "cell_type": "code",
   "execution_count": 3,
   "metadata": {},
   "outputs": [
    {
     "name": "stdout",
     "output_type": "stream",
     "text": [
      "2, 3, 5, 7, 9, 11, batata, tomate, True, "
     ]
    }
   ],
   "source": [
    "# LISTAS EM PYTHON\n",
    "# Listas são uma forma de armazenar mais de um valor em uma única variável\n",
    "# Os valores podem ser de tipos diferentes\n",
    "\n",
    "# Uma lista de números\n",
    "valores = [2, 3, 5, 7, 9, 11, 'batata', 'tomate', True]\n",
    "\n",
    "# OPERAÇÕES SOBRE LISTAS\n",
    "# 1) PERCURSO: significa percorrer a lista do primeiro até o último elemento, fazendo algo com cada um deles.\n",
    "#   No caso, a seguir, vamos exibir cada um dos elementos separadamente usando print()\n",
    "for v in valores:\n",
    "    print(f'{v}, ', end='')"
   ]
  },
  {
   "cell_type": "code",
   "execution_count": 4,
   "metadata": {},
   "outputs": [
    {
     "name": "stdout",
     "output_type": "stream",
     "text": [
      "[2, 3, 5, 7, 9, 11, 'batata', 'tomate', True, 'cebola']\n",
      "[2, 3, 5, 7, 9, 11, 'batata', 'tomate', True, 'cebola', 29]\n"
     ]
    }
   ],
   "source": [
    "# 2) INSERÇÃO DE UM NOVO ELEMENTO NO *FIM* DA LISTA: append()\n",
    "valores.append('cebola')\n",
    "print(valores)\n",
    "valores.append(29)\n",
    "print(valores)"
   ]
  },
  {
   "cell_type": "code",
   "execution_count": 5,
   "metadata": {},
   "outputs": [
    {
     "name": "stdout",
     "output_type": "stream",
     "text": [
      "[2, 3, 5, 7, 'chuchu', 9, 11, 'batata', 'tomate', True, 'cebola', 29]\n",
      "['abobrinha', 2, 3, 5, 7, 'chuchu', 9, 11, 'batata', 'tomate', True, 'cebola', 29]\n"
     ]
    }
   ],
   "source": [
    "# 3) INSERINDO UM NOVO ELEMENTO EM UMA POSIÇÃO ESPECIFICADA: insert()\n",
    "#    Parâmetros:\n",
    "#    1º: índice para inserir\n",
    "#    2º: valor a ser inserido\n",
    "valores.insert(4, 'chuchu') # Inserindo 'chuchu' no índice 4\n",
    "print(valores)\n",
    "\n",
    "valores.insert(0, 'abobrinha') # Inserindo 'abobrinha' na primeira posição\n",
    "print(valores)"
   ]
  },
  {
   "cell_type": "code",
   "execution_count": 6,
   "metadata": {},
   "outputs": [
    {
     "name": "stdout",
     "output_type": "stream",
     "text": [
      "Elemento na SÉTIMA posição: 9\n",
      "Elemento na TERCEIRA posição: 3\n",
      "Elemento na PRIMEIRA posição: abobrinha\n",
      "Elemento na ÚLTIMA posição: 29\n",
      "Elemento na PENÚLTIMA posição: cebola\n"
     ]
    }
   ],
   "source": [
    "# 4) ACESSANDO UM VALOR EM UMA POSIÇÃO ESPECÍFICA\n",
    "print('Elemento na SÉTIMA posição:', valores[6])\n",
    "print('Elemento na TERCEIRA posição:', valores[2])\n",
    "print('Elemento na PRIMEIRA posição:', valores[0])\n",
    "print('Elemento na ÚLTIMA posição:', valores[-1])\n",
    "print('Elemento na PENÚLTIMA posição:', valores[-2])"
   ]
  },
  {
   "cell_type": "code",
   "execution_count": 7,
   "metadata": {},
   "outputs": [
    {
     "name": "stdout",
     "output_type": "stream",
     "text": [
      "Antes: ['abobrinha', 2, 3, 5, 7, 'chuchu', 9, 11, 'batata', 'tomate', True, 'cebola', 29]\n",
      "Depois: ['beterraba', 2, 3, 5, 7, 'chuchu', 9, 11, 'batata', 'tomate', 'cenoura', 'cebola', 'alho']\n"
     ]
    }
   ],
   "source": [
    "# 5) SUBSTITUINDO VALORES EXISTENTES\n",
    "print('Antes:', valores)\n",
    "valores[10] = 'cenoura'     # Substituindo o valor da posição 10 (11º elemento)\n",
    "valores[0] = 'beterraba'    # Substituindo o valor da posição 0 (1º elemento)\n",
    "valores[-1] = 'alho'        # Substituindo o valor da última posição\n",
    "print('Depois:', valores)"
   ]
  },
  {
   "cell_type": "code",
   "execution_count": 8,
   "metadata": {},
   "outputs": [
    {
     "name": "stdout",
     "output_type": "stream",
     "text": [
      "Número de elementos na lista: 13\n",
      "Último valor da lista: alho\n"
     ]
    }
   ],
   "source": [
    "# 6) DETERMINANDO QUANTOS ELEMENTOS HÁ NA LISTA: len()\n",
    "print(\"Número de elementos na lista:\", len(valores))\n",
    "\n",
    "# Imprimindo o último elemento da lista com a ajuda de len()\n",
    "print(\"Último valor da lista:\", valores[len(valores) - 1])"
   ]
  },
  {
   "cell_type": "code",
   "execution_count": 9,
   "metadata": {},
   "outputs": [
    {
     "name": "stdout",
     "output_type": "stream",
     "text": [
      "Antes: ['beterraba', 2, 3, 5, 7, 'chuchu', 9, 11, 'batata', 'tomate', 'cenoura', 'cebola', 'alho']\n",
      "Valor removido da lista: alho\n",
      "Depois: ['beterraba', 2, 3, 5, 7, 'chuchu', 9, 11, 'batata', 'tomate', 'cenoura', 'cebola']\n"
     ]
    }
   ],
   "source": [
    "# 7) REMOVENDO O ÚLTIMO ELEMENTO DA LISTA: pop()\n",
    "print(\"Antes:\", valores)\n",
    "ultimo = valores.pop()\n",
    "print(\"Valor removido da lista:\", ultimo)\n",
    "print(\"Depois:\", valores)"
   ]
  },
  {
   "cell_type": "code",
   "execution_count": 10,
   "metadata": {},
   "outputs": [
    {
     "name": "stdout",
     "output_type": "stream",
     "text": [
      "Antes: ['beterraba', 2, 3, 5, 7, 'chuchu', 9, 11, 'batata', 'tomate', 'cenoura', 'cebola']\n",
      "Valor removido da posição 9: tomate\n",
      "Valor removido da posição 0: beterraba\n",
      "Depois: [2, 3, 5, 7, 'chuchu', 9, 11, 'batata', 'cenoura', 'cebola']\n"
     ]
    }
   ],
   "source": [
    "# 8) REMOVENDO UM ELEMENTO POR SUA POSIÇÃO: pop() com parãmetro\n",
    "print(\"Antes:\", valores)\n",
    "pos9 = valores.pop(9)   # Remove o elemento da posição 9\n",
    "print(\"Valor removido da posição 9:\", pos9)\n",
    "pos0 = valores.pop(0)   # Remove o primeiro elemento (posição 0)\n",
    "print(\"Valor removido da posição 0:\", pos0)\n",
    "print(\"Depois:\", valores)"
   ]
  },
  {
   "cell_type": "code",
   "execution_count": 11,
   "metadata": {},
   "outputs": [
    {
     "name": "stdout",
     "output_type": "stream",
     "text": [
      "Antes: [2, 3, 5, 7, 'chuchu', 9, 11, 'batata', 'cenoura', 'cebola']\n",
      "Depois: [2, 3, 7, 'chuchu', 9, 11, 'cenoura', 'cebola']\n"
     ]
    }
   ],
   "source": [
    "# 9) REMOVENDO UM ELEMENTO PELO SEU VALOR: remove()\n",
    "print(\"Antes:\", valores)\n",
    "valores.remove(\"batata\")    # Remove o valor \"batata\"\n",
    "valores.remove(5)           # Remove o valor 5\n",
    "print(\"Depois:\", valores)"
   ]
  },
  {
   "cell_type": "code",
   "execution_count": 12,
   "metadata": {},
   "outputs": [],
   "source": [
    "# Acrescentando mais alguns elementos na lista\n",
    "valores.append(13)\n",
    "valores.append(15)\n",
    "valores.append('milho')\n",
    "valores.append(17)\n",
    "valores.append('mandioca')\n",
    "valores.append(19)"
   ]
  },
  {
   "cell_type": "code",
   "execution_count": 13,
   "metadata": {},
   "outputs": [
    {
     "name": "stdout",
     "output_type": "stream",
     "text": [
      "[2, 3, 7, 'chuchu', 9, 11, 'cenoura', 'cebola', 13, 15, 'milho', 17, 'mandioca', 19]\n",
      "Sublista de 1 à 7: [3, 7, 'chuchu', 9, 11, 'cenoura', 'cebola']\n",
      "Sublista de 0 à 5: [2, 3, 7, 'chuchu', 9, 11]\n",
      "Sublista de 10 até o final: ['milho', 17, 'mandioca', 19]\n"
     ]
    }
   ],
   "source": [
    "# 10) FATIANDO UMA LISTA\n",
    "print(valores)\n",
    "\n",
    "# Cria uma sublista que contém os elementos de 1 até a posição 7 (posição 8 NÃO ENTRA)\n",
    "sublista1_7 = valores[1:8]\n",
    "print('Sublista de 1 à 7:', sublista1_7)\n",
    "\n",
    "# Cria uma sublista que contém os elementos do início até a posição 5 (posição 6 NÃO ENTRA)\n",
    "sublista0_5 = valores[:6]\n",
    "print('Sublista de 0 à 5:', sublista0_5)\n",
    "\n",
    "# Cria uma sublista que contém os elementos da posição 10 até o fim da lista\n",
    "sublista10_fim = valores[10:]\n",
    "print('Sublista de 10 até o final:', sublista10_fim)"
   ]
  },
  {
   "attachments": {},
   "cell_type": "markdown",
   "metadata": {},
   "source": [
    "### Range"
   ]
  },
  {
   "cell_type": "code",
   "execution_count": 14,
   "metadata": {},
   "outputs": [
    {
     "name": "stdout",
     "output_type": "stream",
     "text": [
      "0, 1, 2, 3, 4, 5, 6, 7, 8, 9, "
     ]
    }
   ],
   "source": [
    "# range(): função que gera uma faixa de números\n",
    "# É muito usada em associação com listas\n",
    "\n",
    "# range() com 1 parâmetro: gera uma faixa que vai de 0 até o valor do parâmetro -1\n",
    "for x in range(10):\n",
    "    print(f'{x}, ', end='')"
   ]
  },
  {
   "cell_type": "code",
   "execution_count": 15,
   "metadata": {},
   "outputs": [
    {
     "name": "stdout",
     "output_type": "stream",
     "text": [
      "5, 6, 7, 8, 9, 10, 11, "
     ]
    }
   ],
   "source": [
    "# range() com 2 parâmetros: gera uma lista começando pelo primeiro parâmetro (inclusive) até o segundo argumento (exclusive, NÃO ENTRA)\n",
    "for y in range(5, 12):\n",
    "    print(f'{y}, ', end='')"
   ]
  },
  {
   "cell_type": "code",
   "execution_count": 16,
   "metadata": {},
   "outputs": [
    {
     "name": "stdout",
     "output_type": "stream",
     "text": [
      "0, 3, 6, 9, 12, 15, 18, 21, "
     ]
    }
   ],
   "source": [
    "# range() com 3 parâmetros:\n",
    "# 1º: limite inferior (inclusive)\n",
    "# 2º: limite superior (EXCLUSIVE)\n",
    "# 3º: passo (de quanto em quanto a lista vai saltar; PODE SER NEGATIVO)\n",
    "for z in range(0, 22, 3):   # De 0 a 21 saltando de 3 em 3\n",
    "    print(f'{z}, ', end='')"
   ]
  },
  {
   "cell_type": "code",
   "execution_count": 17,
   "metadata": {},
   "outputs": [
    {
     "name": "stdout",
     "output_type": "stream",
     "text": [
      "10, 9, 8, 7, 6, 5, 4, 3, 2, 1, "
     ]
    }
   ],
   "source": [
    "# range() com passo negativo\n",
    "for k in range(10, 0, -1):  # Contagem regressiva de 10 até 1\n",
    "    print(f'{k}, ', end='')"
   ]
  },
  {
   "attachments": {},
   "cell_type": "markdown",
   "metadata": {},
   "source": [
    "### Iteração sobre listas"
   ]
  },
  {
   "cell_type": "code",
   "execution_count": 18,
   "metadata": {},
   "outputs": [
    {
     "name": "stdout",
     "output_type": "stream",
     "text": [
      "laranja, maçã, uva, pêra, mamão, abacate, amora, "
     ]
    }
   ],
   "source": [
    "# Lista\n",
    "frutas = ['laranja', 'maçã', 'uva', 'pêra', 'mamão', 'abacate', 'amora']\n",
    "\n",
    "# Para percorrer uma lista e exibir apenas seus elementos, usamos for..in, como já vimos no arquivo 02\n",
    "for f in frutas:\n",
    "    print(f'{f}, ', end='')"
   ]
  },
  {
   "cell_type": "code",
   "execution_count": 19,
   "metadata": {},
   "outputs": [
    {
     "name": "stdout",
     "output_type": "stream",
     "text": [
      "amora, abacate, mamão, pêra, uva, maçã, laranja, "
     ]
    }
   ],
   "source": [
    "# Se quisermos percorrer a lista em ordem inversa para exibir apenas seus elementos, podemos usar for..in combinado com reserved()\n",
    "for f in reversed(frutas):\n",
    "    print(f'{f}, ', end='')"
   ]
  },
  {
   "cell_type": "code",
   "execution_count": 20,
   "metadata": {},
   "outputs": [
    {
     "name": "stdout",
     "output_type": "stream",
     "text": [
      "A fruta laranja está na posição 0.\n",
      "A fruta maçã está na posição 1.\n",
      "A fruta uva está na posição 2.\n",
      "A fruta pêra está na posição 3.\n",
      "A fruta mamão está na posição 4.\n",
      "A fruta abacate está na posição 5.\n",
      "A fruta amora está na posição 6.\n"
     ]
    }
   ],
   "source": [
    "# Agora, se precisarmos exibir, além do elemento, também sua POSIÇÃO, devemos usar range():\n",
    "for pos in range(len(frutas)):\n",
    "    print(f'A fruta {frutas[pos]} está na posição {pos}.')"
   ]
  },
  {
   "cell_type": "code",
   "execution_count": 21,
   "metadata": {},
   "outputs": [
    {
     "name": "stdout",
     "output_type": "stream",
     "text": [
      "A fruta amora está na posição 6.\n",
      "A fruta abacate está na posição 5.\n",
      "A fruta mamão está na posição 4.\n",
      "A fruta pêra está na posição 3.\n",
      "A fruta uva está na posição 2.\n",
      "A fruta maçã está na posição 1.\n",
      "A fruta laranja está na posição 0.\n"
     ]
    }
   ],
   "source": [
    "# Percurso em ordem inversa usando range() com 3 parâmetros\n",
    "for i in range(len(frutas) -1, -1, -1):\n",
    "    print(f'A fruta {frutas[i]} está na posição {i}.')"
   ]
  }
 ],
 "metadata": {
  "kernelspec": {
   "display_name": "Python 3",
   "language": "python",
   "name": "python3"
  },
  "language_info": {
   "codemirror_mode": {
    "name": "ipython",
    "version": 3
   },
   "file_extension": ".py",
   "mimetype": "text/x-python",
   "name": "python",
   "nbconvert_exporter": "python",
   "pygments_lexer": "ipython3",
   "version": "3.11.0rc2"
  },
  "orig_nbformat": 4,
  "vscode": {
   "interpreter": {
    "hash": "ead1b95f633dc9c51826328e1846203f51a198c6fb5f2884a80417ba131d4e82"
   }
  }
 },
 "nbformat": 4,
 "nbformat_minor": 2
}
