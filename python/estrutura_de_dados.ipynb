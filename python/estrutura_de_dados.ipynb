{
 "cells": [
  {
   "attachments": {},
   "cell_type": "markdown",
   "metadata": {},
   "source": [
    "### Funções"
   ]
  },
  {
   "cell_type": "code",
   "execution_count": 1,
   "metadata": {},
   "outputs": [
    {
     "name": "stdout",
     "output_type": "stream",
     "text": [
      "O IMC calculado é  27.38\n"
     ]
    }
   ],
   "source": [
    "\"\"\"\n",
    "    Função para calcular o Índice de Massa Corpórea de uma pessoa, dados o seu peso e a sua altura\n",
    "\"\"\"\n",
    "def imc(peso, altura):\n",
    "    return peso / altura ** 2   # Peso dividido pela altura elevada ao quadrado\n",
    "\n",
    "resultado = imc(81, 1.72)\n",
    "print('O IMC calculado é ', round(resultado, 2))"
   ]
  },
  {
   "cell_type": "code",
   "execution_count": 2,
   "metadata": {},
   "outputs": [
    {
     "name": "stdout",
     "output_type": "stream",
     "text": [
      "Área retângulo 10x25: 250\n",
      "Área triângulo 12x7: 42.0\n",
      "Área círculo 10x10: 78.54\n"
     ]
    }
   ],
   "source": [
    "from math import pi\n",
    "\n",
    "\"\"\"\n",
    "    Função para calcular a área de figuras geométricas planas \n",
    "\"\"\"\n",
    "def calcular_area(base, altura, tipo):\n",
    "    if tipo == 'R':     # Retângulo\n",
    "        return round(base * altura, 2)\n",
    "    elif tipo == 'T':   # Triângulo\n",
    "        return round(base * altura / 2, 2)\n",
    "    elif tipo == 'E':   # Elipse\n",
    "        return round((base / 2) * (altura / 2) * pi, 2)\n",
    "    else:\n",
    "        return None\n",
    "\n",
    "# Execução da função anteriormente declarada\n",
    "print('Área retângulo 10x25:', calcular_area(10, 25, 'R'))\n",
    "print('Área triângulo 12x7:', calcular_area(12, 7, 'T'))\n",
    "print('Área círculo 10x10:', calcular_area(10, 10, 'E'))"
   ]
  },
  {
   "attachments": {},
   "cell_type": "markdown",
   "metadata": {},
   "source": [
    "### Listas"
   ]
  },
  {
   "cell_type": "code",
   "execution_count": 3,
   "metadata": {},
   "outputs": [
    {
     "name": "stdout",
     "output_type": "stream",
     "text": [
      "2 3 5 7 9 11 batata tomate True "
     ]
    }
   ],
   "source": [
    "# LISTAS EM PYTHON\n",
    "# Listas são uma forma de armazenar mais de um valor em uma única variável\n",
    "# Os valores podem ser de tipos diferentes\n",
    "\n",
    "# Uma lista de números\n",
    "valores = [2, 3, 5, 7, 9, 11, 'batata', 'tomate', True]\n",
    "\n",
    "# OPERAÇÕES SOBRE LISTAS\n",
    "# 1) PERCURSO: significa percorrer a lista do primeiro até o último elemento, fazendo algo com cada um deles.\n",
    "#   No caso, a seguir, vamos exibir cada um dos elementos separadamente usando print()\n",
    "for v in valores:\n",
    "    print(f'{v} ', end='')"
   ]
  },
  {
   "cell_type": "code",
   "execution_count": 4,
   "metadata": {},
   "outputs": [
    {
     "name": "stdout",
     "output_type": "stream",
     "text": [
      "[2, 3, 5, 7, 9, 11, 'batata', 'tomate', True, 'cebola']\n",
      "[2, 3, 5, 7, 9, 11, 'batata', 'tomate', True, 'cebola', 29]\n"
     ]
    }
   ],
   "source": [
    "# 2) INSERÇÃO DE UM NOVO ELEMENTO NO *FIM* DA LISTA: append()\n",
    "valores.append('cebola')\n",
    "print(valores)\n",
    "valores.append(29)\n",
    "print(valores)"
   ]
  },
  {
   "cell_type": "code",
   "execution_count": 5,
   "metadata": {},
   "outputs": [
    {
     "name": "stdout",
     "output_type": "stream",
     "text": [
      "[2, 3, 5, 7, 'chuchu', 9, 11, 'batata', 'tomate', True, 'cebola', 29]\n",
      "['abobrinha', 2, 3, 5, 7, 'chuchu', 9, 11, 'batata', 'tomate', True, 'cebola', 29]\n"
     ]
    }
   ],
   "source": [
    "# 3) INSERINDO UM NOVO ELEMENTO EM UMA POSIÇÃO ESPECIFICADA: insert()\n",
    "#    Parâmetros:\n",
    "#    1º: índice para inserir\n",
    "#    2º: valor a ser inserido\n",
    "valores.insert(4, 'chuchu') # Inserindo 'chuchu' no índice 4\n",
    "print(valores)\n",
    "\n",
    "valores.insert(0, 'abobrinha') # Inserindo 'abobrinha' na primeira posição\n",
    "print(valores)"
   ]
  },
  {
   "cell_type": "code",
   "execution_count": 6,
   "metadata": {},
   "outputs": [
    {
     "name": "stdout",
     "output_type": "stream",
     "text": [
      "Elemento na SÉTIMA posição: 9\n",
      "Elemento na TERCEIRA posição: 3\n",
      "Elemento na PRIMEIRA posição: abobrinha\n",
      "Elemento na ÚLTIMA posição: 29\n",
      "Elemento na PENÚLTIMA posição: cebola\n"
     ]
    }
   ],
   "source": [
    "# 4) ACESSANDO UM VALOR EM UMA POSIÇÃO ESPECÍFICA\n",
    "print('Elemento na SÉTIMA posição:', valores[6])\n",
    "print('Elemento na TERCEIRA posição:', valores[2])\n",
    "print('Elemento na PRIMEIRA posição:', valores[0])\n",
    "print('Elemento na ÚLTIMA posição:', valores[-1])\n",
    "print('Elemento na PENÚLTIMA posição:', valores[-2])"
   ]
  },
  {
   "cell_type": "code",
   "execution_count": 7,
   "metadata": {},
   "outputs": [
    {
     "name": "stdout",
     "output_type": "stream",
     "text": [
      "Antes: ['abobrinha', 2, 3, 5, 7, 'chuchu', 9, 11, 'batata', 'tomate', True, 'cebola', 29]\n",
      "Depois: ['beterraba', 2, 3, 5, 7, 'chuchu', 9, 11, 'batata', 'tomate', 'cenoura', 'cebola', 'alho']\n"
     ]
    }
   ],
   "source": [
    "# 5) SUBSTITUINDO VALORES EXISTENTES\n",
    "print('Antes:', valores)\n",
    "valores[10] = 'cenoura'     # Substituindo o valor da posição 10 (11º elemento)\n",
    "valores[0] = 'beterraba'    # Substituindo o valor da posição 0 (1º elemento)\n",
    "valores[-1] = 'alho'        # Substituindo o valor da última posição\n",
    "print('Depois:', valores)"
   ]
  },
  {
   "cell_type": "code",
   "execution_count": 8,
   "metadata": {},
   "outputs": [
    {
     "name": "stdout",
     "output_type": "stream",
     "text": [
      "Número de elementos na lista: 13\n",
      "Último valor da lista: alho\n"
     ]
    }
   ],
   "source": [
    "# 6) DETERMINANDO QUANTOS ELEMENTOS HÁ NA LISTA: len()\n",
    "print(\"Número de elementos na lista:\", len(valores))\n",
    "\n",
    "# Imprimindo o último elemento da lista com a ajuda de len()\n",
    "print(\"Último valor da lista:\", valores[len(valores) - 1])"
   ]
  },
  {
   "cell_type": "code",
   "execution_count": 9,
   "metadata": {},
   "outputs": [
    {
     "name": "stdout",
     "output_type": "stream",
     "text": [
      "Antes: ['beterraba', 2, 3, 5, 7, 'chuchu', 9, 11, 'batata', 'tomate', 'cenoura', 'cebola', 'alho']\n",
      "Valor removido da lista: alho\n",
      "Depois: ['beterraba', 2, 3, 5, 7, 'chuchu', 9, 11, 'batata', 'tomate', 'cenoura', 'cebola']\n"
     ]
    }
   ],
   "source": [
    "# 7) REMOVENDO O ÚLTIMO ELEMENTO DA LISTA: pop()\n",
    "print(\"Antes:\", valores)\n",
    "ultimo = valores.pop()\n",
    "print(\"Valor removido da lista:\", ultimo)\n",
    "print(\"Depois:\", valores)"
   ]
  },
  {
   "cell_type": "code",
   "execution_count": 10,
   "metadata": {},
   "outputs": [
    {
     "name": "stdout",
     "output_type": "stream",
     "text": [
      "Antes: ['beterraba', 2, 3, 5, 7, 'chuchu', 9, 11, 'batata', 'tomate', 'cenoura', 'cebola']\n",
      "Valor removido da posição 9: tomate\n",
      "Valor removido da posição 0: beterraba\n",
      "Depois: [2, 3, 5, 7, 'chuchu', 9, 11, 'batata', 'cenoura', 'cebola']\n"
     ]
    }
   ],
   "source": [
    "# 8) REMOVENDO UM ELEMENTO POR SUA POSIÇÃO: pop() com parãmetro\n",
    "print(\"Antes:\", valores)\n",
    "pos9 = valores.pop(9)   # Remove o elemento da posição 9\n",
    "print(\"Valor removido da posição 9:\", pos9)\n",
    "pos0 = valores.pop(0)   # Remove o primeiro elemento (posição 0)\n",
    "print(\"Valor removido da posição 0:\", pos0)\n",
    "print(\"Depois:\", valores)"
   ]
  },
  {
   "cell_type": "code",
   "execution_count": 11,
   "metadata": {},
   "outputs": [
    {
     "name": "stdout",
     "output_type": "stream",
     "text": [
      "Antes: [2, 3, 5, 7, 'chuchu', 9, 11, 'batata', 'cenoura', 'cebola']\n",
      "Depois: [2, 3, 7, 'chuchu', 9, 11, 'cenoura', 'cebola']\n"
     ]
    }
   ],
   "source": [
    "# 9) REMOVENDO UM ELEMENTO PELO SEU VALOR: remove()\n",
    "print(\"Antes:\", valores)\n",
    "valores.remove(\"batata\")    # Remove o valor \"batata\"\n",
    "valores.remove(5)           # Remove o valor 5\n",
    "print(\"Depois:\", valores)"
   ]
  },
  {
   "cell_type": "code",
   "execution_count": 12,
   "metadata": {},
   "outputs": [],
   "source": [
    "# Acrescentando mais alguns elementos na lista\n",
    "valores.append(13)\n",
    "valores.append(15)\n",
    "valores.append('milho')\n",
    "valores.append(17)\n",
    "valores.append('mandioca')\n",
    "valores.append(19)"
   ]
  },
  {
   "cell_type": "code",
   "execution_count": 13,
   "metadata": {},
   "outputs": [
    {
     "name": "stdout",
     "output_type": "stream",
     "text": [
      "[2, 3, 7, 'chuchu', 9, 11, 'cenoura', 'cebola', 13, 15, 'milho', 17, 'mandioca', 19]\n",
      "Sublista de 1 à 7: [3, 7, 'chuchu', 9, 11, 'cenoura', 'cebola']\n",
      "Sublista de 0 à 5: [2, 3, 7, 'chuchu', 9, 11]\n",
      "Sublista de 10 até o final: ['milho', 17, 'mandioca', 19]\n"
     ]
    }
   ],
   "source": [
    "# 10) FATIANDO UMA LISTA\n",
    "print(valores)\n",
    "\n",
    "# Cria uma sublista que contém os elementos de 1 até a posição 7 (posição 8 NÃO ENTRA)\n",
    "sublista1_7 = valores[1:8]\n",
    "print('Sublista de 1 à 7:', sublista1_7)\n",
    "\n",
    "# Cria uma sublista que contém os elementos do início até a posição 5 (posição 6 NÃO ENTRA)\n",
    "sublista0_5 = valores[:6]\n",
    "print('Sublista de 0 à 5:', sublista0_5)\n",
    "\n",
    "# Cria uma sublista que contém os elementos da posição 10 até o fim da lista\n",
    "sublista10_fim = valores[10:]\n",
    "print('Sublista de 10 até o final:', sublista10_fim)"
   ]
  },
  {
   "attachments": {},
   "cell_type": "markdown",
   "metadata": {},
   "source": [
    "### Range"
   ]
  },
  {
   "cell_type": "code",
   "execution_count": 14,
   "metadata": {},
   "outputs": [
    {
     "name": "stdout",
     "output_type": "stream",
     "text": [
      "0 1 2 3 4 5 6 7 8 9 "
     ]
    }
   ],
   "source": [
    "# range(): função que gera uma faixa de números\n",
    "# É muito usada em associação com listas\n",
    "\n",
    "# range() com 1 parâmetro: gera uma faixa que vai de 0 até o valor do parâmetro -1\n",
    "for x in range(10):\n",
    "    print(f'{x} ', end='')"
   ]
  },
  {
   "cell_type": "code",
   "execution_count": 15,
   "metadata": {},
   "outputs": [
    {
     "name": "stdout",
     "output_type": "stream",
     "text": [
      "5 6 7 8 9 10 11 "
     ]
    }
   ],
   "source": [
    "# range() com 2 parâmetros: gera uma lista começando pelo primeiro parâmetro (inclusive) até o segundo argumento (exclusive, NÃO ENTRA)\n",
    "for y in range(5, 12):\n",
    "    print(f'{y} ', end='')"
   ]
  },
  {
   "cell_type": "code",
   "execution_count": 16,
   "metadata": {},
   "outputs": [
    {
     "name": "stdout",
     "output_type": "stream",
     "text": [
      "0 3 6 9 12 15 18 21 "
     ]
    }
   ],
   "source": [
    "# range() com 3 parâmetros:\n",
    "# 1º: limite inferior (inclusive)\n",
    "# 2º: limite superior (EXCLUSIVE)\n",
    "# 3º: passo (de quanto em quanto a lista vai saltar; PODE SER NEGATIVO)\n",
    "for z in range(0, 22, 3):   # De 0 a 21 saltando de 3 em 3\n",
    "    print(f'{z} ', end='')"
   ]
  },
  {
   "cell_type": "code",
   "execution_count": 17,
   "metadata": {},
   "outputs": [
    {
     "name": "stdout",
     "output_type": "stream",
     "text": [
      "10 9 8 7 6 5 4 3 2 1 "
     ]
    }
   ],
   "source": [
    "# range() com passo negativo\n",
    "for k in range(10, 0, -1):  # Contagem regressiva de 10 até 1\n",
    "    print(f'{k} ', end='')"
   ]
  },
  {
   "attachments": {},
   "cell_type": "markdown",
   "metadata": {},
   "source": [
    "### Iteração sobre listas"
   ]
  },
  {
   "cell_type": "code",
   "execution_count": 18,
   "metadata": {},
   "outputs": [
    {
     "name": "stdout",
     "output_type": "stream",
     "text": [
      "laranja maçã uva pêra mamão abacate amora "
     ]
    }
   ],
   "source": [
    "# Lista\n",
    "frutas = ['laranja', 'maçã', 'uva', 'pêra', 'mamão', 'abacate', 'amora']\n",
    "\n",
    "# Para percorrer uma lista e exibir apenas seus elementos, usamos for..in, como já vimos no arquivo 02\n",
    "for f in frutas:\n",
    "    print(f'{f} ', end='')"
   ]
  },
  {
   "cell_type": "code",
   "execution_count": 19,
   "metadata": {},
   "outputs": [
    {
     "name": "stdout",
     "output_type": "stream",
     "text": [
      "amora abacate mamão pêra uva maçã laranja "
     ]
    }
   ],
   "source": [
    "# Se quisermos percorrer a lista em ordem inversa para exibir apenas seus elementos, podemos usar for..in combinado com reserved()\n",
    "for f in reversed(frutas):\n",
    "    print(f'{f} ', end='')"
   ]
  },
  {
   "cell_type": "code",
   "execution_count": 20,
   "metadata": {},
   "outputs": [
    {
     "name": "stdout",
     "output_type": "stream",
     "text": [
      "A fruta laranja está na posição 0.\n",
      "A fruta maçã está na posição 1.\n",
      "A fruta uva está na posição 2.\n",
      "A fruta pêra está na posição 3.\n",
      "A fruta mamão está na posição 4.\n",
      "A fruta abacate está na posição 5.\n",
      "A fruta amora está na posição 6.\n"
     ]
    }
   ],
   "source": [
    "# Agora, se precisarmos exibir, além do elemento, também sua POSIÇÃO, devemos usar range():\n",
    "for pos in range(len(frutas)):\n",
    "    print(f'A fruta {frutas[pos]} está na posição {pos}.')"
   ]
  },
  {
   "cell_type": "code",
   "execution_count": 21,
   "metadata": {},
   "outputs": [
    {
     "name": "stdout",
     "output_type": "stream",
     "text": [
      "A fruta amora está na posição 6.\n",
      "A fruta abacate está na posição 5.\n",
      "A fruta mamão está na posição 4.\n",
      "A fruta pêra está na posição 3.\n",
      "A fruta uva está na posição 2.\n",
      "A fruta maçã está na posição 1.\n",
      "A fruta laranja está na posição 0.\n"
     ]
    }
   ],
   "source": [
    "# Percurso em ordem inversa usando range() com 3 parâmetros\n",
    "for i in range(len(frutas) -1, -1, -1):\n",
    "    print(f'A fruta {frutas[i]} está na posição {i}.')"
   ]
  },
  {
   "attachments": {},
   "cell_type": "markdown",
   "metadata": {},
   "source": [
    "### Busca sequencial"
   ]
  },
  {
   "cell_type": "code",
   "execution_count": 22,
   "metadata": {},
   "outputs": [],
   "source": [
    "# Lista de números\n",
    "nums = [9, 21, 33, 12, 0, 18, 24, 30, 15, 6, 3, 27]\n",
    "\n",
    "\"\"\" \n",
    "    Função que realiza uma busca sequencial em uma lista procuração por val.\n",
    "    Se val for encontrado, retorna a posição de val.\n",
    "    Caso contrário, retorna o valor -1\n",
    "\"\"\"\n",
    "\n",
    "def busca_sequencial(lista, val):\n",
    "    for pos in range(len(lista)):\n",
    "        # Encontrou val; retorna a posição onde foi encontrado\n",
    "        if val == lista[pos]: return pos\n",
    "    # Percorreu toda a lista e não encontrou val: retorna -1\n",
    "    return -1\n",
    "\n",
    "# Busca sequencial: Lista precisa estar ordenada e quanto mais perto do fim o item estiver, mais tempo o algoritmo demora para encontrar"
   ]
  },
  {
   "attachments": {},
   "cell_type": "markdown",
   "metadata": {},
   "source": [
    "#### Testes"
   ]
  },
  {
   "cell_type": "code",
   "execution_count": 23,
   "metadata": {},
   "outputs": [
    {
     "name": "stdout",
     "output_type": "stream",
     "text": [
      "Posição do valor 15 na lista: 8\n",
      "Posição do valor 20 na lista: -1\n",
      "Posição do valor 33 na lista: 2\n"
     ]
    }
   ],
   "source": [
    "# Procurando o valor 15\n",
    "resultado = busca_sequencial(nums, 15)\n",
    "print(f'Posição do valor 15 na lista: {resultado}')\n",
    "\n",
    "# Procurando o valor 15\n",
    "resultado = busca_sequencial(nums, 20)\n",
    "print(f'Posição do valor 20 na lista: {resultado}')\n",
    "\n",
    "# Procurando o valor 33\n",
    "resultado = busca_sequencial(nums, 33)\n",
    "print(f'Posição do valor 33 na lista: {resultado}')"
   ]
  },
  {
   "attachments": {},
   "cell_type": "markdown",
   "metadata": {},
   "source": [
    "#### Testes com nomes"
   ]
  },
  {
   "cell_type": "code",
   "execution_count": 24,
   "metadata": {},
   "outputs": [
    {
     "name": "stdout",
     "output_type": "stream",
     "text": [
      "Posição do valor \"JOAO\" na lista: 89854\n",
      "Tempo gasto: 4.5ms\n"
     ]
    }
   ],
   "source": [
    "import sys\n",
    "sys.dont_write_bytecode = True # Impede a criação do cache\n",
    "\n",
    "from time import time\n",
    "from data.nomes_desord import nomes\n",
    "\n",
    "hora_ini = time()\n",
    "resultado = busca_sequencial(nomes, 'JOAO')\n",
    "hora_fim = time()\n",
    "print(f'Posição do valor \"JOAO\" na lista: {resultado}')\n",
    "print(f'Tempo gasto: {round((hora_fim - hora_ini) * 1000, 2)}ms')"
   ]
  },
  {
   "cell_type": "code",
   "execution_count": 25,
   "metadata": {},
   "outputs": [
    {
     "name": "stdout",
     "output_type": "stream",
     "text": [
      "Posição do valor \"JOAO\" na lista: 51951\n",
      "Tempo gasto: 7.61ms\n"
     ]
    }
   ],
   "source": [
    "from data.lista_nomes import nomes\n",
    "\n",
    "hora_ini = time()\n",
    "resultado = busca_sequencial(nomes, 'JOAO')\n",
    "hora_fim = time()\n",
    "print(f'Posição do valor \"JOAO\" na lista: {resultado}')\n",
    "print(f'Tempo gasto: {round((hora_fim - hora_ini) * 1000, 2)}ms')"
   ]
  },
  {
   "cell_type": "code",
   "execution_count": 26,
   "metadata": {},
   "outputs": [
    {
     "name": "stdout",
     "output_type": "stream",
     "text": [
      "Posição do valor \"CARLOS\" na lista: 12557\n",
      "Tempo gasto: 1.86ms\n"
     ]
    }
   ],
   "source": [
    "hora_ini = time()\n",
    "resultado = busca_sequencial(nomes, 'CARLOS')\n",
    "hora_fim = time()\n",
    "print(f'Posição do valor \"CARLOS\" na lista: {resultado}')\n",
    "print(f'Tempo gasto: {round((hora_fim - hora_ini) * 1000, 2)}ms')"
   ]
  },
  {
   "cell_type": "code",
   "execution_count": 27,
   "metadata": {},
   "outputs": [
    {
     "name": "stdout",
     "output_type": "stream",
     "text": [
      "Posição do valor \"YARA\" na lista: 99348\n",
      "Tempo gasto: 21.24ms\n"
     ]
    }
   ],
   "source": [
    "hora_ini = time()\n",
    "resultado = busca_sequencial(nomes, 'YARA')\n",
    "hora_fim = time()\n",
    "print(f'Posição do valor \"YARA\" na lista: {resultado}')\n",
    "print(f'Tempo gasto: {round((hora_fim - hora_ini) * 1000, 2)}ms')"
   ]
  },
  {
   "cell_type": "code",
   "execution_count": 28,
   "metadata": {},
   "outputs": [
    {
     "name": "stdout",
     "output_type": "stream",
     "text": [
      "Posição do valor \"ORKUTILSON\" na lista: -1\n",
      "Tempo gasto: 22.18ms\n"
     ]
    }
   ],
   "source": [
    "hora_ini = time()\n",
    "resultado = busca_sequencial(nomes, 'ORKUTILSON')\n",
    "hora_fim = time()\n",
    "print(f'Posição do valor \"ORKUTILSON\" na lista: {resultado}')\n",
    "print(f'Tempo gasto: {round((hora_fim - hora_ini) * 1000, 2)}ms')"
   ]
  },
  {
   "attachments": {},
   "cell_type": "markdown",
   "metadata": {},
   "source": [
    "### Busca Binária"
   ]
  },
  {
   "cell_type": "code",
   "execution_count": 29,
   "metadata": {},
   "outputs": [],
   "source": [
    "\"\"\" \n",
    "    ALGORÍTIMO DE BUSCA BINÁRIA\n",
    "    Dados de uma lista, que deve estar PREVIAMENTE ORDENADA, e um valor de busca, divide a lista em duas metades\n",
    "    procurando pelo valor de busca apenas na metade onde o valor poderia estar.\n",
    "    Novas subdivisões são feitas até que se encontre o valor de busca \n",
    "    ou que reste apenas uma sub lista vazia, quando se conclui que o valor de busca não existe na lista\n",
    "\"\"\"\n",
    "\n",
    "comps = 0                   # Conta o número de comparações\n",
    "def busca_binaria(lista, val):\n",
    "    global comps\n",
    "    comps = 0    \n",
    "    ini = 0                 # Início da lista\n",
    "    fim = len(lista) - 1    # Fim da lista\n",
    "\n",
    "    while ini <= fim:\n",
    "        # Resultado da divisão inteira (Descarta as casas decimais)\n",
    "        meio = (ini + fim) // 2\n",
    "\n",
    "        # O valor de busca foi encontrado, retorna a posição\n",
    "        if lista[meio] == val:\n",
    "            comps += 1\n",
    "            return meio\n",
    "\n",
    "        elif val < lista[meio]:\n",
    "            comps += 2\n",
    "            fim = meio - 1\n",
    "\n",
    "        else:\n",
    "            comps += 2\n",
    "            ini = meio + 1\n",
    "\n",
    "    return -1   # Valor não existe na lista\n",
    "\n",
    "\n",
    "import sys\n",
    "sys.dont_write_bytecode = True # Impede a criação do cache\n",
    "\n",
    "from time import time\n",
    "from data.lista_nomes import nomes"
   ]
  },
  {
   "cell_type": "code",
   "execution_count": 30,
   "metadata": {},
   "outputs": [
    {
     "name": "stdout",
     "output_type": "stream",
     "text": [
      "Posição do valor \"JOAO\" na lista: 51951\n",
      "Tempo gasto: 0.11ms, comparações: 29\n"
     ]
    }
   ],
   "source": [
    "hora_ini = time()\n",
    "resultado = busca_binaria(nomes, 'JOAO')\n",
    "hora_fim = time()\n",
    "print(f'Posição do valor \"JOAO\" na lista: {resultado}')\n",
    "print(f'Tempo gasto: {round((hora_fim - hora_ini) * 1000, 2)}ms, comparações: {comps}')"
   ]
  },
  {
   "cell_type": "code",
   "execution_count": 31,
   "metadata": {},
   "outputs": [
    {
     "name": "stdout",
     "output_type": "stream",
     "text": [
      "Posição do valor \"CARLOS\" na lista: 12557\n",
      "Tempo gasto: 0.18ms, comparações: 31\n"
     ]
    }
   ],
   "source": [
    "hora_ini = time()\n",
    "resultado = busca_binaria(nomes, 'CARLOS')\n",
    "hora_fim = time()\n",
    "print(f'Posição do valor \"CARLOS\" na lista: {resultado}')\n",
    "print(f'Tempo gasto: {round((hora_fim - hora_ini) * 1000, 2)}ms, comparações: {comps}')"
   ]
  },
  {
   "cell_type": "code",
   "execution_count": 32,
   "metadata": {},
   "outputs": [
    {
     "name": "stdout",
     "output_type": "stream",
     "text": [
      "Posição do valor \"YARA\" na lista: 99348\n",
      "Tempo gasto: 0.08ms, comparações: 33\n"
     ]
    }
   ],
   "source": [
    "hora_ini = time()\n",
    "resultado = busca_binaria(nomes, 'YARA')\n",
    "hora_fim = time()\n",
    "print(f'Posição do valor \"YARA\" na lista: {resultado}')\n",
    "print(f'Tempo gasto: {round((hora_fim - hora_ini) * 1000, 2)}ms, comparações: {comps}')"
   ]
  },
  {
   "cell_type": "code",
   "execution_count": 33,
   "metadata": {},
   "outputs": [
    {
     "name": "stdout",
     "output_type": "stream",
     "text": [
      "Posição do valor \"ORKUTILSON\" na lista: -1\n",
      "Tempo gasto: 0.26ms, comparações: 34\n"
     ]
    }
   ],
   "source": [
    "hora_ini = time()\n",
    "resultado = busca_binaria(nomes, 'ORKUTILSON')\n",
    "hora_fim = time()\n",
    "print(f'Posição do valor \"ORKUTILSON\" na lista: {resultado}')\n",
    "print(f'Tempo gasto: {round((hora_fim - hora_ini) * 1000, 2)}ms, comparações: {comps}')"
   ]
  },
  {
   "attachments": {},
   "cell_type": "markdown",
   "metadata": {},
   "source": [
    "### Ordenação - Bubble sort"
   ]
  },
  {
   "cell_type": "code",
   "execution_count": 34,
   "metadata": {},
   "outputs": [],
   "source": [
    "\"\"\" \n",
    "    ALGORITMO DE ORDENAÇÃO BUBBLE SORT\n",
    "    Percorre a lista a ser ordenada em sucessivas passadas, trocando dois elementos adjacentes sempre que o segundo for MENOR que o primeiro.\n",
    "    Efetua tantas passadas quanto necessárias, até que, na última passada, nenhuma troca seja efetuada\n",
    "\"\"\"\n",
    "\n",
    "def bubble_sort(lista):\n",
    "    global comps, trocas, passadas\n",
    "    comps = trocas = passadas = 0\n",
    "\n",
    "    # Loop eterno, não sabemos quantas passadas serão necessárias\n",
    "    while True:\n",
    "        trocou = False\n",
    "        passadas += 1\n",
    "        \n",
    "        # Percurso da lista, do primeiro ao PENÚLTIMO elemento, com acesso a cada posição\n",
    "        for pos in range(len(lista) - 1):\n",
    "            comps += 1\n",
    "            \n",
    "            # Se o número que está a frente na lista for MENOR do que o que está atrás, TROCA\n",
    "            if lista[pos + 1 ] < lista[pos]:\n",
    "                lista[pos + 1], lista[pos] = lista[pos], lista[pos + 1]\n",
    "                trocou = True\n",
    "                trocas += 1\n",
    "        \n",
    "        if not trocou:  # Não houve troca na passada\n",
    "            break       # Interrompe o loop eterno; acabou"
   ]
  },
  {
   "cell_type": "code",
   "execution_count": 35,
   "metadata": {},
   "outputs": [
    {
     "name": "stdout",
     "output_type": "stream",
     "text": [
      "Lista ordenada:  [0, 1, 2, 3, 4, 5, 6, 7, 8, 9]\n",
      "Comparações: 54, trocas: 21, passadas: 6\n"
     ]
    }
   ],
   "source": [
    "# Teste com um vetor de 10 números\n",
    "nums = [6, 4, 2, 0, 9, 5 ,1, 8, 3, 7]\n",
    "\n",
    "bubble_sort(nums)\n",
    "print('Lista ordenada: ', nums)\n",
    "print(f'Comparações: {comps}, trocas: {trocas}, passadas: {passadas}')"
   ]
  },
  {
   "attachments": {},
   "cell_type": "markdown",
   "metadata": {},
   "source": [
    "Pior caso:\n",
    "- n = itens da lista\n",
    "- 90 -> n² - n\n",
    "- 45 -> (n² - n) / 2\n",
    "- 10 -> n\n",
    "- Uma pequena alteração no número de elementos, eleva o número de comparações ao quadrado"
   ]
  },
  {
   "cell_type": "code",
   "execution_count": 36,
   "metadata": {},
   "outputs": [
    {
     "name": "stdout",
     "output_type": "stream",
     "text": [
      "Lista ordenada:  [0, 1, 2, 3, 4, 5, 6, 7, 8, 9]\n",
      "Comparações: 90, trocas: 45, passadas: 10\n"
     ]
    }
   ],
   "source": [
    "pior_caso = [9, 8, 7, 6, 5, 4, 3, 2, 1, 0]\n",
    "bubble_sort(pior_caso)\n",
    "print('Lista ordenada: ', pior_caso)\n",
    "print(f'Comparações: {comps}, trocas: {trocas}, passadas: {passadas}')"
   ]
  },
  {
   "attachments": {},
   "cell_type": "markdown",
   "metadata": {},
   "source": [
    "Melhor caso:\n",
    "- n = itens da lista\n",
    "- 0 -> n - 1\n",
    "- 0 -> 0\n",
    "- 1 -> 1"
   ]
  },
  {
   "cell_type": "code",
   "execution_count": 37,
   "metadata": {},
   "outputs": [
    {
     "name": "stdout",
     "output_type": "stream",
     "text": [
      "Lista ordenada:  [0, 1, 2, 3, 4, 5, 6, 7, 8, 9]\n",
      "Comparações: 9, trocas: 0, passadas: 1\n"
     ]
    }
   ],
   "source": [
    "melhor_caso = [0, 1, 2, 3, 4, 5, 6, 7, 8, 9]\n",
    "bubble_sort(melhor_caso)\n",
    "print('Lista ordenada: ', melhor_caso)\n",
    "print(f'Comparações: {comps}, trocas: {trocas}, passadas: {passadas}')"
   ]
  },
  {
   "cell_type": "code",
   "execution_count": 38,
   "metadata": {},
   "outputs": [
    {
     "name": "stdout",
     "output_type": "stream",
     "text": [
      "Tempo gasto: 20468.26ms\n",
      "Comparações: 98440155, trocas: 24695190, passadas: 9845\n"
     ]
    }
   ],
   "source": [
    "import sys\n",
    "sys.dont_write_bytecode = True # Impede a criação do cache\n",
    "\n",
    "from time import time\n",
    "from data.nomes_desord import nomes\n",
    "\n",
    "# Pega apenas os 10k primeiros nomes\n",
    "nomes = nomes[:10000]\n",
    "\n",
    "hora_ini = time()\n",
    "bubble_sort(nomes)\n",
    "hora_fim = time()\n",
    "\n",
    "# print(\"Nomes ordenados: \", nomes)\n",
    "print(f'Tempo gasto: {round((hora_fim - hora_ini) * 1000, 2)}ms')\n",
    "print(f'Comparações: {comps}, trocas: {trocas}, passadas: {passadas}')"
   ]
  },
  {
   "cell_type": "code",
   "execution_count": 39,
   "metadata": {},
   "outputs": [],
   "source": [
    "\"\"\" \n",
    "    ALGORITMO DE ORDENAÇÃO BUBBLE SORT\n",
    "    Percorre a lista a ser ordenada em sucessivas passadas, trocando dois elementos adjacentes sempre que o segundo for MENOR que o primeiro.\n",
    "    Efetua tantas passadas quanto necessárias, até que, na última passada, nenhuma troca seja efetuada\n",
    "    VERSÃO OTIMIZADA COM ENCOLHIMENTO DO PERCURSO A CADA PASSADA\n",
    "\"\"\"\n",
    "\n",
    "def bubble_sort(lista):\n",
    "    global comps, trocas, passadas\n",
    "    comps = trocas = passadas = 0\n",
    "    desloc = 1\n",
    "\n",
    "    # Loop eterno, não sabemos quantas passadas serão necessárias\n",
    "    while True:\n",
    "        trocou = False\n",
    "        passadas += 1\n",
    "        \n",
    "        # Percurso da lista, do primeiro ao PENÚLTIMO elemento, com acesso a cada posição\n",
    "        for pos in range(len(lista) - desloc):\n",
    "            comps += 1\n",
    "            \n",
    "            # Se o número que está a frente na lista for MENOR do que o que está atrás, TROCA\n",
    "            if lista[pos + 1 ] < lista[pos]:\n",
    "                lista[pos + 1], lista[pos] = lista[pos], lista[pos + 1]\n",
    "                trocou = True\n",
    "                trocas += 1\n",
    "        \n",
    "        if not trocou:  # Não houve troca na passada\n",
    "            break       # Interrompe o loop eterno; acabou\n",
    "\n",
    "        desloc += 1 # Aumenta o deslocamento para diminuir o tamanho da próxima passada"
   ]
  },
  {
   "cell_type": "code",
   "execution_count": 40,
   "metadata": {},
   "outputs": [
    {
     "name": "stdout",
     "output_type": "stream",
     "text": [
      "Lista ordenada:  [0, 1, 2, 3, 4, 5, 6, 7, 8, 9]\n",
      "Comparações: 39, trocas: 21, passadas: 6\n"
     ]
    }
   ],
   "source": [
    "# Teste com um vetor de 10 números\n",
    "nums = [6, 4, 2, 0, 9, 5 ,1, 8, 3, 7]\n",
    "\n",
    "bubble_sort(nums)\n",
    "print('Lista ordenada: ', nums)\n",
    "print(f'Comparações: {comps}, trocas: {trocas}, passadas: {passadas}')"
   ]
  },
  {
   "cell_type": "code",
   "execution_count": 41,
   "metadata": {},
   "outputs": [
    {
     "name": "stdout",
     "output_type": "stream",
     "text": [
      "Lista ordenada:  [0, 1, 2, 3, 4, 5, 6, 7, 8, 9]\n",
      "Comparações: 45, trocas: 45, passadas: 10\n"
     ]
    }
   ],
   "source": [
    "pior_caso = [9, 8, 7, 6, 5, 4, 3, 2, 1, 0]\n",
    "bubble_sort(pior_caso)\n",
    "print('Lista ordenada: ', pior_caso)\n",
    "print(f'Comparações: {comps}, trocas: {trocas}, passadas: {passadas}')"
   ]
  },
  {
   "cell_type": "code",
   "execution_count": 42,
   "metadata": {},
   "outputs": [
    {
     "name": "stdout",
     "output_type": "stream",
     "text": [
      "Lista ordenada:  [0, 1, 2, 3, 4, 5, 6, 7, 8, 9]\n",
      "Comparações: 9, trocas: 0, passadas: 1\n"
     ]
    }
   ],
   "source": [
    "melhor_caso = [0, 1, 2, 3, 4, 5, 6, 7, 8, 9]\n",
    "bubble_sort(melhor_caso)\n",
    "print('Lista ordenada: ', melhor_caso)\n",
    "print(f'Comparações: {comps}, trocas: {trocas}, passadas: {passadas}')"
   ]
  },
  {
   "cell_type": "code",
   "execution_count": 43,
   "metadata": {},
   "outputs": [
    {
     "name": "stdout",
     "output_type": "stream",
     "text": [
      "Tempo gasto: 12178.38ms\n",
      "Comparações: 49983065, trocas: 24695190, passadas: 9845\n"
     ]
    }
   ],
   "source": [
    "import sys\n",
    "sys.dont_write_bytecode = True # Impede a criação do cache\n",
    "\n",
    "from time import time\n",
    "from data.nomes_desord import nomes\n",
    "\n",
    "# Pega apenas os 10k primeiros nomes\n",
    "nomes = nomes[:10000]\n",
    "\n",
    "hora_ini = time()\n",
    "bubble_sort(nomes)\n",
    "hora_fim = time()\n",
    "\n",
    "# print(\"Nomes ordenados: \", nomes)\n",
    "print(f'Tempo gasto: {round((hora_fim - hora_ini) * 1000, 2)}ms')\n",
    "print(f'Comparações: {comps}, trocas: {trocas}, passadas: {passadas}')\n"
   ]
  },
  {
   "cell_type": "markdown",
   "metadata": {},
   "source": [
    "### Ordenação - Selection sort"
   ]
  },
  {
   "cell_type": "code",
   "execution_count": 44,
   "metadata": {},
   "outputs": [],
   "source": [
    "\"\"\" \n",
    "    ALGORITMO DE ORDENAÇÃO SELECTION SORT\n",
    "\n",
    "    Isola (seleciona) o primeiro elemento da lista e, em seguida, encontra o menor valor no restante da lista.\n",
    "    Se o valor encontrado for menor que o valor previamente selecionado, efetua a troca entre eles.\n",
    "    Continuando, seleciona o segundo elemento da lista, buscando pelo menor valor das posições subsequentes.\n",
    "    Faz a troca entre os dois valores, se necessário.\n",
    "    O processo se repete até que o penúltimo elemento da lista seja isolado, comparado com o último e feita a troca entre eles, se for o caso\n",
    "\"\"\"\n",
    "\n",
    "def selection_sort(lista):\n",
    "\n",
    "    global comps, trocas, passadas\n",
    "    comps = trocas = passadas = 0\n",
    "    \n",
    "    # Loop que vai da primeira até a PENÚLTIMA posição\n",
    "    for pos_sel in range(len(lista) - 1):\n",
    "\n",
    "        passadas += 1\n",
    "\n",
    "        # Encontra o menor valor da sublista à frente de pos_sel\n",
    "        pos_menor = pos_sel + 1\n",
    "        for pos in range(pos_sel + 2, len(lista)):\n",
    "            # Se o valor encontrado na posição pos for MENOR que o valor da posição pos_menor,\n",
    "            # então pos_menor passa a ser pos\n",
    "            comps += 1\n",
    "            if lista[pos] < lista[pos_menor]: pos_menor = pos\n",
    "\n",
    "        # Compara os elementos das posições pos_menor e pos_sel.\n",
    "        # Se o valor do primeiro for MENOR que o valor do segundo, efetua a troca\n",
    "        comps += 1\n",
    "        if lista[pos_menor] < lista[pos_sel]:\n",
    "            lista[pos_menor], lista[pos_sel] = lista[pos_sel], lista[pos_menor]\n",
    "            trocas += 1"
   ]
  },
  {
   "cell_type": "code",
   "execution_count": 45,
   "metadata": {},
   "outputs": [
    {
     "name": "stdout",
     "output_type": "stream",
     "text": [
      "Lista ordenada:  [0, 1, 2, 3, 4, 5, 6, 7, 8, 9]\n",
      "Comparações: 45, trocas: 7, passadas: 9\n"
     ]
    }
   ],
   "source": [
    "# Teste com um vetor de 10 números\n",
    "nums = [6, 4, 2, 0, 9, 5 ,1, 8, 3, 7]\n",
    "selection_sort(nums)\n",
    "print('Lista ordenada: ', nums)\n",
    "print(f'Comparações: {comps}, trocas: {trocas}, passadas: {passadas}')"
   ]
  },
  {
   "cell_type": "code",
   "execution_count": 46,
   "metadata": {},
   "outputs": [
    {
     "name": "stdout",
     "output_type": "stream",
     "text": [
      "Lista ordenada:  [0, 1, 2, 3, 4, 5, 6, 7, 8, 9]\n",
      "(Pior caso) Comparações: 45, trocas: 9, passadas: 9\n"
     ]
    }
   ],
   "source": [
    "pior_caso = [9, 0, 1, 2, 3, 4, 5, 6, 7, 8]\n",
    "selection_sort(pior_caso)\n",
    "print('Lista ordenada: ', pior_caso)\n",
    "print(f'(Pior caso) Comparações: {comps}, trocas: {trocas}, passadas: {passadas}')"
   ]
  },
  {
   "cell_type": "code",
   "execution_count": 47,
   "metadata": {},
   "outputs": [
    {
     "name": "stdout",
     "output_type": "stream",
     "text": [
      "Lista ordenada:  [0, 1, 2, 3, 4, 5, 6, 7, 8, 9]\n",
      "(Melhor caso) Comparações: 45, trocas: 0, passadas: 9\n"
     ]
    }
   ],
   "source": [
    "melhor_caso = [0, 1, 2, 3, 4, 5, 6, 7, 8, 9]\n",
    "selection_sort(melhor_caso)\n",
    "print('Lista ordenada: ', melhor_caso)\n",
    "print(f'(Melhor caso) Comparações: {comps}, trocas: {trocas}, passadas: {passadas}')"
   ]
  },
  {
   "cell_type": "code",
   "execution_count": 48,
   "metadata": {},
   "outputs": [
    {
     "name": "stdout",
     "output_type": "stream",
     "text": [
      "Tempo gasto: 7110.05ms\n",
      "(Nomes) Comparações: 49995000, trocas: 9988, passadas: 9999\n"
     ]
    }
   ],
   "source": [
    "import sys\n",
    "sys.dont_write_bytecode = True # Impede a criação do cache\n",
    "\n",
    "from time import time\n",
    "from data.nomes_desord import nomes\n",
    "\n",
    "# Pega apenas os 10k primeiros nomes\n",
    "nomes = nomes[:10000]\n",
    "\n",
    "hora_ini = time()\n",
    "selection_sort(nomes)\n",
    "hora_fim = time()\n",
    "\n",
    "# print(\"Nomes ordenados: \", nomes)\n",
    "print(f'Tempo gasto: {round((hora_fim - hora_ini) * 1000, 2)}ms')\n",
    "print(f'(Nomes) Comparações: {comps}, trocas: {trocas}, passadas: {passadas}')"
   ]
  },
  {
   "attachments": {},
   "cell_type": "markdown",
   "metadata": {},
   "source": [
    "### Recursividade"
   ]
  },
  {
   "cell_type": "code",
   "execution_count": 49,
   "metadata": {},
   "outputs": [],
   "source": [
    "\"\"\"\n",
    "    RECURSIVIDADE\n",
    "\n",
    "    Trata-se de uma técnica de programação pela qual uma função chama a si mesma, em uma condição diferente da inicial.\n",
    "    O principal objetivo do uso da recursividade é diminuir a complexidade de algoritmos.\n",
    "\"\"\"\n",
    "\n",
    "# Cálculo do fatorial, versão iterativa (não recursiva)\n",
    "def fatorial_iter(num):\n",
    "    # Não é possível calcular o fatorial de números negativos\n",
    "    if num < 0:\n",
    "        raise Exception(\"Erro: número negativo, cálculo impossível\")\n",
    "    \n",
    "    res = 1\n",
    "\n",
    "    # Loop descendente de num até 1\n",
    "    for x in range(num, 0, -1): res *= x\n",
    "    \n",
    "    return res"
   ]
  },
  {
   "cell_type": "code",
   "execution_count": 50,
   "metadata": {},
   "outputs": [
    {
     "name": "stdout",
     "output_type": "stream",
     "text": [
      "7! =  5040\n",
      "0! =  1\n"
     ]
    },
    {
     "ename": "Exception",
     "evalue": "Erro: número negativo, cálculo impossível",
     "output_type": "error",
     "traceback": [
      "\u001b[0;31m---------------------------------------------------------------------------\u001b[0m",
      "\u001b[0;31mException\u001b[0m                                 Traceback (most recent call last)",
      "Cell \u001b[0;32mIn[50], line 3\u001b[0m\n\u001b[1;32m      1\u001b[0m \u001b[39mprint\u001b[39m(\u001b[39m'\u001b[39m\u001b[39m7! = \u001b[39m\u001b[39m'\u001b[39m, fatorial_iter(\u001b[39m7\u001b[39m))\n\u001b[1;32m      2\u001b[0m \u001b[39mprint\u001b[39m(\u001b[39m'\u001b[39m\u001b[39m0! = \u001b[39m\u001b[39m'\u001b[39m, fatorial_iter(\u001b[39m0\u001b[39m))\n\u001b[0;32m----> 3\u001b[0m \u001b[39mprint\u001b[39m(\u001b[39m'\u001b[39m\u001b[39m-6! = \u001b[39m\u001b[39m'\u001b[39m, fatorial_iter(\u001b[39m-\u001b[39;49m\u001b[39m6\u001b[39;49m))\n",
      "Cell \u001b[0;32mIn[49], line 12\u001b[0m, in \u001b[0;36mfatorial_iter\u001b[0;34m(num)\u001b[0m\n\u001b[1;32m      9\u001b[0m \u001b[39mdef\u001b[39;00m \u001b[39mfatorial_iter\u001b[39m(num):\n\u001b[1;32m     10\u001b[0m     \u001b[39m# Não é possível calcular o fatorial de números negativos\u001b[39;00m\n\u001b[1;32m     11\u001b[0m     \u001b[39mif\u001b[39;00m num \u001b[39m<\u001b[39m \u001b[39m0\u001b[39m:\n\u001b[0;32m---> 12\u001b[0m         \u001b[39mraise\u001b[39;00m \u001b[39mException\u001b[39;00m(\u001b[39m\"\u001b[39m\u001b[39mErro: número negativo, cálculo impossível\u001b[39m\u001b[39m\"\u001b[39m)\n\u001b[1;32m     14\u001b[0m     res \u001b[39m=\u001b[39m \u001b[39m1\u001b[39m\n\u001b[1;32m     16\u001b[0m     \u001b[39m# Loop descendente de num até 1\u001b[39;00m\n",
      "\u001b[0;31mException\u001b[0m: Erro: número negativo, cálculo impossível"
     ]
    }
   ],
   "source": [
    "print('7! = ', fatorial_iter(7))\n",
    "print('0! = ', fatorial_iter(0))\n",
    "print('-6! = ', fatorial_iter(-6))"
   ]
  },
  {
   "cell_type": "code",
   "execution_count": 51,
   "metadata": {},
   "outputs": [],
   "source": [
    "# Cálculo do fatorial, de forma recursiva\n",
    "def fatorial_rec(num):\n",
    "    # Não é possível calcular o fatorial de números negativos\n",
    "    if num < 0:\n",
    "        raise Exception(\"Erro: número negativo, cálculo impossível\")\n",
    "    \n",
    "    if num <= 1: return 1   # O fatorial de 0 e 1 é 1\n",
    "    else: return num * fatorial_rec(num - 1)    # Chamada recursiva à função"
   ]
  },
  {
   "cell_type": "code",
   "execution_count": 52,
   "metadata": {},
   "outputs": [
    {
     "name": "stdout",
     "output_type": "stream",
     "text": [
      "7! =  5040\n",
      "0! =  1\n"
     ]
    },
    {
     "ename": "Exception",
     "evalue": "Erro: número negativo, cálculo impossível",
     "output_type": "error",
     "traceback": [
      "\u001b[0;31m---------------------------------------------------------------------------\u001b[0m",
      "\u001b[0;31mException\u001b[0m                                 Traceback (most recent call last)",
      "Cell \u001b[0;32mIn[52], line 3\u001b[0m\n\u001b[1;32m      1\u001b[0m \u001b[39mprint\u001b[39m(\u001b[39m'\u001b[39m\u001b[39m7! = \u001b[39m\u001b[39m'\u001b[39m, fatorial_rec(\u001b[39m7\u001b[39m))\n\u001b[1;32m      2\u001b[0m \u001b[39mprint\u001b[39m(\u001b[39m'\u001b[39m\u001b[39m0! = \u001b[39m\u001b[39m'\u001b[39m, fatorial_rec(\u001b[39m0\u001b[39m))\n\u001b[0;32m----> 3\u001b[0m \u001b[39mprint\u001b[39m(\u001b[39m'\u001b[39m\u001b[39m-6! = \u001b[39m\u001b[39m'\u001b[39m, fatorial_rec(\u001b[39m-\u001b[39;49m\u001b[39m6\u001b[39;49m))\n",
      "Cell \u001b[0;32mIn[51], line 5\u001b[0m, in \u001b[0;36mfatorial_rec\u001b[0;34m(num)\u001b[0m\n\u001b[1;32m      2\u001b[0m \u001b[39mdef\u001b[39;00m \u001b[39mfatorial_rec\u001b[39m(num):\n\u001b[1;32m      3\u001b[0m     \u001b[39m# Não é possível calcular o fatorial de números negativos\u001b[39;00m\n\u001b[1;32m      4\u001b[0m     \u001b[39mif\u001b[39;00m num \u001b[39m<\u001b[39m \u001b[39m0\u001b[39m:\n\u001b[0;32m----> 5\u001b[0m         \u001b[39mraise\u001b[39;00m \u001b[39mException\u001b[39;00m(\u001b[39m\"\u001b[39m\u001b[39mErro: número negativo, cálculo impossível\u001b[39m\u001b[39m\"\u001b[39m)\n\u001b[1;32m      7\u001b[0m     \u001b[39mif\u001b[39;00m num \u001b[39m<\u001b[39m\u001b[39m=\u001b[39m \u001b[39m1\u001b[39m: \u001b[39mreturn\u001b[39;00m \u001b[39m1\u001b[39m   \u001b[39m# O fatorial de 0 e 1 é 1\u001b[39;00m\n\u001b[1;32m      8\u001b[0m     \u001b[39melse\u001b[39;00m: \u001b[39mreturn\u001b[39;00m num \u001b[39m*\u001b[39m fatorial_rec(num \u001b[39m-\u001b[39m \u001b[39m1\u001b[39m)\n",
      "\u001b[0;31mException\u001b[0m: Erro: número negativo, cálculo impossível"
     ]
    }
   ],
   "source": [
    "print('7! = ', fatorial_rec(7))\n",
    "print('0! = ', fatorial_rec(0))\n",
    "print('-6! = ', fatorial_rec(-6))"
   ]
  },
  {
   "attachments": {},
   "cell_type": "markdown",
   "metadata": {},
   "source": [
    "### Merge Sort"
   ]
  },
  {
   "cell_type": "code",
   "execution_count": 53,
   "metadata": {},
   "outputs": [],
   "source": [
    "\"\"\" \n",
    "    ALGORÍTMO DE ORDENAÇÃO MERGE SORT\n",
    "\n",
    "    No processo de ordenação, esse algoritmo \"desmonta\" a lista original, contendo N elementos, até obter N listas com apenas um elemento cada uma.\n",
    "    Em seguida, usando a técnica de mesclagem (merge), \"remonta\" a lista, desta vez com os elementos já em ordem.\n",
    "\"\"\"\n",
    "\n",
    "# Variáveis de estatísticas\n",
    "divs = juncs = comps = 0\n",
    "\n",
    "def merge_sort(lista):\n",
    "\n",
    "    global divs, juncs, comps\n",
    "\n",
    "    # Para que possa haver divisão da lista, esta deve ter mais de um elemento\n",
    "    if len(lista) > 1:\n",
    "        \n",
    "        # Encontra a posição do meio da lista, para fazer a divisão em duas metades\n",
    "        meio = len(lista) // 2\n",
    "\n",
    "        # Tira uma cópia de cada metade da lista\n",
    "        sublista_esq = lista[:meio]\n",
    "        sublista_dir = lista[meio:]\n",
    "        divs += 1   # Número de divisões\n",
    "\n",
    "        # Chamamos recursivamente a função para que ela continue repartindo cada uma das sublistas em duas partes menores\n",
    "        sublista_esq = merge_sort(sublista_esq)\n",
    "        sublista_dir = merge_sort(sublista_dir)\n",
    "\n",
    "        # AQUI COMEÇA A MESCLAGEM ORDENADA DAS DUAS SUBLISTAS\n",
    "        pos_esq = pos_dir = 0\n",
    "        ordenada = []   # Lista vazia\n",
    "\n",
    "        # Compara os elementos das sublistas entre si e insere na lista ordenada o menor entre dois elementos\n",
    "        while pos_esq < len(sublista_esq) and pos_dir < len(sublista_dir):\n",
    "            # O menor elemento está na sublista da esquerda\n",
    "            comps += 1  # Número de comparações\n",
    "            if sublista_esq[pos_esq] < sublista_dir[pos_dir]:\n",
    "                # 'Desce' o elemento da esquerda para a lista ordenada\n",
    "                ordenada.append(sublista_esq[pos_esq])\n",
    "                pos_esq += 1    # Incrementa pos_esq\n",
    "            # O menor elemento está na sublista da direita\n",
    "            else:\n",
    "                # 'Desce' o elemento da direita para a sublista ordenada\n",
    "                ordenada.append(sublista_dir[pos_dir])\n",
    "                pos_dir += 1    # Incrementa pos_dir\n",
    "        \n",
    "        # Verificação da sobra\n",
    "        sobra = []      # Lista vazia\n",
    "\n",
    "        # Sobra à esquerda\n",
    "        if(pos_esq < pos_dir): sobra = sublista_esq[pos_esq:]\n",
    "        # Sobra à direita\n",
    "        else: sobra = sublista_dir[pos_dir:]\n",
    "\n",
    "        juncs += 1  # Número de junções\n",
    "\n",
    "        # O resultado final é a junção (concatenação) da lista ordenada com a sobra\n",
    "        return ordenada + sobra\n",
    "    \n",
    "    else: return lista"
   ]
  },
  {
   "cell_type": "code",
   "execution_count": 54,
   "metadata": {},
   "outputs": [
    {
     "name": "stdout",
     "output_type": "stream",
     "text": [
      "Lista original: [6, 4, 2, 0, 9, 5, 1, 8, 3, 7]\n",
      "Lista ordenada: [0, 1, 2, 3, 4, 5, 6, 7, 8, 9]\n",
      "Divisões: 9, junções: 9, comparações: 24\n"
     ]
    }
   ],
   "source": [
    "# Teste com vetor de 10 números\n",
    "\n",
    "nums = [6, 4, 2, 0, 9, 5, 1, 8, 3, 7]\n",
    "\n",
    "# Reseta as variáveis de estatísticas\n",
    "divs = juncs = comps = 0\n",
    "resultado = merge_sort(nums)\n",
    "print(\"Lista original:\", nums)\n",
    "print(\"Lista ordenada:\", resultado)\n",
    "print(f\"Divisões: {divs}, junções: {juncs}, comparações: {comps}\")"
   ]
  }
 ],
 "metadata": {
  "kernelspec": {
   "display_name": "Python 3",
   "language": "python",
   "name": "python3"
  },
  "language_info": {
   "codemirror_mode": {
    "name": "ipython",
    "version": 3
   },
   "file_extension": ".py",
   "mimetype": "text/x-python",
   "name": "python",
   "nbconvert_exporter": "python",
   "pygments_lexer": "ipython3",
   "version": "3.11.0rc2"
  },
  "orig_nbformat": 4,
  "vscode": {
   "interpreter": {
    "hash": "ead1b95f633dc9c51826328e1846203f51a198c6fb5f2884a80417ba131d4e82"
   }
  }
 },
 "nbformat": 4,
 "nbformat_minor": 2
}
