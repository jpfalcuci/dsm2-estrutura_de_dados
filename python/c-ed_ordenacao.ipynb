{
 "cells": [
  {
   "attachments": {},
   "cell_type": "markdown",
   "metadata": {},
   "source": [
    "## Algoritmos de ordenação"
   ]
  },
  {
   "cell_type": "code",
   "execution_count": 1,
   "metadata": {},
   "outputs": [],
   "source": [
    "import tracemalloc              # Biblioteca para medir o consumo de memória\n",
    "import sys\n",
    "sys.dont_write_bytecode = True  # Impede a criação do cache\n",
    "from time import time\n",
    "from data.nomes_desord import nomes"
   ]
  },
  {
   "attachments": {},
   "cell_type": "markdown",
   "metadata": {},
   "source": [
    "### Bubble sort"
   ]
  },
  {
   "cell_type": "code",
   "execution_count": 2,
   "metadata": {},
   "outputs": [],
   "source": [
    "\"\"\" \n",
    "    ALGORITMO DE ORDENAÇÃO BUBBLE SORT\n",
    "    Percorre a lista a ser ordenada em sucessivas passadas, trocando dois elementos adjacentes sempre que o segundo for MENOR que o primeiro.\n",
    "    Efetua tantas passadas quanto necessárias, até que, na última passada, nenhuma troca seja efetuada\n",
    "\"\"\"\n",
    "\n",
    "def bubble_sort(lista):\n",
    "    global comps, trocas, passadas\n",
    "    comps = trocas = passadas = 0\n",
    "\n",
    "    # Loop eterno, não sabemos quantas passadas serão necessárias\n",
    "    while True:\n",
    "        trocou = False\n",
    "        passadas += 1\n",
    "        \n",
    "        # Percurso da lista, do primeiro ao PENÚLTIMO elemento, com acesso a cada posição\n",
    "        for pos in range(len(lista) - 1):\n",
    "            comps += 1\n",
    "            \n",
    "            # Se o número que está a frente na lista for MENOR do que o que está atrás, TROCA\n",
    "            if lista[pos + 1 ] < lista[pos]:\n",
    "                lista[pos + 1], lista[pos] = lista[pos], lista[pos + 1]\n",
    "                trocou = True\n",
    "                trocas += 1\n",
    "        \n",
    "        if not trocou:  # Não houve troca na passada\n",
    "            break       # Interrompe o loop eterno; acabou"
   ]
  },
  {
   "cell_type": "code",
   "execution_count": 3,
   "metadata": {},
   "outputs": [
    {
     "name": "stdout",
     "output_type": "stream",
     "text": [
      "Lista ordenada:  [0, 1, 2, 3, 4, 5, 6, 7, 8, 9]\n",
      "Comparações: 54, trocas: 21, passadas: 6\n"
     ]
    }
   ],
   "source": [
    "# Teste com um vetor de 10 números\n",
    "nums = [6, 4, 2, 0, 9, 5 ,1, 8, 3, 7]\n",
    "bubble_sort(nums)\n",
    "print('Lista ordenada: ', nums)\n",
    "print(f'Comparações: {comps}, trocas: {trocas}, passadas: {passadas}')"
   ]
  },
  {
   "attachments": {},
   "cell_type": "markdown",
   "metadata": {},
   "source": [
    "Pior caso:\n",
    "- n = itens da lista\n",
    "- 90 -> n² - n\n",
    "- 45 -> (n² - n) / 2\n",
    "- 10 -> n\n",
    "- Uma pequena alteração no número de elementos, eleva o número de comparações ao quadrado"
   ]
  },
  {
   "cell_type": "code",
   "execution_count": 4,
   "metadata": {},
   "outputs": [
    {
     "name": "stdout",
     "output_type": "stream",
     "text": [
      "Lista ordenada:  [0, 1, 2, 3, 4, 5, 6, 7, 8, 9]\n",
      "Pior caso - Comparações: 90, trocas: 45, passadas: 10\n"
     ]
    }
   ],
   "source": [
    "pior_caso = [9, 8, 7, 6, 5, 4, 3, 2, 1, 0]\n",
    "bubble_sort(pior_caso)\n",
    "print('Lista ordenada: ', pior_caso)\n",
    "print(f'Pior caso - Comparações: {comps}, trocas: {trocas}, passadas: {passadas}')"
   ]
  },
  {
   "attachments": {},
   "cell_type": "markdown",
   "metadata": {},
   "source": [
    "Melhor caso:\n",
    "- n = itens da lista\n",
    "- 0 -> n - 1\n",
    "- 0 -> 0\n",
    "- 1 -> 1"
   ]
  },
  {
   "cell_type": "code",
   "execution_count": 5,
   "metadata": {},
   "outputs": [
    {
     "name": "stdout",
     "output_type": "stream",
     "text": [
      "Lista ordenada:  [0, 1, 2, 3, 4, 5, 6, 7, 8, 9]\n",
      "Melhor caso - Comparações: 9, trocas: 0, passadas: 1\n"
     ]
    }
   ],
   "source": [
    "melhor_caso = [0, 1, 2, 3, 4, 5, 6, 7, 8, 9]\n",
    "bubble_sort(melhor_caso)\n",
    "print('Lista ordenada: ', melhor_caso)\n",
    "print(f'Melhor caso - Comparações: {comps}, trocas: {trocas}, passadas: {passadas}')"
   ]
  },
  {
   "cell_type": "code",
   "execution_count": 6,
   "metadata": {},
   "outputs": [
    {
     "name": "stdout",
     "output_type": "stream",
     "text": [
      "Tempo gasto: 22568.87ms\n",
      "Comparações: 98440155, trocas: 24695190, passadas: 9845\n"
     ]
    }
   ],
   "source": [
    "# Pega apenas os 10k primeiros nomes\n",
    "nomes_10k = nomes[:10000]\n",
    "\n",
    "hora_ini = time()\n",
    "bubble_sort(nomes_10k)\n",
    "hora_fim = time()\n",
    "\n",
    "# print(\"Nomes ordenados: \", nomes_10k)\n",
    "print(f'Tempo gasto: {round((hora_fim - hora_ini) * 1000, 2)}ms')\n",
    "print(f'Comparações: {comps}, trocas: {trocas}, passadas: {passadas}')"
   ]
  },
  {
   "attachments": {},
   "cell_type": "markdown",
   "metadata": {},
   "source": [
    "### Bubble sort (otimizado)"
   ]
  },
  {
   "cell_type": "code",
   "execution_count": 7,
   "metadata": {},
   "outputs": [],
   "source": [
    "\"\"\" \n",
    "    ALGORITMO DE ORDENAÇÃO BUBBLE SORT\n",
    "    Percorre a lista a ser ordenada em sucessivas passadas, trocando dois elementos adjacentes sempre que o segundo for MENOR que o primeiro.\n",
    "    Efetua tantas passadas quanto necessárias, até que, na última passada, nenhuma troca seja efetuada\n",
    "    VERSÃO OTIMIZADA COM ENCOLHIMENTO DO PERCURSO A CADA PASSADA\n",
    "\"\"\"\n",
    "\n",
    "def bubble_sort(lista):\n",
    "    global comps, trocas, passadas\n",
    "    comps = trocas = passadas = 0\n",
    "    desloc = 1\n",
    "\n",
    "    # Loop eterno, não sabemos quantas passadas serão necessárias\n",
    "    while True:\n",
    "        trocou = False\n",
    "        passadas += 1\n",
    "        \n",
    "        # Percurso da lista, do primeiro ao PENÚLTIMO elemento, com acesso a cada posição\n",
    "        for pos in range(len(lista) - desloc):\n",
    "            comps += 1\n",
    "            \n",
    "            # Se o número que está a frente na lista for MENOR do que o que está atrás, TROCA\n",
    "            if lista[pos + 1 ] < lista[pos]:\n",
    "                lista[pos + 1], lista[pos] = lista[pos], lista[pos + 1]\n",
    "                trocou = True\n",
    "                trocas += 1\n",
    "        \n",
    "        if not trocou:  # Não houve troca na passada\n",
    "            break       # Interrompe o loop eterno; acabou\n",
    "\n",
    "        desloc += 1 # Aumenta o deslocamento para diminuir o tamanho da próxima passada"
   ]
  },
  {
   "cell_type": "code",
   "execution_count": 8,
   "metadata": {},
   "outputs": [
    {
     "name": "stdout",
     "output_type": "stream",
     "text": [
      "Lista ordenada:  [0, 1, 2, 3, 4, 5, 6, 7, 8, 9]\n",
      "Comparações: 39, trocas: 21, passadas: 6\n"
     ]
    }
   ],
   "source": [
    "# Teste com um vetor de 10 números\n",
    "nums = [6, 4, 2, 0, 9, 5 ,1, 8, 3, 7]\n",
    "bubble_sort(nums)\n",
    "print('Lista ordenada: ', nums)\n",
    "print(f'Comparações: {comps}, trocas: {trocas}, passadas: {passadas}')"
   ]
  },
  {
   "cell_type": "code",
   "execution_count": 9,
   "metadata": {},
   "outputs": [
    {
     "name": "stdout",
     "output_type": "stream",
     "text": [
      "Lista ordenada:  [0, 1, 2, 3, 4, 5, 6, 7, 8, 9]\n",
      "Pior caso - Comparações: 45, trocas: 45, passadas: 10\n"
     ]
    }
   ],
   "source": [
    "pior_caso = [9, 8, 7, 6, 5, 4, 3, 2, 1, 0]\n",
    "bubble_sort(pior_caso)\n",
    "print('Lista ordenada: ', pior_caso)\n",
    "print(f'Pior caso - Comparações: {comps}, trocas: {trocas}, passadas: {passadas}')"
   ]
  },
  {
   "cell_type": "code",
   "execution_count": 10,
   "metadata": {},
   "outputs": [
    {
     "name": "stdout",
     "output_type": "stream",
     "text": [
      "Lista ordenada:  [0, 1, 2, 3, 4, 5, 6, 7, 8, 9]\n",
      "Melhor caso - Comparações: 9, trocas: 0, passadas: 1\n"
     ]
    }
   ],
   "source": [
    "melhor_caso = [0, 1, 2, 3, 4, 5, 6, 7, 8, 9]\n",
    "bubble_sort(melhor_caso)\n",
    "print('Lista ordenada: ', melhor_caso)\n",
    "print(f'Melhor caso - Comparações: {comps}, trocas: {trocas}, passadas: {passadas}')"
   ]
  },
  {
   "cell_type": "code",
   "execution_count": 11,
   "metadata": {},
   "outputs": [
    {
     "name": "stdout",
     "output_type": "stream",
     "text": [
      "Tempo gasto: 12773.34ms\n",
      "Comparações: 49983065, trocas: 24695190, passadas: 9845\n"
     ]
    }
   ],
   "source": [
    "# Pega apenas os 10k primeiros nomes\n",
    "nomes_10k = nomes[:10000]\n",
    "\n",
    "hora_ini = time()\n",
    "bubble_sort(nomes_10k)\n",
    "hora_fim = time()\n",
    "\n",
    "# print(\"Nomes ordenados: \", nomes_10k)\n",
    "print(f'Tempo gasto: {round((hora_fim - hora_ini) * 1000, 2)}ms')\n",
    "print(f'Comparações: {comps}, trocas: {trocas}, passadas: {passadas}')"
   ]
  },
  {
   "attachments": {},
   "cell_type": "markdown",
   "metadata": {},
   "source": [
    "### Selection sort"
   ]
  },
  {
   "cell_type": "code",
   "execution_count": 12,
   "metadata": {},
   "outputs": [],
   "source": [
    "\"\"\" \n",
    "    ALGORITMO DE ORDENAÇÃO SELECTION SORT\n",
    "\n",
    "    Isola (seleciona) o primeiro elemento da lista e, em seguida, encontra o menor valor no restante da lista.\n",
    "    Se o valor encontrado for menor que o valor previamente selecionado, efetua a troca entre eles.\n",
    "    Continuando, seleciona o segundo elemento da lista, buscando pelo menor valor das posições subsequentes.\n",
    "    Faz a troca entre os dois valores, se necessário.\n",
    "    O processo se repete até que o penúltimo elemento da lista seja isolado, comparado com o último e feita a troca entre eles, se for o caso\n",
    "\"\"\"\n",
    "\n",
    "def selection_sort(lista):\n",
    "\n",
    "    global comps, trocas, passadas\n",
    "    comps = trocas = passadas = 0\n",
    "    \n",
    "    # Loop que vai da primeira até a PENÚLTIMA posição\n",
    "    for pos_sel in range(len(lista) - 1):\n",
    "\n",
    "        passadas += 1\n",
    "\n",
    "        # Encontra o menor valor da sublista à frente de pos_sel\n",
    "        pos_menor = pos_sel + 1\n",
    "        for pos in range(pos_sel + 2, len(lista)):\n",
    "            # Se o valor encontrado na posição pos for MENOR que o valor da posição pos_menor,\n",
    "            # então pos_menor passa a ser pos\n",
    "            comps += 1\n",
    "            if lista[pos] < lista[pos_menor]: pos_menor = pos\n",
    "\n",
    "        # Compara os elementos das posições pos_menor e pos_sel.\n",
    "        # Se o valor do primeiro for MENOR que o valor do segundo, efetua a troca\n",
    "        comps += 1\n",
    "        if lista[pos_menor] < lista[pos_sel]:\n",
    "            lista[pos_menor], lista[pos_sel] = lista[pos_sel], lista[pos_menor]\n",
    "            trocas += 1"
   ]
  },
  {
   "cell_type": "code",
   "execution_count": 13,
   "metadata": {},
   "outputs": [
    {
     "name": "stdout",
     "output_type": "stream",
     "text": [
      "Lista ordenada:  [0, 1, 2, 3, 4, 5, 6, 7, 8, 9]\n",
      "Comparações: 45, trocas: 7, passadas: 9\n"
     ]
    }
   ],
   "source": [
    "# Teste com um vetor de 10 números\n",
    "nums = [6, 4, 2, 0, 9, 5 ,1, 8, 3, 7]\n",
    "selection_sort(nums)\n",
    "print('Lista ordenada: ', nums)\n",
    "print(f'Comparações: {comps}, trocas: {trocas}, passadas: {passadas}')"
   ]
  },
  {
   "cell_type": "code",
   "execution_count": 14,
   "metadata": {},
   "outputs": [
    {
     "name": "stdout",
     "output_type": "stream",
     "text": [
      "Lista ordenada:  [0, 1, 2, 3, 4, 5, 6, 7, 8, 9]\n",
      "Pior caso - Comparações: 45, trocas: 9, passadas: 9\n"
     ]
    }
   ],
   "source": [
    "pior_caso = [9, 0, 1, 2, 3, 4, 5, 6, 7, 8]\n",
    "selection_sort(pior_caso)\n",
    "print('Lista ordenada: ', pior_caso)\n",
    "print(f'Pior caso - Comparações: {comps}, trocas: {trocas}, passadas: {passadas}')"
   ]
  },
  {
   "cell_type": "code",
   "execution_count": 15,
   "metadata": {},
   "outputs": [
    {
     "name": "stdout",
     "output_type": "stream",
     "text": [
      "Lista ordenada:  [0, 1, 2, 3, 4, 5, 6, 7, 8, 9]\n",
      "Melhor caso - Comparações: 45, trocas: 0, passadas: 9\n"
     ]
    }
   ],
   "source": [
    "melhor_caso = [0, 1, 2, 3, 4, 5, 6, 7, 8, 9]\n",
    "selection_sort(melhor_caso)\n",
    "print('Lista ordenada: ', melhor_caso)\n",
    "print(f'Melhor caso - Comparações: {comps}, trocas: {trocas}, passadas: {passadas}')"
   ]
  },
  {
   "cell_type": "code",
   "execution_count": 16,
   "metadata": {},
   "outputs": [
    {
     "name": "stdout",
     "output_type": "stream",
     "text": [
      "Tempo gasto: 6975.56ms\n",
      "Nomes - Comparações: 49995000, trocas: 9988, passadas: 9999\n"
     ]
    }
   ],
   "source": [
    "# Pega apenas os 10k primeiros nomes\n",
    "nomes_10k = nomes[:10000]\n",
    "\n",
    "hora_ini = time()\n",
    "selection_sort(nomes_10k)\n",
    "hora_fim = time()\n",
    "\n",
    "# print(\"Nomes ordenados: \", nomes_10k)\n",
    "print(f'Tempo gasto: {round((hora_fim - hora_ini) * 1000, 2)}ms')\n",
    "print(f'Nomes - Comparações: {comps}, trocas: {trocas}, passadas: {passadas}')"
   ]
  },
  {
   "attachments": {},
   "cell_type": "markdown",
   "metadata": {},
   "source": [
    "### Recursividade"
   ]
  },
  {
   "cell_type": "code",
   "execution_count": 17,
   "metadata": {},
   "outputs": [],
   "source": [
    "\"\"\"\n",
    "    RECURSIVIDADE\n",
    "\n",
    "    Trata-se de uma técnica de programação pela qual uma função chama a si mesma, em uma condição diferente da inicial.\n",
    "    O principal objetivo do uso da recursividade é diminuir a complexidade de algoritmos.\n",
    "\"\"\"\n",
    "\n",
    "# Cálculo do fatorial, versão iterativa (não recursiva)\n",
    "def fatorial_iter(num):\n",
    "    # Não é possível calcular o fatorial de números negativos\n",
    "    if num < 0:\n",
    "        raise Exception(\"Erro: número negativo, cálculo impossível\")\n",
    "    \n",
    "    res = 1\n",
    "\n",
    "    # Loop descendente de num até 1\n",
    "    for x in range(num, 0, -1): res *= x\n",
    "    \n",
    "    return res"
   ]
  },
  {
   "cell_type": "code",
   "execution_count": 18,
   "metadata": {},
   "outputs": [
    {
     "name": "stdout",
     "output_type": "stream",
     "text": [
      "7! =  5040\n",
      "0! =  1\n"
     ]
    }
   ],
   "source": [
    "print('7! = ', fatorial_iter(7))\n",
    "print('0! = ', fatorial_iter(0))\n",
    "# print('-6! = ', fatorial_iter(-6))  # Retorna o erro"
   ]
  },
  {
   "cell_type": "code",
   "execution_count": 19,
   "metadata": {},
   "outputs": [],
   "source": [
    "# Cálculo do fatorial, de forma recursiva\n",
    "def fatorial_rec(num):\n",
    "    # Não é possível calcular o fatorial de números negativos\n",
    "    if num < 0:\n",
    "        raise Exception(\"Erro: número negativo, cálculo impossível\")\n",
    "    \n",
    "    if num <= 1: return 1   # O fatorial de 0 e 1 é 1\n",
    "    else: return num * fatorial_rec(num - 1)    # Chamada recursiva à função"
   ]
  },
  {
   "cell_type": "code",
   "execution_count": 20,
   "metadata": {},
   "outputs": [
    {
     "name": "stdout",
     "output_type": "stream",
     "text": [
      "7! =  5040\n",
      "0! =  1\n"
     ]
    }
   ],
   "source": [
    "print('7! = ', fatorial_rec(7))\n",
    "print('0! = ', fatorial_rec(0))\n",
    "# print('-6! = ', fatorial_rec(-6))   # Retorna o erro"
   ]
  },
  {
   "attachments": {},
   "cell_type": "markdown",
   "metadata": {},
   "source": [
    "### Merge Sort"
   ]
  },
  {
   "cell_type": "code",
   "execution_count": 21,
   "metadata": {},
   "outputs": [],
   "source": [
    "\"\"\" \n",
    "    ALGORÍTMO DE ORDENAÇÃO MERGE SORT\n",
    "\n",
    "    No processo de ordenação, esse algoritmo \"desmonta\" a lista original, contendo N elementos, até obter N listas com apenas um elemento cada uma.\n",
    "    Em seguida, usando a técnica de mesclagem (merge), \"remonta\" a lista, desta vez com os elementos já em ordem.\n",
    "\"\"\"\n",
    "\n",
    "# Variáveis de estatísticas\n",
    "divs = juncs = comps = 0\n",
    "\n",
    "def merge_sort(lista):\n",
    "\n",
    "    global divs, juncs, comps\n",
    "\n",
    "    # Para que possa haver divisão da lista, esta deve ter mais de um elemento\n",
    "    if len(lista) > 1:\n",
    "        \n",
    "        # Encontra a posição do meio da lista, para fazer a divisão em duas metades\n",
    "        meio = len(lista) // 2\n",
    "\n",
    "        # Tira uma cópia de cada metade da lista\n",
    "        sublista_esq = lista[:meio]\n",
    "        sublista_dir = lista[meio:]\n",
    "        divs += 1   # Número de divisões\n",
    "\n",
    "        # Chamamos recursivamente a função para que ela continue repartindo cada uma das sublistas em duas partes menores\n",
    "        sublista_esq = merge_sort(sublista_esq)\n",
    "        sublista_dir = merge_sort(sublista_dir)\n",
    "\n",
    "        # AQUI COMEÇA A MESCLAGEM ORDENADA DAS DUAS SUBLISTAS\n",
    "        pos_esq = pos_dir = 0\n",
    "        ordenada = []   # Lista vazia\n",
    "\n",
    "        # Compara os elementos das sublistas entre si e insere na lista ordenada o menor entre dois elementos\n",
    "        while pos_esq < len(sublista_esq) and pos_dir < len(sublista_dir):\n",
    "            # O menor elemento está na sublista da esquerda\n",
    "            comps += 1  # Número de comparações\n",
    "            if sublista_esq[pos_esq] < sublista_dir[pos_dir]:\n",
    "                # 'Desce' o elemento da esquerda para a lista ordenada\n",
    "                ordenada.append(sublista_esq[pos_esq])\n",
    "                pos_esq += 1    # Incrementa pos_esq\n",
    "            # O menor elemento está na sublista da direita\n",
    "            else:\n",
    "                # 'Desce' o elemento da direita para a sublista ordenada\n",
    "                ordenada.append(sublista_dir[pos_dir])\n",
    "                pos_dir += 1    # Incrementa pos_dir\n",
    "        \n",
    "        # Verificação da sobra\n",
    "        sobra = []      # Lista vazia\n",
    "\n",
    "        # Sobra à esquerda\n",
    "        if(pos_esq < pos_dir): sobra = sublista_esq[pos_esq:]\n",
    "        # Sobra à direita\n",
    "        else: sobra = sublista_dir[pos_dir:]\n",
    "\n",
    "        juncs += 1  # Número de junções\n",
    "\n",
    "        # O resultado final é a junção (concatenação) da lista ordenada com a sobra\n",
    "        return ordenada + sobra\n",
    "    \n",
    "    else: return lista"
   ]
  },
  {
   "cell_type": "code",
   "execution_count": 22,
   "metadata": {},
   "outputs": [
    {
     "name": "stdout",
     "output_type": "stream",
     "text": [
      "Lista original: [6, 4, 2, 0, 9, 5, 1, 8, 3, 7]\n",
      "Lista ordenada: [0, 1, 2, 3, 4, 5, 6, 7, 8, 9]\n",
      "Divisões: 9, junções: 9, comparações: 24\n"
     ]
    }
   ],
   "source": [
    "# Teste com vetor de 10 números\n",
    "nums = [6, 4, 2, 0, 9, 5, 1, 8, 3, 7]\n",
    "divs = juncs = comps = 0    # Reseta as variáveis de estatísticas\n",
    "resultado = merge_sort(nums)\n",
    "print(\"Lista original:\", nums)\n",
    "print(\"Lista ordenada:\", resultado)\n",
    "print(f\"Divisões: {divs}, junções: {juncs}, comparações: {comps}\")"
   ]
  },
  {
   "cell_type": "code",
   "execution_count": 23,
   "metadata": {},
   "outputs": [
    {
     "name": "stdout",
     "output_type": "stream",
     "text": [
      "Lista original: [9, 0, 8, 1, 7, 2, 6, 3, 5, 4]\n",
      "Lista ordenada: [0, 1, 2, 3, 4, 5, 6, 7, 8, 9]\n",
      "Divisões: 9, junções: 9, comparações: 22\n"
     ]
    }
   ],
   "source": [
    "nums = [9, 0, 8, 1, 7, 2, 6, 3, 5, 4]\n",
    "divs = juncs = comps = 0    # Reseta as variáveis de estatísticas\n",
    "resultado = merge_sort(nums)\n",
    "print(\"Lista original:\", nums)\n",
    "print(\"Lista ordenada:\", resultado)\n",
    "print(f\"Divisões: {divs}, junções: {juncs}, comparações: {comps}\")"
   ]
  },
  {
   "cell_type": "code",
   "execution_count": 24,
   "metadata": {},
   "outputs": [
    {
     "name": "stdout",
     "output_type": "stream",
     "text": [
      "Tempo gasto: 7076.71ms\n",
      "Pico de memória: 2.401 MB\n",
      "Nomes (100k) - Divisões: 100786, junções: 100786, comparações: 1549342\n"
     ]
    }
   ],
   "source": [
    "nomes_merge = nomes\n",
    "\n",
    "divs = juncs = comps = 0\n",
    "tracemalloc.start() # Inicia a medição de memória\n",
    "hora_ini = time()\n",
    "resultado = merge_sort(nomes_merge)\n",
    "hora_fim = time()\n",
    "\n",
    "# Captura as informações de gasto de memória\n",
    "mem_atual, mem_pico = tracemalloc.get_traced_memory()\n",
    "tracemalloc.stop()\n",
    "\n",
    "# print(\"Nomes ordenados: \", resultado)\n",
    "print(f'Tempo gasto: {round((hora_fim - hora_ini) * 1000, 2)}ms')\n",
    "print(f'Pico de memória: {round(mem_pico / 1024 / 1024, 3)} MB')\n",
    "print(f\"Nomes (100k) - Divisões: {divs}, junções: {juncs}, comparações: {comps}\")"
   ]
  },
  {
   "attachments": {},
   "cell_type": "markdown",
   "metadata": {},
   "source": [
    "### Comparações"
   ]
  },
  {
   "cell_type": "code",
   "execution_count": 25,
   "metadata": {},
   "outputs": [
    {
     "name": "stdout",
     "output_type": "stream",
     "text": [
      "Bubble Sort:\n",
      "Tempo gasto: 213794.77ms\n",
      "Pico de memória: 0.014 MB\n",
      "Nomes (10k) - Comparações: 49983065, trocas: 24695190, passadas: 9845\n"
     ]
    }
   ],
   "source": [
    "nomes_10k = nomes[:10000]\n",
    "\n",
    "tracemalloc.start()\n",
    "hora_ini = time()\n",
    "bubble_sort(nomes_10k)\n",
    "hora_fim = time()\n",
    "mem_atual, mem_pico = tracemalloc.get_traced_memory()\n",
    "tracemalloc.stop()\n",
    "\n",
    "print('Bubble Sort:')\n",
    "print(f'Tempo gasto: {round((hora_fim - hora_ini) * 1000, 2)}ms')\n",
    "print(f'Pico de memória: {round(mem_pico / 1024 / 1024, 3)} MB')\n",
    "print(f'Nomes (10k) - Comparações: {comps}, trocas: {trocas}, passadas: {passadas}')"
   ]
  },
  {
   "cell_type": "code",
   "execution_count": 26,
   "metadata": {},
   "outputs": [
    {
     "name": "stdout",
     "output_type": "stream",
     "text": [
      "Selection Sort:\n",
      "Tempo gasto: 101982.48ms\n",
      "Pico de memória: 0.014 MB\n",
      "Nomes (10k) - Comparações: 49995000, trocas: 9988, passadas: 9999\n"
     ]
    }
   ],
   "source": [
    "nomes_10k = nomes[:10000]\n",
    "\n",
    "tracemalloc.start()\n",
    "hora_ini = time()\n",
    "selection_sort(nomes_10k)\n",
    "hora_fim = time()\n",
    "mem_atual, mem_pico = tracemalloc.get_traced_memory()\n",
    "tracemalloc.stop()\n",
    "\n",
    "print('Selection Sort:')\n",
    "print(f'Tempo gasto: {round((hora_fim - hora_ini) * 1000, 2)}ms')\n",
    "print(f'Pico de memória: {round(mem_pico / 1024 / 1024, 3)} MB')\n",
    "print(f'Nomes (10k) - Comparações: {comps}, trocas: {trocas}, passadas: {passadas}')"
   ]
  },
  {
   "cell_type": "code",
   "execution_count": 27,
   "metadata": {},
   "outputs": [
    {
     "name": "stdout",
     "output_type": "stream",
     "text": [
      "Merge Sort:\n",
      "Tempo gasto: 674.72ms\n",
      "Pico de memória: 0.238 MB\n",
      "Nomes (10k) - Divisões: 9999, junções: 9999, comparações: 120484\n"
     ]
    }
   ],
   "source": [
    "nomes_10k = nomes[:10000]\n",
    "\n",
    "divs = juncs = comps = 0\n",
    "tracemalloc.start()\n",
    "hora_ini = time()\n",
    "resultado = merge_sort(nomes_10k)\n",
    "hora_fim = time()\n",
    "mem_atual, mem_pico = tracemalloc.get_traced_memory()\n",
    "tracemalloc.stop()\n",
    "\n",
    "print('Merge Sort:')\n",
    "print(f'Tempo gasto: {round((hora_fim - hora_ini) * 1000, 2)}ms')\n",
    "print(f'Pico de memória: {round(mem_pico / 1024 / 1024, 3)} MB')\n",
    "print(f'Nomes (10k) - Divisões: {divs}, junções: {juncs}, comparações: {comps}')"
   ]
  }
 ],
 "metadata": {
  "kernelspec": {
   "display_name": "Python 3",
   "language": "python",
   "name": "python3"
  },
  "language_info": {
   "codemirror_mode": {
    "name": "ipython",
    "version": 3
   },
   "file_extension": ".py",
   "mimetype": "text/x-python",
   "name": "python",
   "nbconvert_exporter": "python",
   "pygments_lexer": "ipython3",
   "version": "3.11.0rc2"
  },
  "orig_nbformat": 4,
  "vscode": {
   "interpreter": {
    "hash": "ead1b95f633dc9c51826328e1846203f51a198c6fb5f2884a80417ba131d4e82"
   }
  }
 },
 "nbformat": 4,
 "nbformat_minor": 2
}
