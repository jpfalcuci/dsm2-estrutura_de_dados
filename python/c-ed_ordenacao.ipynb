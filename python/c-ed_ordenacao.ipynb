{
 "cells": [
  {
   "attachments": {},
   "cell_type": "markdown",
   "metadata": {},
   "source": [
    "## Algoritmos de ordenação"
   ]
  },
  {
   "cell_type": "code",
   "execution_count": 1,
   "metadata": {},
   "outputs": [],
   "source": [
    "import tracemalloc              # Biblioteca para medir o consumo de memória\n",
    "import sys\n",
    "sys.dont_write_bytecode = True  # Impede a criação do cache\n",
    "from time import time\n",
    "from data.nomes_desord import nomes"
   ]
  },
  {
   "attachments": {},
   "cell_type": "markdown",
   "metadata": {},
   "source": [
    "### Bubble sort"
   ]
  },
  {
   "cell_type": "code",
   "execution_count": 2,
   "metadata": {},
   "outputs": [],
   "source": [
    "\"\"\" \n",
    "    ALGORITMO DE ORDENAÇÃO BUBBLE SORT\n",
    "    Percorre a lista a ser ordenada em sucessivas passadas, trocando dois elementos adjacentes sempre que o segundo for MENOR que o primeiro.\n",
    "    Efetua tantas passadas quanto necessárias, até que, na última passada, nenhuma troca seja efetuada\n",
    "\"\"\"\n",
    "\n",
    "def bubble_sort(lista):\n",
    "    global comps, trocas, passadas\n",
    "    comps = trocas = passadas = 0\n",
    "\n",
    "    # Loop eterno, não sabemos quantas passadas serão necessárias\n",
    "    while True:\n",
    "        trocou = False\n",
    "        passadas += 1\n",
    "        \n",
    "        # Percurso da lista, do primeiro ao PENÚLTIMO elemento, com acesso a cada posição\n",
    "        for pos in range(len(lista) - 1):\n",
    "            comps += 1\n",
    "            \n",
    "            # Se o número que está a frente na lista for MENOR do que o que está atrás, TROCA\n",
    "            if lista[pos + 1 ] < lista[pos]:\n",
    "                lista[pos + 1], lista[pos] = lista[pos], lista[pos + 1]\n",
    "                trocou = True\n",
    "                trocas += 1\n",
    "        \n",
    "        if not trocou:  # Não houve troca na passada\n",
    "            break       # Interrompe o loop eterno; acabou"
   ]
  },
  {
   "cell_type": "code",
   "execution_count": 3,
   "metadata": {},
   "outputs": [
    {
     "name": "stdout",
     "output_type": "stream",
     "text": [
      "Lista ordenada:  [0, 1, 2, 3, 4, 5, 6, 7, 8, 9]\n",
      "Comparações: 54, trocas: 21, passadas: 6\n"
     ]
    }
   ],
   "source": [
    "# Teste com um vetor de 10 números\n",
    "nums = [6, 4, 2, 0, 9, 5 ,1, 8, 3, 7]\n",
    "bubble_sort(nums)\n",
    "print('Lista ordenada: ', nums)\n",
    "print(f'Comparações: {comps}, trocas: {trocas}, passadas: {passadas}')"
   ]
  },
  {
   "attachments": {},
   "cell_type": "markdown",
   "metadata": {},
   "source": [
    "Pior caso:\n",
    "- n = itens da lista\n",
    "- 90 -> n² - n\n",
    "- 45 -> (n² - n) / 2\n",
    "- 10 -> n\n",
    "- Uma pequena alteração no número de elementos, eleva o número de comparações ao quadrado"
   ]
  },
  {
   "cell_type": "code",
   "execution_count": 4,
   "metadata": {},
   "outputs": [
    {
     "name": "stdout",
     "output_type": "stream",
     "text": [
      "Lista ordenada:  [0, 1, 2, 3, 4, 5, 6, 7, 8, 9]\n",
      "Pior caso - Comparações: 90, trocas: 45, passadas: 10\n"
     ]
    }
   ],
   "source": [
    "pior_caso = [9, 8, 7, 6, 5, 4, 3, 2, 1, 0]\n",
    "bubble_sort(pior_caso)\n",
    "print('Lista ordenada: ', pior_caso)\n",
    "print(f'Pior caso - Comparações: {comps}, trocas: {trocas}, passadas: {passadas}')"
   ]
  },
  {
   "attachments": {},
   "cell_type": "markdown",
   "metadata": {},
   "source": [
    "Melhor caso:\n",
    "- n = itens da lista\n",
    "- 0 -> n - 1\n",
    "- 0 -> 0\n",
    "- 1 -> 1"
   ]
  },
  {
   "cell_type": "code",
   "execution_count": 5,
   "metadata": {},
   "outputs": [
    {
     "name": "stdout",
     "output_type": "stream",
     "text": [
      "Lista ordenada:  [0, 1, 2, 3, 4, 5, 6, 7, 8, 9]\n",
      "Melhor caso - Comparações: 9, trocas: 0, passadas: 1\n"
     ]
    }
   ],
   "source": [
    "melhor_caso = [0, 1, 2, 3, 4, 5, 6, 7, 8, 9]\n",
    "bubble_sort(melhor_caso)\n",
    "print('Lista ordenada: ', melhor_caso)\n",
    "print(f'Melhor caso - Comparações: {comps}, trocas: {trocas}, passadas: {passadas}')"
   ]
  },
  {
   "cell_type": "code",
   "execution_count": 6,
   "metadata": {},
   "outputs": [
    {
     "name": "stdout",
     "output_type": "stream",
     "text": [
      "Tempo gasto: 24558.78ms\n",
      "Comparações: 98440155, trocas: 24695190, passadas: 9845\n"
     ]
    }
   ],
   "source": [
    "# Pega apenas os 10k primeiros nomes\n",
    "nomes_10k = nomes[:10000]\n",
    "\n",
    "hora_ini = time()\n",
    "bubble_sort(nomes_10k)\n",
    "hora_fim = time()\n",
    "\n",
    "# print(\"Nomes ordenados: \", nomes_10k)\n",
    "print(f'Tempo gasto: {round((hora_fim - hora_ini) * 1000, 2)}ms')\n",
    "print(f'Comparações: {comps}, trocas: {trocas}, passadas: {passadas}')"
   ]
  },
  {
   "attachments": {},
   "cell_type": "markdown",
   "metadata": {},
   "source": [
    "### Bubble sort (otimizado)"
   ]
  },
  {
   "cell_type": "code",
   "execution_count": 7,
   "metadata": {},
   "outputs": [],
   "source": [
    "\"\"\" \n",
    "    ALGORITMO DE ORDENAÇÃO BUBBLE SORT\n",
    "    Percorre a lista a ser ordenada em sucessivas passadas, trocando dois elementos adjacentes sempre que o segundo for MENOR que o primeiro.\n",
    "    Efetua tantas passadas quanto necessárias, até que, na última passada, nenhuma troca seja efetuada\n",
    "    VERSÃO OTIMIZADA COM ENCOLHIMENTO DO PERCURSO A CADA PASSADA\n",
    "\"\"\"\n",
    "\n",
    "def bubble_sort(lista):\n",
    "    global comps, trocas, passadas\n",
    "    comps = trocas = passadas = 0\n",
    "    desloc = 1\n",
    "\n",
    "    # Loop eterno, não sabemos quantas passadas serão necessárias\n",
    "    while True:\n",
    "        trocou = False\n",
    "        passadas += 1\n",
    "        \n",
    "        # Percurso da lista, do primeiro ao PENÚLTIMO elemento, com acesso a cada posição\n",
    "        for pos in range(len(lista) - desloc):\n",
    "            comps += 1\n",
    "            \n",
    "            # Se o número que está a frente na lista for MENOR do que o que está atrás, TROCA\n",
    "            if lista[pos + 1 ] < lista[pos]:\n",
    "                lista[pos + 1], lista[pos] = lista[pos], lista[pos + 1]\n",
    "                trocou = True\n",
    "                trocas += 1\n",
    "        \n",
    "        if not trocou:  # Não houve troca na passada\n",
    "            break       # Interrompe o loop eterno; acabou\n",
    "\n",
    "        desloc += 1 # Aumenta o deslocamento para diminuir o tamanho da próxima passada"
   ]
  },
  {
   "cell_type": "code",
   "execution_count": 8,
   "metadata": {},
   "outputs": [
    {
     "name": "stdout",
     "output_type": "stream",
     "text": [
      "Lista ordenada:  [0, 1, 2, 3, 4, 5, 6, 7, 8, 9]\n",
      "Comparações: 39, trocas: 21, passadas: 6\n"
     ]
    }
   ],
   "source": [
    "# Teste com um vetor de 10 números\n",
    "nums = [6, 4, 2, 0, 9, 5 ,1, 8, 3, 7]\n",
    "bubble_sort(nums)\n",
    "print('Lista ordenada: ', nums)\n",
    "print(f'Comparações: {comps}, trocas: {trocas}, passadas: {passadas}')"
   ]
  },
  {
   "cell_type": "code",
   "execution_count": 9,
   "metadata": {},
   "outputs": [
    {
     "name": "stdout",
     "output_type": "stream",
     "text": [
      "Lista ordenada:  [0, 1, 2, 3, 4, 5, 6, 7, 8, 9]\n",
      "Pior caso - Comparações: 45, trocas: 45, passadas: 10\n"
     ]
    }
   ],
   "source": [
    "pior_caso = [9, 8, 7, 6, 5, 4, 3, 2, 1, 0]\n",
    "bubble_sort(pior_caso)\n",
    "print('Lista ordenada: ', pior_caso)\n",
    "print(f'Pior caso - Comparações: {comps}, trocas: {trocas}, passadas: {passadas}')"
   ]
  },
  {
   "cell_type": "code",
   "execution_count": 10,
   "metadata": {},
   "outputs": [
    {
     "name": "stdout",
     "output_type": "stream",
     "text": [
      "Lista ordenada:  [0, 1, 2, 3, 4, 5, 6, 7, 8, 9]\n",
      "Melhor caso - Comparações: 9, trocas: 0, passadas: 1\n"
     ]
    }
   ],
   "source": [
    "melhor_caso = [0, 1, 2, 3, 4, 5, 6, 7, 8, 9]\n",
    "bubble_sort(melhor_caso)\n",
    "print('Lista ordenada: ', melhor_caso)\n",
    "print(f'Melhor caso - Comparações: {comps}, trocas: {trocas}, passadas: {passadas}')"
   ]
  },
  {
   "cell_type": "code",
   "execution_count": 11,
   "metadata": {},
   "outputs": [
    {
     "name": "stdout",
     "output_type": "stream",
     "text": [
      "Tempo gasto: 14999.25ms\n",
      "Comparações: 49983065, trocas: 24695190, passadas: 9845\n"
     ]
    }
   ],
   "source": [
    "# Pega apenas os 10k primeiros nomes\n",
    "nomes_10k = nomes[:10000]\n",
    "\n",
    "hora_ini = time()\n",
    "bubble_sort(nomes_10k)\n",
    "hora_fim = time()\n",
    "\n",
    "# print(\"Nomes ordenados: \", nomes_10k)\n",
    "print(f'Tempo gasto: {round((hora_fim - hora_ini) * 1000, 2)}ms')\n",
    "print(f'Comparações: {comps}, trocas: {trocas}, passadas: {passadas}')"
   ]
  },
  {
   "attachments": {},
   "cell_type": "markdown",
   "metadata": {},
   "source": [
    "### Selection sort"
   ]
  },
  {
   "cell_type": "code",
   "execution_count": 12,
   "metadata": {},
   "outputs": [],
   "source": [
    "\"\"\" \n",
    "    ALGORITMO DE ORDENAÇÃO SELECTION SORT\n",
    "\n",
    "    Isola (seleciona) o primeiro elemento da lista e, em seguida, encontra o menor valor no restante da lista.\n",
    "    Se o valor encontrado for menor que o valor previamente selecionado, efetua a troca entre eles.\n",
    "    Continuando, seleciona o segundo elemento da lista, buscando pelo menor valor das posições subsequentes.\n",
    "    Faz a troca entre os dois valores, se necessário.\n",
    "    O processo se repete até que o penúltimo elemento da lista seja isolado, comparado com o último e feita a troca entre eles, se for o caso\n",
    "\"\"\"\n",
    "\n",
    "def selection_sort(lista):\n",
    "\n",
    "    global comps, trocas, passadas\n",
    "    comps = trocas = passadas = 0\n",
    "    \n",
    "    # Loop que vai da primeira até a PENÚLTIMA posição\n",
    "    for pos_sel in range(len(lista) - 1):\n",
    "\n",
    "        passadas += 1\n",
    "\n",
    "        # Encontra o menor valor da sublista à frente de pos_sel\n",
    "        pos_menor = pos_sel + 1\n",
    "        for pos in range(pos_sel + 2, len(lista)):\n",
    "            # Se o valor encontrado na posição pos for MENOR que o valor da posição pos_menor,\n",
    "            # então pos_menor passa a ser pos\n",
    "            comps += 1\n",
    "            if lista[pos] < lista[pos_menor]: pos_menor = pos\n",
    "\n",
    "        # Compara os elementos das posições pos_menor e pos_sel.\n",
    "        # Se o valor do primeiro for MENOR que o valor do segundo, efetua a troca\n",
    "        comps += 1\n",
    "        if lista[pos_menor] < lista[pos_sel]:\n",
    "            lista[pos_menor], lista[pos_sel] = lista[pos_sel], lista[pos_menor]\n",
    "            trocas += 1"
   ]
  },
  {
   "cell_type": "code",
   "execution_count": 13,
   "metadata": {},
   "outputs": [
    {
     "name": "stdout",
     "output_type": "stream",
     "text": [
      "Lista ordenada:  [0, 1, 2, 3, 4, 5, 6, 7, 8, 9]\n",
      "Comparações: 45, trocas: 7, passadas: 9\n"
     ]
    }
   ],
   "source": [
    "# Teste com um vetor de 10 números\n",
    "nums = [6, 4, 2, 0, 9, 5 ,1, 8, 3, 7]\n",
    "selection_sort(nums)\n",
    "print('Lista ordenada: ', nums)\n",
    "print(f'Comparações: {comps}, trocas: {trocas}, passadas: {passadas}')"
   ]
  },
  {
   "cell_type": "code",
   "execution_count": 14,
   "metadata": {},
   "outputs": [
    {
     "name": "stdout",
     "output_type": "stream",
     "text": [
      "Lista ordenada:  [0, 1, 2, 3, 4, 5, 6, 7, 8, 9]\n",
      "Pior caso - Comparações: 45, trocas: 9, passadas: 9\n"
     ]
    }
   ],
   "source": [
    "pior_caso = [9, 0, 1, 2, 3, 4, 5, 6, 7, 8]\n",
    "selection_sort(pior_caso)\n",
    "print('Lista ordenada: ', pior_caso)\n",
    "print(f'Pior caso - Comparações: {comps}, trocas: {trocas}, passadas: {passadas}')"
   ]
  },
  {
   "cell_type": "code",
   "execution_count": 15,
   "metadata": {},
   "outputs": [
    {
     "name": "stdout",
     "output_type": "stream",
     "text": [
      "Lista ordenada:  [0, 1, 2, 3, 4, 5, 6, 7, 8, 9]\n",
      "Melhor caso - Comparações: 45, trocas: 0, passadas: 9\n"
     ]
    }
   ],
   "source": [
    "melhor_caso = [0, 1, 2, 3, 4, 5, 6, 7, 8, 9]\n",
    "selection_sort(melhor_caso)\n",
    "print('Lista ordenada: ', melhor_caso)\n",
    "print(f'Melhor caso - Comparações: {comps}, trocas: {trocas}, passadas: {passadas}')"
   ]
  },
  {
   "cell_type": "code",
   "execution_count": 16,
   "metadata": {},
   "outputs": [
    {
     "name": "stdout",
     "output_type": "stream",
     "text": [
      "Tempo gasto: 8266.71ms\n",
      "Nomes - Comparações: 49995000, trocas: 9988, passadas: 9999\n"
     ]
    }
   ],
   "source": [
    "# Pega apenas os 10k primeiros nomes\n",
    "nomes_10k = nomes[:10000]\n",
    "\n",
    "hora_ini = time()\n",
    "selection_sort(nomes_10k)\n",
    "hora_fim = time()\n",
    "\n",
    "# print(\"Nomes ordenados: \", nomes_10k)\n",
    "print(f'Tempo gasto: {round((hora_fim - hora_ini) * 1000, 2)}ms')\n",
    "print(f'Nomes - Comparações: {comps}, trocas: {trocas}, passadas: {passadas}')"
   ]
  },
  {
   "attachments": {},
   "cell_type": "markdown",
   "metadata": {},
   "source": [
    "### Recursividade"
   ]
  },
  {
   "cell_type": "code",
   "execution_count": 17,
   "metadata": {},
   "outputs": [],
   "source": [
    "\"\"\"\n",
    "    RECURSIVIDADE\n",
    "\n",
    "    Trata-se de uma técnica de programação pela qual uma função chama a si mesma, em uma condição diferente da inicial.\n",
    "    O principal objetivo do uso da recursividade é diminuir a complexidade de algoritmos.\n",
    "\"\"\"\n",
    "\n",
    "# Cálculo do fatorial, versão iterativa (não recursiva)\n",
    "def fatorial_iter(num):\n",
    "    # Não é possível calcular o fatorial de números negativos\n",
    "    if num < 0:\n",
    "        raise Exception(\"Erro: número negativo, cálculo impossível\")\n",
    "    \n",
    "    res = 1\n",
    "\n",
    "    # Loop descendente de num até 1\n",
    "    for x in range(num, 0, -1): res *= x\n",
    "    \n",
    "    return res"
   ]
  },
  {
   "cell_type": "code",
   "execution_count": 18,
   "metadata": {},
   "outputs": [
    {
     "name": "stdout",
     "output_type": "stream",
     "text": [
      "7! =  5040\n",
      "0! =  1\n"
     ]
    }
   ],
   "source": [
    "print('7! = ', fatorial_iter(7))\n",
    "print('0! = ', fatorial_iter(0))\n",
    "# print('-6! = ', fatorial_iter(-6))  # Retorna o erro"
   ]
  },
  {
   "cell_type": "code",
   "execution_count": 19,
   "metadata": {},
   "outputs": [],
   "source": [
    "# Cálculo do fatorial, de forma recursiva\n",
    "def fatorial_rec(num):\n",
    "    # Não é possível calcular o fatorial de números negativos\n",
    "    if num < 0:\n",
    "        raise Exception(\"Erro: número negativo, cálculo impossível\")\n",
    "    \n",
    "    if num <= 1: return 1   # O fatorial de 0 e 1 é 1\n",
    "    else: return num * fatorial_rec(num - 1)    # Chamada recursiva à função"
   ]
  },
  {
   "cell_type": "code",
   "execution_count": 20,
   "metadata": {},
   "outputs": [
    {
     "name": "stdout",
     "output_type": "stream",
     "text": [
      "7! =  5040\n",
      "0! =  1\n"
     ]
    }
   ],
   "source": [
    "print('7! = ', fatorial_rec(7))\n",
    "print('0! = ', fatorial_rec(0))\n",
    "# print('-6! = ', fatorial_rec(-6))   # Retorna o erro"
   ]
  },
  {
   "attachments": {},
   "cell_type": "markdown",
   "metadata": {},
   "source": [
    "### Merge Sort"
   ]
  },
  {
   "cell_type": "code",
   "execution_count": 21,
   "metadata": {},
   "outputs": [],
   "source": [
    "\"\"\" \n",
    "    ALGORÍTMO DE ORDENAÇÃO MERGE SORT\n",
    "\n",
    "    No processo de ordenação, esse algoritmo \"desmonta\" a lista original, contendo N elementos, até obter N listas com apenas um elemento cada uma.\n",
    "    Em seguida, usando a técnica de mesclagem (merge), \"remonta\" a lista, desta vez com os elementos já em ordem.\n",
    "\"\"\"\n",
    "\n",
    "# Variáveis de estatísticas\n",
    "divs = juncs = comps = 0\n",
    "\n",
    "def merge_sort(lista):\n",
    "\n",
    "    global divs, juncs, comps\n",
    "\n",
    "    # Para que possa haver divisão da lista, esta deve ter mais de um elemento\n",
    "    if len(lista) > 1:\n",
    "        \n",
    "        # Encontra a posição do meio da lista, para fazer a divisão em duas metades\n",
    "        meio = len(lista) // 2\n",
    "\n",
    "        # Tira uma cópia de cada metade da lista\n",
    "        sublista_esq = lista[:meio]\n",
    "        sublista_dir = lista[meio:]\n",
    "        divs += 1   # Número de divisões\n",
    "\n",
    "        # Chamamos recursivamente a função para que ela continue repartindo cada uma das sublistas em duas partes menores\n",
    "        sublista_esq = merge_sort(sublista_esq)\n",
    "        sublista_dir = merge_sort(sublista_dir)\n",
    "\n",
    "        # AQUI COMEÇA A MESCLAGEM ORDENADA DAS DUAS SUBLISTAS\n",
    "        pos_esq = pos_dir = 0\n",
    "        ordenada = []   # Lista vazia\n",
    "\n",
    "        # Compara os elementos das sublistas entre si e insere na lista ordenada o menor entre dois elementos\n",
    "        while pos_esq < len(sublista_esq) and pos_dir < len(sublista_dir):\n",
    "            # O menor elemento está na sublista da esquerda\n",
    "            comps += 1  # Número de comparações\n",
    "            if sublista_esq[pos_esq] < sublista_dir[pos_dir]:\n",
    "                # 'Desce' o elemento da esquerda para a lista ordenada\n",
    "                ordenada.append(sublista_esq[pos_esq])\n",
    "                pos_esq += 1    # Incrementa pos_esq\n",
    "            # O menor elemento está na sublista da direita\n",
    "            else:\n",
    "                # 'Desce' o elemento da direita para a sublista ordenada\n",
    "                ordenada.append(sublista_dir[pos_dir])\n",
    "                pos_dir += 1    # Incrementa pos_dir\n",
    "        \n",
    "        # Verificação da sobra\n",
    "        sobra = []      # Lista vazia\n",
    "\n",
    "        # Sobra à esquerda\n",
    "        if(pos_esq < pos_dir): sobra = sublista_esq[pos_esq:]\n",
    "        # Sobra à direita\n",
    "        else: sobra = sublista_dir[pos_dir:]\n",
    "\n",
    "        juncs += 1  # Número de junções\n",
    "\n",
    "        # O resultado final é a junção (concatenação) da lista ordenada com a sobra\n",
    "        return ordenada + sobra\n",
    "    \n",
    "    else: return lista"
   ]
  },
  {
   "cell_type": "code",
   "execution_count": 22,
   "metadata": {},
   "outputs": [
    {
     "name": "stdout",
     "output_type": "stream",
     "text": [
      "Lista original: [6, 4, 2, 0, 9, 5, 1, 8, 3, 7]\n",
      "Lista ordenada: [0, 1, 2, 3, 4, 5, 6, 7, 8, 9]\n",
      "Divisões: 9, junções: 9, comparações: 24\n"
     ]
    }
   ],
   "source": [
    "# Teste com vetor de 10 números\n",
    "nums = [6, 4, 2, 0, 9, 5, 1, 8, 3, 7]\n",
    "divs = juncs = comps = 0    # Reseta as variáveis de estatísticas\n",
    "resultado = merge_sort(nums)\n",
    "print(\"Lista original:\", nums)\n",
    "print(\"Lista ordenada:\", resultado)\n",
    "print(f\"Divisões: {divs}, junções: {juncs}, comparações: {comps}\")"
   ]
  },
  {
   "cell_type": "code",
   "execution_count": 23,
   "metadata": {},
   "outputs": [
    {
     "name": "stdout",
     "output_type": "stream",
     "text": [
      "Lista original: [9, 0, 8, 1, 7, 2, 6, 3, 5, 4]\n",
      "Lista ordenada: [0, 1, 2, 3, 4, 5, 6, 7, 8, 9]\n",
      "Divisões: 9, junções: 9, comparações: 22\n"
     ]
    }
   ],
   "source": [
    "nums = [9, 0, 8, 1, 7, 2, 6, 3, 5, 4]\n",
    "divs = juncs = comps = 0    # Reseta as variáveis de estatísticas\n",
    "resultado = merge_sort(nums)\n",
    "print(\"Lista original:\", nums)\n",
    "print(\"Lista ordenada:\", resultado)\n",
    "print(f\"Divisões: {divs}, junções: {juncs}, comparações: {comps}\")"
   ]
  },
  {
   "cell_type": "code",
   "execution_count": 24,
   "metadata": {},
   "outputs": [
    {
     "name": "stdout",
     "output_type": "stream",
     "text": [
      "Tempo gasto: 8176.22ms\n",
      "Pico de memória: 2.399 MB\n",
      "Nomes (100k) - Divisões: 100786, junções: 100786, comparações: 1549342\n"
     ]
    }
   ],
   "source": [
    "nomes_merge = nomes[:]\n",
    "\n",
    "divs = juncs = comps = 0\n",
    "tracemalloc.start() # Inicia a medição de memória\n",
    "hora_ini = time()\n",
    "resultado = merge_sort(nomes_merge)\n",
    "hora_fim = time()\n",
    "\n",
    "# Captura as informações de gasto de memória\n",
    "mem_atual, mem_pico = tracemalloc.get_traced_memory()\n",
    "tracemalloc.stop()\n",
    "\n",
    "# print(\"Nomes ordenados: \", resultado)\n",
    "print(f'Tempo gasto: {round((hora_fim - hora_ini) * 1000, 2)}ms')\n",
    "print(f'Pico de memória: {round(mem_pico / 1024 / 1024, 3)} MB')\n",
    "print(f\"Nomes (100k) - Divisões: {divs}, junções: {juncs}, comparações: {comps}\")"
   ]
  },
  {
   "attachments": {},
   "cell_type": "markdown",
   "metadata": {},
   "source": [
    "### Merge Sort Iterativo"
   ]
  },
  {
   "cell_type": "code",
   "execution_count": 25,
   "metadata": {},
   "outputs": [],
   "source": [
    "# Variáveis de estatísticas\n",
    "divs = juncs = comps = 0\n",
    "\n",
    "def merge_sort(lista):\n",
    "    \"\"\"\n",
    "        Função que implementa o algoritmo Merge Sort de forma ITERATIVA\n",
    "    \"\"\"\n",
    "\n",
    "    global divs, juncs, comps\n",
    "\n",
    "    # Inicia com o menor tamanho de partição de 2^0 = 1\n",
    "    tam_part = 1\n",
    "    n = len(lista)  # Obtém o tamanho da lista\n",
    "    \n",
    "    # O tamanho da sublista cresce em potências de 2\n",
    "    while (tam_part < n):   # enquanto o tamanho da partição for menor que o tamanho da lista\n",
    "        # Inicia sempre pela esquerda\n",
    "        esq = 0\n",
    "        while (esq < n):    # enquanto a posição da esquerda for menor que o tamanho da lista\n",
    "            dir = min(esq + (tam_part * 2 - 1), n - 1)  # define a posição da direita como a menor entre esq+(2*tam_part-1) e n-1\n",
    "            meio = (esq + dir) // 2 # define a posição do meio como a média entre esq e dir, arredondada para baixo\n",
    "\n",
    "            # print(f\"esq: {esq}, dir: {dir}, meio: {meio}\")\n",
    "\n",
    "            # A mescla final deve considerar sublistas não mescladas se o tamanho da lista original não for potência de 2\n",
    "            comps += 1\n",
    "            if (tam_part > n // 2):             # se o tamanho da partição for maior que o tamanho da lista / 2\n",
    "                meio = dir  - (n % tam_part)    # ajusta a posição do meio para levar em conta sub-listas não mescladas\n",
    "            \n",
    "            # Divide a lista em duas sublistas\n",
    "            tam_esq = meio - esq + 1\n",
    "            tam_dir = dir - meio\n",
    "            lista_esq = [0] * tam_esq   # Vetor auxiliar\n",
    "            lista_dir = [0] * tam_dir   # Vetor auxiliar\n",
    "\n",
    "            # Copia os elementos da sublista esquerda e da sublista direita para suas respectivas listas auxiliares\n",
    "            for pos_esq in range(0, tam_esq):\n",
    "                lista_esq[pos_esq] = lista[esq + pos_esq]\n",
    "            for pos_esq in range(0, tam_dir):\n",
    "                lista_dir[pos_esq] = lista[meio + pos_esq + 1]\n",
    "\n",
    "            # Realiza a junção das duas sublistas em ordem crescente\n",
    "            pos_esq, pos_dir, i = 0, 0, esq     # inicializa as variáveis de posição da sublista da esquerda, direita e da lista original\n",
    "            while pos_esq < tam_esq and pos_dir < tam_dir:  # enquanto houver elementos nas duas sublistas\n",
    "                comps += 1\n",
    "                if lista_esq[pos_esq] > lista_dir[pos_dir]:\n",
    "                    lista[i] = lista_dir[pos_dir]\n",
    "                    pos_dir += 1\n",
    "                else:\n",
    "                    lista[i] = lista_esq[pos_esq]\n",
    "                    pos_esq += 1\n",
    "                i += 1\n",
    "\n",
    "            # Insere o restante da sub-lista esquerda, se houver\n",
    "            while pos_esq < tam_esq:\n",
    "                lista[i] = lista_esq[pos_esq]\n",
    "                pos_esq += 1\n",
    "                i += 1\n",
    "\n",
    "            # Insere o restante da sub-lista direita, se houver\n",
    "            while pos_dir < tam_dir:\n",
    "                lista[i] = lista_dir[pos_dir]\n",
    "                pos_dir += 1\n",
    "                i += 1\n",
    "\n",
    "            esq += tam_part * 2 # Move o ponteiro esquerdo para a próxima sub-lista\n",
    "            juncs += 1\n",
    "\n",
    "        # Incrementa a sublista em potências de 2\n",
    "        tam_part *= 2\n",
    "\n",
    "        divs += 1\n",
    "\n",
    "    return lista"
   ]
  },
  {
   "cell_type": "code",
   "execution_count": 26,
   "metadata": {},
   "outputs": [
    {
     "name": "stdout",
     "output_type": "stream",
     "text": [
      "Lista original: [6, 4, 2, 0, 9, 5, 1, 8, 3, 7]\n",
      "Lista ordenada: [0, 1, 2, 3, 4, 5, 6, 7, 8, 9]\n",
      "Divisões: 4, junções: 11, comparações: 37\n"
     ]
    }
   ],
   "source": [
    "# Teste com vetor de 10 números\n",
    "nums = [6, 4, 2, 0, 9, 5, 1, 8, 3, 7]\n",
    "divs = juncs = comps = 0    # Reseta as variáveis de estatísticas\n",
    "print(\"Lista original:\", nums)\n",
    "resultado = merge_sort(nums)\n",
    "print(\"Lista ordenada:\", resultado)\n",
    "print(f\"Divisões: {divs}, junções: {juncs}, comparações: {comps}\")"
   ]
  },
  {
   "cell_type": "code",
   "execution_count": 27,
   "metadata": {},
   "outputs": [
    {
     "name": "stdout",
     "output_type": "stream",
     "text": [
      "Lista original: [9, 0, 8, 1, 7, 2, 6, 3, 5, 4]\n",
      "Lista ordenada: [0, 1, 2, 3, 4, 5, 6, 7, 8, 9]\n",
      "Divisões: 4, junções: 11, comparações: 36\n"
     ]
    }
   ],
   "source": [
    "nums = [9, 0, 8, 1, 7, 2, 6, 3, 5, 4]\n",
    "divs = juncs = comps = 0    # Reseta as variáveis de estatísticas\n",
    "print(\"Lista original:\", nums)\n",
    "resultado = merge_sort(nums)\n",
    "print(\"Lista ordenada:\", resultado)\n",
    "print(f\"Divisões: {divs}, junções: {juncs}, comparações: {comps}\")"
   ]
  },
  {
   "cell_type": "code",
   "execution_count": 28,
   "metadata": {},
   "outputs": [
    {
     "name": "stdout",
     "output_type": "stream",
     "text": [
      "Tempo gasto: 17866.44ms\n",
      "Pico de memória: 0.906 MB\n",
      "Nomes (100k) - Divisões: 17, junções: 100795, comparações: 1660736\n"
     ]
    }
   ],
   "source": [
    "nomes_merge = nomes[:]\n",
    "\n",
    "divs = juncs = comps = 0\n",
    "tracemalloc.start() # Inicia a medição de memória\n",
    "hora_ini = time()\n",
    "resultado = merge_sort(nomes_merge)\n",
    "hora_fim = time()\n",
    "\n",
    "# Captura as informações de gasto de memória\n",
    "mem_atual, mem_pico = tracemalloc.get_traced_memory()\n",
    "tracemalloc.stop()\n",
    "\n",
    "# print(\"Nomes ordenados: \", resultado)\n",
    "print(f'Tempo gasto: {round((hora_fim - hora_ini) * 1000, 2)}ms')\n",
    "print(f'Pico de memória: {round(mem_pico / 1024 / 1024, 3)} MB')\n",
    "print(f\"Nomes (100k) - Divisões: {divs}, junções: {juncs}, comparações: {comps}\")"
   ]
  },
  {
   "attachments": {},
   "cell_type": "markdown",
   "metadata": {},
   "source": [
    "### Quick Sort"
   ]
  },
  {
   "cell_type": "code",
   "execution_count": 29,
   "metadata": {},
   "outputs": [],
   "source": [
    "\"\"\"\n",
    "    ALGORITMO DE ORDENAÇÃO QUICK SORT\n",
    "\n",
    "    Escolha um dos elementos da lista para ser o pivô (na nossa implementação, o último elemento)\n",
    "    e, na primeira passada, divide a lista, a partir da posição final do pivô, em uma sublista à esquerda,\n",
    "    contendo apenas valores menores que o pivô, e outra à direita, que contém apenas valores maiores que o pivô.\n",
    "\n",
    "    Em seguida, recursivamente, repete o processo em cada uma das sublistas, até que toda lista esteja ordenada.\n",
    "\"\"\"\n",
    "\n",
    "passadas = comps = trocas = 0    # Reseta as variáveis de estatísticas\n",
    "\n",
    "def quick_sort(lista, ini=0, fim=None):\n",
    "    \n",
    "    # Quando não soubermos o valor da variável \"fim\", vamos atribuir a ela a última posição da lista\n",
    "    if fim is None: fim = len(lista) - 1\n",
    "\n",
    "    # Para que o algoritmo trabalhe, é necessário que a faixa delimitada pelas variáveis \"int\" e \"fim\" tenha, pelo menos, dois elementos\n",
    "    # Caso contrário, saímos da função sem fazer nada\n",
    "    if fim <= ini: return\n",
    "\n",
    "    global passadas, comps, trocas\n",
    "\n",
    "    # Inicialização das variáveis\n",
    "    pivot = fim\n",
    "    div = ini - 1\n",
    "    passadas += 1\n",
    "\n",
    "    # Percorre a lista da posição \"int\" até a posição \"fim\" - 1\n",
    "    for pos in range(ini, fim):\n",
    "        # Compara os elementos das posições \"pos\" e \"pivot\"\n",
    "        comps += 1\n",
    "        if lista[pos] < lista[pivot]:\n",
    "            div += 1\n",
    "            # Se os valores das variáveis \"div\" e \"pos\" forem diferentes entre si e o elemento \"pos\" for menor\n",
    "            # que o elemento da posição \"div\", promove a troca entre eles\n",
    "            comps += 1\n",
    "            if pos != div and lista[pos] < lista[div]:\n",
    "                lista[pos], lista[div] = lista[div], lista[pos]\n",
    "                trocas += 1\n",
    "\n",
    "    # Depois que o loop acaba, o divisor é incrementado ainda uma vez\n",
    "    div += 1\n",
    "\n",
    "    # Caso os valores das posições \"div\" e \"pivot\" sejam diferentes entre si, é feita a comparação entre os elementos dessas posições.\n",
    "    # Se o valor de \"pivot\" for menor, promove-se a troca entre os elementos.\n",
    "    comps += 1\n",
    "    if pivot != div and lista[pivot] < lista[div]:\n",
    "        lista[pivot], lista[div] = lista[div], lista[pivot]\n",
    "        trocas += 1\n",
    "\n",
    "    # O ELEMENTO DA POSIÇÃO \"div\" ESTÁ EM SEU LUGAR CORRETA AGORA\n",
    "\n",
    "    # Chamamos recursivamente a função para ordenar a sublista à esquerda da posição \"div\"\n",
    "    quick_sort(lista, ini, div - 1)\n",
    "\n",
    "    # Fazemos o mesmo para ordenar a sublista à direita de \"div\"\n",
    "    quick_sort(lista, div + 1, fim)"
   ]
  },
  {
   "cell_type": "code",
   "execution_count": 30,
   "metadata": {},
   "outputs": [
    {
     "name": "stdout",
     "output_type": "stream",
     "text": [
      "Lista original: [9, 8, 7, 6, 5, 4, 3, 2, 1, 0]\n",
      "Lista ordenada: [0, 1, 2, 3, 4, 5, 6, 7, 8, 9]\n",
      "Comparações: 74, trocas: 5, passadas: 9\n"
     ]
    }
   ],
   "source": [
    "# Teste com vetor de 10 números\n",
    "# nums = [6, 4, 2, 0, 9, 5, 1, 8, 3, 7]\n",
    "# nums = [0, 1, 2, 3, 4, 5, 6, 7, 8, 9]\n",
    "nums = [9, 8, 7, 6, 5, 4, 3, 2, 1, 0]\n",
    "\n",
    "passadas = comps = trocas = 0    # Reseta as variáveis de estatísticas\n",
    "print(\"Lista original:\", nums)\n",
    "quick_sort(nums)\n",
    "print(\"Lista ordenada:\", nums)\n",
    "print(f\"Comparações: {comps}, trocas: {trocas}, passadas: {passadas}\")"
   ]
  },
  {
   "cell_type": "code",
   "execution_count": 31,
   "metadata": {},
   "outputs": [
    {
     "name": "stdout",
     "output_type": "stream",
     "text": [
      "Tempo gasto: 10290.99ms\n",
      "Pico de memória: 0.014 MB\n",
      "(Nomes) Comparações: 3081459, trocas: 961261, passadas: 67221\n"
     ]
    }
   ],
   "source": [
    "nomes_quick = nomes[:]\n",
    "passadas = comps = trocas = 0\n",
    "\n",
    "tracemalloc.start()\n",
    "hora_ini = time()\n",
    "quick_sort(nomes_quick)\n",
    "hora_fim = time()\n",
    "\n",
    "# Captura as informações de gasto de memória\n",
    "mem_atual, mem_pico = tracemalloc.get_traced_memory()\n",
    "\n",
    "# print(\"Nomes ordenados: \", resultado)\n",
    "print(f'Tempo gasto: {round((hora_fim - hora_ini) * 1000, 2)}ms')\n",
    "print(f'Pico de memória: {round(mem_pico / 1024 / 1024, 3)} MB')\n",
    "print(f\"(Nomes) Comparações: {comps}, trocas: {trocas}, passadas: {passadas}\")"
   ]
  },
  {
   "attachments": {},
   "cell_type": "markdown",
   "metadata": {},
   "source": [
    "### Quick Sort Iterativo"
   ]
  },
  {
   "cell_type": "code",
   "execution_count": 32,
   "metadata": {},
   "outputs": [],
   "source": [
    "passadas = comps = trocas = 0    # Variáveis de estatísticas\n",
    "\n",
    "def quick_sort(lista, ini = 0, fim = None):\n",
    "    \"\"\"\n",
    "        Função que implementa o algoritmo Quick Sort de forma ITERATIVA\n",
    "    \"\"\"\n",
    "\n",
    "    global passadas, comps, trocas\n",
    "\n",
    "    if fim is None: fim = len(lista) - 1\n",
    "\n",
    "    # Cria uma lista auxiliar\n",
    "    tamanho = fim - ini + 1\n",
    "    aux = [None] * tamanho\n",
    "  \n",
    "    # Inicializa a posição da lista auxiliar\n",
    "    pos = -1\n",
    "  \n",
    "    # Coloca os valores iniciais de ini e fim na lista auxiliar\n",
    "    pos = pos + 1\n",
    "    aux[pos] = ini\n",
    "    pos = pos + 1\n",
    "    aux[pos] = fim\n",
    "  \n",
    "    # Continua retirando valores da lista auxiliar enquanto ela não estiver vazia\n",
    "    while pos >= 0:\n",
    "        passadas += 1\n",
    "\n",
    "        # print(aux)\n",
    "  \n",
    "        # Retira fim e início\n",
    "        fim = aux[pos]\n",
    "        pos = pos - 1\n",
    "        ini = aux[pos]\n",
    "        pos = pos - 1\n",
    "  \n",
    "        # Coloca o pivô em sua posição correta na lista ordenada\n",
    "        i = ini - 1\n",
    "        x = lista[fim]\n",
    "    \n",
    "        for j in range(ini , fim):\n",
    "            comps += 1\n",
    "            if lista[j] <= x:\n",
    "                # Incrementa a posição do menor elemento\n",
    "                i = i + 1\n",
    "                lista[i], lista[j] = lista[j], lista[i]\n",
    "                trocas += 1\n",
    "    \n",
    "        lista[i + 1], lista[fim] = lista[fim], lista[i + 1]\n",
    "        trocas += 1\n",
    "        \n",
    "        pivot = i + 1\n",
    "  \n",
    "        # Se há elementos à esquerda do pivô, coloca-os no lado esquerdo da lista auxiliar\n",
    "        if pivot - 1 > ini:\n",
    "            pos = pos + 1\n",
    "            aux[pos] = ini\n",
    "            pos = pos + 1\n",
    "            aux[pos] = pivot - 1\n",
    "  \n",
    "        # Se há elementos à direita do pivô, coloca-os no lado direito da lista auxiliar\n",
    "        if pivot + 1 < fim:\n",
    "            pos = pos + 1\n",
    "            aux[pos] = pivot + 1\n",
    "            pos = pos + 1\n",
    "            aux[pos] = fim"
   ]
  },
  {
   "cell_type": "code",
   "execution_count": 33,
   "metadata": {},
   "outputs": [
    {
     "name": "stdout",
     "output_type": "stream",
     "text": [
      "Lista original: [9, 8, 7, 6, 5, 4, 3, 2, 1, 0]\n",
      "Lista ordenada: [0, 1, 2, 3, 4, 5, 6, 7, 8, 9]\n",
      "Comparações: 45, trocas: 29, passadas: 9\n"
     ]
    }
   ],
   "source": [
    "# Teste com vetor de 10 números\n",
    "# nums = [6, 4, 2, 0, 9, 5, 1, 8, 3, 7]\n",
    "# nums = [0, 1, 2, 3, 4, 5, 6, 7, 8, 9]\n",
    "nums = [9, 8, 7, 6, 5, 4, 3, 2, 1, 0]\n",
    "\n",
    "passadas = comps = trocas = 0    # Reseta as variáveis de estatísticas\n",
    "print(\"Lista original:\", nums)\n",
    "quick_sort(nums)\n",
    "print(\"Lista ordenada:\", nums)\n",
    "print(f\"Comparações: {comps}, trocas: {trocas}, passadas: {passadas}\")"
   ]
  },
  {
   "cell_type": "code",
   "execution_count": 34,
   "metadata": {},
   "outputs": [
    {
     "name": "stdout",
     "output_type": "stream",
     "text": [
      "Tempo gasto: 11441.01ms\n",
      "Pico de memória: 1.609 MB\n",
      "(Nomes) Comparações: 2005379, trocas: 1076080, passadas: 67221\n"
     ]
    }
   ],
   "source": [
    "nomes_quick = nomes[:]\n",
    "passadas = comps = trocas = 0\n",
    "\n",
    "tracemalloc.start() # Inicia a medição de memória\n",
    "hora_ini = time()\n",
    "quick_sort(nomes_quick)\n",
    "hora_fim = time()\n",
    "\n",
    "# Captura as informações de gasto de memória\n",
    "mem_atual, mem_pico = tracemalloc.get_traced_memory()\n",
    "\n",
    "print(f'Tempo gasto: {round((hora_fim - hora_ini) * 1000, 2)}ms')\n",
    "print(f'Pico de memória: {round(mem_pico / 1024 / 1024, 3)} MB')\n",
    "print(f\"(Nomes) Comparações: {comps}, trocas: {trocas}, passadas: {passadas}\")"
   ]
  }
 ],
 "metadata": {
  "kernelspec": {
   "display_name": "Python 3",
   "language": "python",
   "name": "python3"
  },
  "language_info": {
   "codemirror_mode": {
    "name": "ipython",
    "version": 3
   },
   "file_extension": ".py",
   "mimetype": "text/x-python",
   "name": "python",
   "nbconvert_exporter": "python",
   "pygments_lexer": "ipython3",
   "version": "3.11.0rc2"
  },
  "orig_nbformat": 4,
  "vscode": {
   "interpreter": {
    "hash": "ead1b95f633dc9c51826328e1846203f51a198c6fb5f2884a80417ba131d4e82"
   }
  }
 },
 "nbformat": 4,
 "nbformat_minor": 2
}
