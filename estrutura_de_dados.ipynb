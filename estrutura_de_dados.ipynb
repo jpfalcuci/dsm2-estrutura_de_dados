{
 "cells": [
  {
   "attachments": {},
   "cell_type": "markdown",
   "metadata": {},
   "source": [
    "### Funções"
   ]
  },
  {
   "cell_type": "code",
   "execution_count": 1,
   "metadata": {},
   "outputs": [
    {
     "name": "stdout",
     "output_type": "stream",
     "text": [
      "O IMC calculado é  27.379664683612766\n"
     ]
    }
   ],
   "source": [
    "\"\"\"\n",
    "    Função para calcular o Índice de Massa Corpórea de uma pessoa, dados o seu peso e a sua altura\n",
    "\"\"\"\n",
    "def imc(peso, altura):\n",
    "    return peso / altura ** 2   # Peso dividido pela altura elevada ao quadrado\n",
    "\n",
    "resultado = imc(81, 1.72)\n",
    "print('O IMC calculado é ', resultado)"
   ]
  },
  {
   "cell_type": "code",
   "execution_count": 2,
   "metadata": {},
   "outputs": [
    {
     "name": "stdout",
     "output_type": "stream",
     "text": [
      "Área retângulo 10x25: 250\n",
      "Área triângulo 12x7: 42.0\n",
      "Área círculo 10x10: 78.53981633974483\n"
     ]
    }
   ],
   "source": [
    "from math import pi\n",
    "\n",
    "\"\"\"\n",
    "    Função para calcular a área de figuras geométricas planas \n",
    "\"\"\"\n",
    "def calcular_area(base, altura, tipo):\n",
    "    if tipo == 'R':     # Retângulo\n",
    "        return base * altura\n",
    "    elif tipo == 'T':   # Triângulo\n",
    "        return base * altura / 2\n",
    "    elif tipo == 'E':   # Elipse\n",
    "        return (base / 2) * (altura / 2) * pi\n",
    "    else:\n",
    "        return None\n",
    "\n",
    "# Execução da função anteriormente declarada\n",
    "print('Área retângulo 10x25:', calcular_area(10, 25, 'R'))\n",
    "print('Área triângulo 12x7:', calcular_area(12, 7, 'T'))\n",
    "print('Área círculo 10x10:', calcular_area(10, 10, 'E'))"
   ]
  },
  {
   "attachments": {},
   "cell_type": "markdown",
   "metadata": {},
   "source": [
    "### Listas"
   ]
  },
  {
   "cell_type": "code",
   "execution_count": 3,
   "metadata": {},
   "outputs": [
    {
     "name": "stdout",
     "output_type": "stream",
     "text": [
      "2\n",
      "3\n",
      "5\n",
      "7\n",
      "9\n",
      "11\n",
      "batata\n",
      "tomate\n",
      "True\n",
      "\n",
      "********************************************************************************\n"
     ]
    }
   ],
   "source": [
    "# LISTAS EM PYTHON\n",
    "# Listas são uma forma de armazenar mais de um valor em uma única variável\n",
    "# Os valores podem ser de tipos diferentes\n",
    "\n",
    "# Uma lista de números\n",
    "valores = [2, 3, 5, 7, 9, 11, 'batata', 'tomate', True]\n",
    "\n",
    "# OPERAÇÕES SOBRE LISTAS\n",
    "# 1) PERCURSO: significa percorrer a lista do primeiro até o último elemento, fazendo algo com cada um deles.\n",
    "#   No caso, a seguir, vamos exibir cada um dos elementos separadamente usando print()\n",
    "for v in valores:\n",
    "    print(v)\n",
    "\n",
    "print('\\n', '*' * 80, sep='') # Imprime * 80 vezes"
   ]
  },
  {
   "cell_type": "code",
   "execution_count": 4,
   "metadata": {},
   "outputs": [
    {
     "name": "stdout",
     "output_type": "stream",
     "text": [
      "[2, 3, 5, 7, 9, 11, 'batata', 'tomate', True, 'cebola']\n",
      "[2, 3, 5, 7, 9, 11, 'batata', 'tomate', True, 'cebola', 29]\n",
      "\n",
      "--------------------------------------------------------------------------------\n"
     ]
    }
   ],
   "source": [
    "# 2) INSERÇÃO DE UM NOVO ELEMENTO NO *FIM* DA LISTA: append()\n",
    "valores.append('cebola')\n",
    "print(valores)\n",
    "valores.append(29)\n",
    "print(valores)\n",
    "\n",
    "print('\\n', '-' * 80, sep='') # Imprime - 80 vezes"
   ]
  },
  {
   "cell_type": "code",
   "execution_count": 5,
   "metadata": {},
   "outputs": [
    {
     "name": "stdout",
     "output_type": "stream",
     "text": [
      "[2, 3, 5, 7, 'chuchu', 9, 11, 'batata', 'tomate', True, 'cebola', 29]\n",
      "['abobrinha', 2, 3, 5, 7, 'chuchu', 9, 11, 'batata', 'tomate', True, 'cebola', 29]\n",
      "\n",
      "--------------------------------------------------------------------------------\n"
     ]
    }
   ],
   "source": [
    "# 3) INSERINDO UM NOVO ELEMENTO EM UMA POSIÇÃO ESPECIFICADA: insert()\n",
    "#    Parâmetros:\n",
    "#    1º: índice para inserir\n",
    "#    2º: valor a ser inserido\n",
    "valores.insert(4, 'chuchu') # Inserindo 'chuchu' no índice 4\n",
    "print(valores)\n",
    "\n",
    "valores.insert(0, 'abobrinha') # Inserindo 'abobrinha' na primeira posição\n",
    "print(valores)\n",
    "\n",
    "print('\\n', '-' * 80, sep='')"
   ]
  },
  {
   "cell_type": "code",
   "execution_count": 6,
   "metadata": {},
   "outputs": [
    {
     "name": "stdout",
     "output_type": "stream",
     "text": [
      "Elemento na SÉTIMA posição: 9\n",
      "Elemento na TERCEIRA posição: 3\n",
      "Elemento na PRIMEIRA posição: abobrinha\n",
      "Elemento na ÚLTIMA posição: 29\n",
      "Elemento na PENÚLTIMA posição: cebola\n",
      "\n",
      "--------------------------------------------------------------------------------\n"
     ]
    }
   ],
   "source": [
    "# 4) ACESSANDO UM VALOR EM UMA POSIÇÃO ESPECÍFICA\n",
    "print('Elemento na SÉTIMA posição:', valores[6])\n",
    "print('Elemento na TERCEIRA posição:', valores[2])\n",
    "print('Elemento na PRIMEIRA posição:', valores[0])\n",
    "print('Elemento na ÚLTIMA posição:', valores[-1])\n",
    "print('Elemento na PENÚLTIMA posição:', valores[-2])\n",
    "\n",
    "print('\\n', '-' * 80, sep='')"
   ]
  },
  {
   "cell_type": "code",
   "execution_count": 7,
   "metadata": {},
   "outputs": [
    {
     "name": "stdout",
     "output_type": "stream",
     "text": [
      "Antes: ['abobrinha', 2, 3, 5, 7, 'chuchu', 9, 11, 'batata', 'tomate', True, 'cebola', 29]\n",
      "Depois: ['beterraba', 2, 3, 5, 7, 'chuchu', 9, 11, 'batata', 'tomate', 'cenoura', 'cebola', 'alho']\n",
      "\n",
      "--------------------------------------------------------------------------------\n"
     ]
    }
   ],
   "source": [
    "# 5) SUBSTITUINDO VALORES EXISTENTES\n",
    "print('Antes:', valores)\n",
    "valores[10] = 'cenoura'     # Substituindo o valor da posição 10 (11º elemento)\n",
    "valores[0] = 'beterraba'    # Substituindo o valor da posição 0 (1º elemento)\n",
    "valores[-1] = 'alho'        # Substituindo o valor da última posição\n",
    "print('Depois:', valores)\n",
    "\n",
    "print('\\n', '-' * 80, sep='')"
   ]
  }
 ],
 "metadata": {
  "kernelspec": {
   "display_name": "Python 3",
   "language": "python",
   "name": "python3"
  },
  "language_info": {
   "codemirror_mode": {
    "name": "ipython",
    "version": 3
   },
   "file_extension": ".py",
   "mimetype": "text/x-python",
   "name": "python",
   "nbconvert_exporter": "python",
   "pygments_lexer": "ipython3",
   "version": "3.10.7"
  },
  "orig_nbformat": 4,
  "vscode": {
   "interpreter": {
    "hash": "916dbcbb3f70747c44a77c7bcd40155683ae19c65e1c03b4aa3499c5328201f1"
   }
  }
 },
 "nbformat": 4,
 "nbformat_minor": 2
}
